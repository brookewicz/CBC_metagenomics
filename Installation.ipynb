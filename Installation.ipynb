{
 "cells": [
  {
   "cell_type": "markdown",
   "id": "7f7f6109-4c59-4c27-a498-2742f261f365",
   "metadata": {},
   "source": [
    "Installation "
   ]
  },
  {
   "cell_type": "markdown",
   "id": "c699c605-95a2-47b4-8609-81f37470e205",
   "metadata": {},
   "source": [
    "Installing packages for anvio "
   ]
  },
  {
   "cell_type": "code",
   "execution_count": null,
   "id": "8f43972a-67e9-4574-b7c4-ae44e181587a",
   "metadata": {},
   "outputs": [],
   "source": [
    "module load miniconda/4.11.0\n",
    "conda create -y --name anvio-7.1 python=3.6\n",
    "#Dir //"
   ]
  },
  {
   "cell_type": "code",
   "execution_count": null,
   "id": "c9b58ccc-1ce4-4ce5-a194-548fdb31d1b4",
   "metadata": {},
   "outputs": [],
   "source": [
    "conda activate anvio-7.1"
   ]
  },
  {
   "cell_type": "code",
   "execution_count": null,
   "id": "71339b44-9cb1-4c22-8817-80ee66ffa2d6",
   "metadata": {
    "tags": []
   },
   "outputs": [],
   "source": [
    "conda install -y -c bioconda \"sqlite>=3.31.1\"\n",
    "conda install -y -c bioconda prodigal\n",
    "conda install -y -c bioconda mcl\n",
    "conda install -y -c bioconda muscle=3.8.1551\n",
    "conda install -y -c bioconda hmmer\n",
    "conda install -y -c bioconda diamond\n",
    "conda install -y -c bioconda blast\n",
    "conda install -y -c bioconda megahit\n",
    "conda install -y -c bioconda spades\n",
    "conda install -y -c bioconda bowtie2 tbb=2019.8\n",
    "conda install -y -c bioconda bwa\n",
    "conda install -y -c bioconda samtools=1.9\n",
    "conda install -y -c bioconda centrifuge\n",
    "conda install -y -c bioconda trimal\n",
    "conda install -y -c bioconda iqtree\n",
    "conda install -y -c bioconda trnascan-se\n",
    "conda install -y -c bioconda r-base\n",
    "conda install -y -c bioconda r-stringi\n",
    "conda install -y -c bioconda r-tidyverse\n",
    "conda install -y -c bioconda r-magrittr\n",
    "conda install -y -c bioconda r-optparse\n",
    "conda install -y -c bioconda bioconductor-qvalue\n",
    "conda install -y -c bioconda fasttree\n",
    "conda install -y -c bioconda vmatch\n",
    "\n",
    "# this last one may cause some issues. if it doesn't install,\n",
    "# don't worry, you will still be fine:\n",
    "conda install -y -c bioconda fastani"
   ]
  },
  {
   "cell_type": "code",
   "execution_count": null,
   "id": "e299f939-a98a-4eee-bfd2-11c7249db5b3",
   "metadata": {},
   "outputs": [],
   "source": [
    "curl -L https://github.com/merenlab/anvio/releases/download/v7.1/anvio-7.1.tar.gz \\\n",
    "        --output anvio-7.1.tar.gz\n",
    "pip install anvio-7.1.tar.gz\n",
    "#move to project or personal Dir or won't download in Unity "
   ]
  }
 ],
 "metadata": {
  "kernelspec": {
   "display_name": "Python 3 (ipykernel)",
   "language": "python",
   "name": "python3"
  },
  "language_info": {
   "codemirror_mode": {
    "name": "ipython",
    "version": 3
   },
   "file_extension": ".py",
   "mimetype": "text/x-python",
   "name": "python",
   "nbconvert_exporter": "python",
   "pygments_lexer": "ipython3",
   "version": "3.11.3"
  }
 },
 "nbformat": 4,
 "nbformat_minor": 5
}
