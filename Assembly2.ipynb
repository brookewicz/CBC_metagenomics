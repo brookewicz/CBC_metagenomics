{
 "cells": [
  {
   "cell_type": "code",
   "execution_count": null,
   "id": "899c9106-df34-4039-bdc6-28b98d840143",
   "metadata": {},
   "outputs": [],
   "source": [
    "module load miniconda/4.11.0\n",
    "conda activate assembly\n",
    "#i think have to activate before - not in bash script?"
   ]
  },
  {
   "cell_type": "code",
   "execution_count": null,
   "id": "59f494f0-ae90-40fa-a6c6-5ab741bed317",
   "metadata": {},
   "outputs": [],
   "source": [
    "SAMPLENAME=mcav\n",
    "OUTDIR=\"$SAMPLENAME\"_assembly\n",
    "READSPATH=/project/pi_sarah_gignouxwolfsohn_uml_edu/brooke/trimmed/"
   ]
  },
  {
   "cell_type": "code",
   "execution_count": null,
   "id": "66a702c7-382c-435e-a6b8-0b6fa525a768",
   "metadata": {},
   "outputs": [],
   "source": [
    "cat \"$READSPATH\"/T3_1_2022_MCAV_R1_001_val_1.fq \"$READSPATH\"/mcav_reads_R1_ALL.fastq > /project/pi_sarah_gignouxwolfsohn_uml_edu/brooke/working/\"$SAMPLENAME\"_reads_R1_ALL.fastq \\\n",
    "cat \"$READSPATH\"/T3_1_2022_MCAV_R2_001_val_2.fq \"$READSPATH\"/mcav_reads_R2_ALL.fastq > /project/pi_sarah_gignouxwolfsohn_uml_edu/brooke/working/\"$SAMPLENAME\"_reads_R2_ALL.fastq\n",
    "#adding missing sample\n",
    "##mcav_reads_R1_ALL.fastq & (R2) in ../brooke/working include sample that was missing (T3_1_2022)\n",
    "##mcav_reads_R1_ALL.fastq & (R2) in ../brooke/trimmed & results in ../brooke/results/mcav_assembly are missing the (T3_1_2022) sample"
   ]
  },
  {
   "cell_type": "code",
   "execution_count": null,
   "id": "f20e6730-4955-49f6-a6e2-217982009f69",
   "metadata": {},
   "outputs": [],
   "source": [
    "#was missing one sample so redoing\n",
    "\n",
    "#!/bin/bash\n",
    "#SBATCH -c 24  # Number of Cores per Task\n",
    "#SBATCH --mem=180G  # Requested Memory\n",
    "#SBATCH -p cpu-long  # Partition\n",
    "#SBATCH -t 56:00:00  # Job time limit\n",
    "#SBATCH --mail-type=ALL\n",
    "#SBATCH -o slurm-%j.out  # %j = job ID\n",
    "\n",
    "module load miniconda/4.11.0\n",
    "conda activate assembly\n",
    "\n",
    "SAMPLENAME=mcav\n",
    "OUTDIR=\"$SAMPLENAME\"_assembly2\n",
    "READSPATH=/project/pi_sarah_gignouxwolfsohn_uml_edu/brooke/working\n",
    "\n",
    "megahit --presets meta-large \\\n",
    "-1 \"$READSPATH\"/\"$SAMPLENAME\"_reads_R1_ALL.fq \\\n",
    "-2 \"$READSPATH\"/\"$SAMPLENAME\"_reads_R2_ALL.fq \\\n",
    "--keep-tmp-files \\\n",
    "-o /project/pi_sarah_gignouxwolfsohn_uml_edu/brooke/results/$OUTDIR \\\n",
    "#bash.sh = ../working/batch_assembly"
   ]
  },
  {
   "cell_type": "markdown",
   "id": "fdbcc13f",
   "metadata": {},
   "source": [
    "Error Message: CommandNotFoundError: Your shell has not been properly configured to use 'conda activate'.\n",
    "To initialize your shell, run\n",
    "\n",
    "    $ conda init <SHELL_NAME>"
   ]
  },
  {
   "cell_type": "code",
   "execution_count": null,
   "id": "272a7824",
   "metadata": {},
   "outputs": [],
   "source": [
    "#loading newer version of miniconda, recreating conda env\n",
    "module load miniconda/22.11.1-1\n",
    "conda create -n assembly\n",
    "conda activate assembly\n",
    "conda install -c bioconda megahit\n",
    "conda install -c bioconda quast"
   ]
  },
  {
   "cell_type": "code",
   "execution_count": null,
   "id": "30effd8c",
   "metadata": {},
   "outputs": [],
   "source": [
    "#!/bin/bash\n",
    "#SBATCH -c 24  # Number of Cores per Task\n",
    "#SBATCH --mem=180G  # Requested Memory\n",
    "#SBATCH -p cpu-long  # Partition\n",
    "#SBATCH -t 56:00:00  # Job time limit\n",
    "#SBATCH --mail-type=ALL\n",
    "#SBATCH -o slurm-%j.out  # %j = job ID\n",
    "\n",
    "module load miniconda/22.11.1-1\n",
    "conda activate assembly\n",
    "\n",
    "SAMPLENAME=mcav\n",
    "OUTDIR=\"$SAMPLENAME\"_assembly2\n",
    "READSPATH=/project/pi_sarah_gignouxwolfsohn_uml_edu/brooke/working\n",
    "\n",
    "megahit --presets meta-large \\\n",
    "-1 \"$READSPATH\"/\"$SAMPLENAME\"_reads_R1_ALL.fastq \\\n",
    "-2 \"$READSPATH\"/\"$SAMPLENAME\"_reads_R2_ALL.fastq \\\n",
    "--keep-tmp-files \\\n",
    "-o /project/pi_sarah_gignouxwolfsohn_uml_edu/brooke/results/$OUTDIR --out-prefix $SAMPLENAME \\\n",
    "#this output creates the directory..CANNOT already exist\n",
    "#JOB-ID 9409022\n",
    "\n",
    "#job failed w/ python exit code of 120, no output slurm file - adding hard path "
   ]
  },
  {
   "cell_type": "code",
   "execution_count": null,
   "id": "41b31329",
   "metadata": {},
   "outputs": [],
   "source": [
    "#!/bin/bash\n",
    "#SBATCH -c 24  # Number of Cores per Task\n",
    "#SBATCH --mem=180G  # Requested Memory\n",
    "#SBATCH -p cpu-long  # Partition\n",
    "#SBATCH -t 56:00:00  # Job time limit\n",
    "#SBATCH --mail-type=ALL\n",
    "#SBATCH -o /project/pi_sarah_gignouxwolfsohn_uml_edu/brooke/results/slurm-%j.out  # %j = job ID\n",
    "\n",
    "module load miniconda/22.11.1-1\n",
    "conda activate assembly\n",
    "\n",
    "SAMPLENAME=mcav\n",
    "OUTDIR=\"$SAMPLENAME\"_assembly3\n",
    "READSPATH=/project/pi_sarah_gignouxwolfsohn_uml_edu/brooke/working\n",
    "\n",
    "megahit --presets meta-large \\\n",
    "-1 \"$READSPATH\"/\"$SAMPLENAME\"_reads_R1_ALL.fastq \\\n",
    "-2 \"$READSPATH\"/\"$SAMPLENAME\"_reads_R2_ALL.fastq \\\n",
    "--keep-tmp-files \\\n",
    "-o /project/pi_sarah_gignouxwolfsohn_uml_edu/brooke/results/$OUTDIR --out-prefix $SAMPLENAME \\\n",
    "#file: ~/working/batch_assembly3\n",
    "#JOB ID:9455281"
   ]
  }
 ],
 "metadata": {
  "kernelspec": {
   "display_name": "Python 3 (ipykernel)",
   "language": "python",
   "name": "python3"
  },
  "language_info": {
   "codemirror_mode": {
    "name": "ipython",
    "version": 3
   },
   "file_extension": ".py",
   "mimetype": "text/x-python",
   "name": "python",
   "nbconvert_exporter": "python",
   "pygments_lexer": "ipython3",
   "version": "3.11.3"
  }
 },
 "nbformat": 4,
 "nbformat_minor": 5
}
