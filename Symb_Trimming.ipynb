{
 "cells": [
  {
   "cell_type": "markdown",
   "id": "e6c79191-7c4b-4a43-96d6-7b469a88884e",
   "metadata": {},
   "source": [
    "Cutadapt \n",
    "- using SYM_VAR primers to extract symbiodinium (symbiont)seqs from original raw sequences \n",
    "- SYM_VAR primer seqs from (Hume et al 2018)\n",
    "https://cutadapt.readthedocs.io/en/stable/guide.html#five-prime-adapters"
   ]
  },
  {
   "cell_type": "code",
   "execution_count": null,
   "id": "cf6836a9-c260-42ac-91e3-b8aee173181b",
   "metadata": {},
   "outputs": [],
   "source": [
    "ADAPT1 = \n",
    "ADAPT2 = \n",
    "\n",
    "ls *.fastq.gz\n",
    "for f in \n",
    "cutadapt -a ^ADAPT1...ADAPT2$ -o trimmed_ITS2/\"f\"R1_001.fastq -p - --cores=N 3 --trimmed-only \"f\"R1_001.fastq.gz \"f\"R2_001.fastq.gz\n",
    "#-a^$ anchors linked adapters-both required \n",
    "#trimmed-only - only keeps reads where the adapters were found\n",
    "#--paired-output"
   ]
  },
  {
   "cell_type": "markdown",
   "id": "f720abba-2c52-4a8a-beed-19ec7dad327b",
   "metadata": {},
   "source": [
    "\n"
   ]
  }
 ],
 "metadata": {
  "kernelspec": {
   "display_name": "Python 3 (ipykernel)",
   "language": "python",
   "name": "python3"
  },
  "language_info": {
   "codemirror_mode": {
    "name": "ipython",
    "version": 3
   },
   "file_extension": ".py",
   "mimetype": "text/x-python",
   "name": "python",
   "nbconvert_exporter": "python",
   "pygments_lexer": "ipython3",
   "version": "3.11.0"
  }
 },
 "nbformat": 4,
 "nbformat_minor": 5
}
