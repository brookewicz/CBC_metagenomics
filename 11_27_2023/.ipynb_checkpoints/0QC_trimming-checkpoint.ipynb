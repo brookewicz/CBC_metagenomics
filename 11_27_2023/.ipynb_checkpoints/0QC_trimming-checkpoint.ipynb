{
 "cells": [
  {
   "cell_type": "markdown",
   "id": "4a72e484-4f38-4311-a545-a1e88ec65b87",
   "metadata": {
    "tags": []
   },
   "source": [
    "### QC/trimming 11/27/23 sequenced samples\n",
    "- PSTR, OFAV, OANN"
   ]
  },
  {
   "cell_type": "code",
   "execution_count": null,
   "id": "f1914860-b90f-4016-88e9-aded58358476",
   "metadata": {},
   "outputs": [],
   "source": [
    "#INSTALLATION\n",
    "module load miniconda/22.11.1-1\n",
    "conda create -n qc\n",
    "conda activate qc\n",
    "conda install -c bioconda trim-galore"
   ]
  },
  {
   "cell_type": "code",
   "execution_count": null,
   "id": "e6beb356-1e04-4490-b666-77e94b1fb680",
   "metadata": {},
   "outputs": [],
   "source": [
    "cd $FILEPATH \n",
    "ls *R1_001.fastq.gz -1 | sed 's/R1_001\\.fastq\\.gz//'\n",
    "#manually put in 'sample_names'.txt because CANNOT figure out how to do it via command line...keep getting permissions error "
   ]
  },
  {
   "cell_type": "code",
   "execution_count": null,
   "id": "ecc6ac2e-321c-400f-957a-3a5c4ba238af",
   "metadata": {},
   "outputs": [],
   "source": [
    "#!/bin/bash\n",
    "#SBATCH -c 24  # Number of Cores per Task\n",
    "#SBATCH --mem=50G  # Requested Memory\n",
    "#SBATCH -p cpu  # Partition\n",
    "#SBATCH -t 20:00:00  # Job time limit\n",
    "#SBATCH --mail-type=ALL\n",
    "#SBATCH -o /project/pi_sarah_gignouxwolfsohn_uml_edu/brooke/11_2023bash_scripts/slurm-%j.out  # %j = job ID\n",
    "\n",
    "module load miniconda/22.11.1-1\n",
    "conda activate qc\n",
    "\n",
    "FILEPATH='/project/pi_sarah_gignouxwolfsohn_uml_edu/Raw_sequences/SCTLD_raw/11272023'                                                                                                                                                                                                     \n",
    "OUTPUT_WORKING='working/11272023'                                                                                                                                                                                                 \n",
    "OUTPUT_RESULTS='working/11272023/trimmed'                                                                                                                                                                                                 \n",
    "NSLOTS=5                                                                                                                                                                                                                              \n",
    "                                                                                                                                                                                                                                 \n",
    "#this line creates a file that gives all the filenames in the directory with the data, without the suffixes added by the sequencer                                                                                               \n",
    "#ls $FILEPATH/*.fastq.gz -1 | sed 's/_R*_001.fastq.gz//' > $OUTPUT_WORKING/'11272023_samples.txt'  \n",
    "#remove \"undetermined\" F & R seqs\n",
    "#head -n -2 '11272023_samples.txt' > temp_file.txt && mv temp_file.txt '11272023_samples.txt' \n",
    "\n",
    "\n",
    "LINES=$(cat \"$OUTPUT_WORKING\"/'sample_names.txt')\n",
    "                                                                                                                                                                                                                                 \n",
    "#this loop removes adapter sequences and then quality checks the sequences and outputs a QC file                                                                                                                                                                                                                                                                                                            \n",
    "for f in sample_names.txt                                                                                                                                                                                                               \n",
    "do                                                                                                                                                                                                                               \n",
    "    trim_galore -j $NSLOTS -q 20 --phred33 --fastqc --illumina --length 20 --paired \"$f\"R1_001.fastq.gz \"$f\"R2_001.fastq.gz;                                                                           \n",
    "    fastqc -o $OUTPUT_RESULTS -t $NSLOTS \"$f\"R*_001.fastq.gz                                                                                                                                                        \n",
    "done          \n",
    "\n",
    "#bash script: qc\n",
    "#JOB ID = 15853012\n"
   ]
  },
  {
   "cell_type": "code",
   "execution_count": null,
   "id": "4c8fa21f-b27f-41dc-a16c-1f5fafc7416a",
   "metadata": {},
   "outputs": [],
   "source": [
    "# Trying chatgbt code since I can't get it"
   ]
  },
  {
   "cell_type": "code",
   "execution_count": null,
   "id": "91a2a342-b8fc-4155-b4ea-965deacca756",
   "metadata": {},
   "outputs": [],
   "source": [
    "#!/bin/bash\n",
    "#SBATCH -c 24  # Number of Cores per Task\n",
    "#SBATCH --mem=50G  # Requested Memory\n",
    "#SBATCH -p cpu  # Partition\n",
    "#SBATCH -t 20:00:00  # Job time limit\n",
    "#SBATCH --mail-type=ALL\n",
    "#SBATCH -o /project/pi_sarah_gignouxwolfsohn_uml_edu/brooke/11_2023bash_scripts/slurm-%j.out  # %j = job ID\n",
    "\n",
    "module load miniconda/22.11.1-1\n",
    "conda activate qc\n",
    "\n",
    "# Define the paths and variables\n",
    "FILEPATH='/project/pi_sarah_gignouxwolfsohn_uml_edu/Raw_sequences/SCTLD_raw/11272023'   # Replace with the actual path\n",
    "OUTPUT_RESULTS='working/11272023trimmed' # Replace with the desired output directory\n",
    "NSLOTS=8  # Replace with the desired number of slots\n",
    "\n",
    "# Assuming sample_names.txt is in the same directory as the script\n",
    "SAMPLE_NAMES_FILE=\"/project/pi_sarah_gignouxwolfsohn_uml_edu/brooke/working/11272023/sample_names.txt\"\n",
    "\n",
    "# Check if the file exists\n",
    "if [ ! -e \"$SAMPLE_NAMES_FILE\" ]; then\n",
    "    echo \"Error: $SAMPLE_NAMES_FILE does not exist.\"\n",
    "    exit 1\n",
    "fi\n",
    "\n",
    "# Read each line from the file and perform actions\n",
    "while IFS= read -r sample_id; do\n",
    "    # Form the full file names\n",
    "    input_r1=\"$FILEPATH/${sample_id}R1_001.fastq.gz\"\n",
    "    input_r2=\"$FILEPATH/${sample_id}R2_001.fastq.gz\"\n",
    "    \n",
    "    # Ensure the input files exist before running the tools\n",
    "    if [ ! -e \"$input_r1\" ] || [ ! -e \"$input_r2\" ]; then\n",
    "        echo \"Error: Input files do not exist for sample $sample_id\"\n",
    "        continue\n",
    "    fi\n",
    "\n",
    "    # Run trim_galore\n",
    "    trim_galore -j \"$NSLOTS\" -q 20 --phred33 --fastqc --illumina --length 20 --paired \"$input_r1\" \"$input_r2\"\n",
    "\n",
    "    # Run fastqc\n",
    "    fastqc -o \"$OUTPUT_RESULTS\" -t \"$NSLOTS\" \"$input_r1\" \"$input_r2\"\n",
    "\n",
    "done < \"$SAMPLE_NAMES_FILE\"\n",
    "\n",
    "# JOB-ID: 15853044"
   ]
  },
  {
   "cell_type": "markdown",
   "id": "6ebbce6d-fc71-4d5e-8b97-c1901756d049",
   "metadata": {},
   "source": [
    "### Misc Samples\n",
    "- PASTS samples in 04/14/23 folder \n",
    "    - (supposed to be alongside MCAV from mcav1 dir)\n",
    "- also grabbing pilot seqs"
   ]
  },
  {
   "cell_type": "code",
   "execution_count": null,
   "id": "5e72a284-7af6-4c27-ab8d-6565dea4a734",
   "metadata": {},
   "outputs": [],
   "source": [
    "FILEPATH='/project/pi_sarah_gignouxwolfsohn_uml_edu/Raw_sequences/SCTLD_raw/04142023'\n",
    "OUTPUT_WORKING='/project/pi_sarah_gignouxwolfsohn_uml_edu/brooke/trimmed/pilot_past'\n",
    "OUTPUT_RESULTS='/project/pi_sarah_gignouxwolfsohn_uml_edu/brooke/trimmed/pilot_past'\n",
    "NSLOTS=5\n",
    "\n",
    "#this line creates a file that gives all the filenames in the directory with the data, without the suffixes added by the sequencer\n",
    "ls $FILEPATH/*.fastq.gz -1 | sed 's/_R*_001.fastq.gz//' |cat > $OUTPUT_WORKING/sample_names.txt\n",
    "\n",
    "\n",
    "#this loop removes adapter sequences and then quality checks the sequences and outputs a QC file\n",
    "LINES=$(cat \"$OUTPUT_WORKING\"/'sample_names.txt') \n",
    "for f in $OUTPUT_WORKING/sample_names.txt \n",
    "do \n",
    "    trim_galore -q 20 --phred33 --fastqc --illumina --length 20 --paired \"$f\"_R1_001.fastq \"$f\"_R2_001.fastq;\n",
    "    fastqc -o $OUTPUT_RESULTS -t $NSLOTS \"$f\"_R*_001.fastq.gz\n",
    "done\n",
    "\n",
    "FILEPATH='/project/pi_sarah_gignouxwolfsohn_uml_edu/Raw_sequences/SCTLD_raw/pilot'\n",
    "OUTPUT_WORKING='/project/pi_sarah_gignouxwolfsohn_uml_edu/brooke/trimmed/pilot_past'\n",
    "OUTPUT_RESULTS='/project/pi_sarah_gignouxwolfsohn_uml_edu/brooke/trimmed/pilot_past'\n",
    "\n",
    "\n",
    "#this line creates a file that gives all the filenames in the directory with the data, without the suffixes added by the sequencer\n",
    "ls $FILEPATH/*.fastq.gz -1 | sed 's/_R*_001.fastq.gz//' |print $OUTPUT_WORKING/pilot_sample_names.txt\n",
    "\n",
    "\n",
    "#this loop removes adapter sequences and then quality checks the sequences and outputs a QC file\n",
    "LINES=$(cat \"$OUTPUT_WORKING\"/'pilot_sample_names.txt') \n",
    "for f in $OUTPUT_WORKING/pilot_sample_names.txt \n",
    "do \n",
    "    trim_galore -q 20 --phred33 --fastqc --illumina --length 20 --paired \"$f\"_R1_001.fastq \"$f\"_R2_001.fastq;\n",
    "    fastqc -o $OUTPUT_RESULTS -t $NSLOTS \"$f\"_R*_001.fastq.gz\n",
    "done"
   ]
  },
  {
   "cell_type": "markdown",
   "id": "30f11c59-652d-4790-9b78-f7aedcf718c3",
   "metadata": {},
   "source": [
    "### Misc code"
   ]
  },
  {
   "cell_type": "code",
   "execution_count": null,
   "id": "a6353ca6-a828-400c-828c-26ae2ea90883",
   "metadata": {},
   "outputs": [],
   "source": [
    "#find unique sample IDs in new raw seqs 11272023\n",
    "ls | grep -i 'R1_001.fastq.gz' | grep -v '.md5' > //project/pi_sarah_gignouxwolfsohn_uml_edu/brooke/working/11272023/11-23-samples.txt\n",
    "#ex:\n",
    "ls $FILEPATH/*.fastq.gz -1 | sed 's/_R*_001.fastq.gz//' |cat > $OUTPUT_WORKING/sample_names.txt\n",
    "\n",
    "cut -d_ -f 1-4 old_file\n",
    "This simply means use _ as delimiter, and keep fields 1-4.\n",
    "set2T3_7_2019_PAST_S61_R2_001.fastq.gz\n",
    "\n",
    "ls $FILEPATH/*_PAST_*.fastq.gz -1 | sed 's/.*set2\\(.*\\)_PAST_.*_R.*_001\\.fastq.gz/\\1/' | sed 's/set2//' > $OUTPUT_WORKING/sample_names.txt\n",
    "\n",
    "#specifically past samples in 041423 \n",
    "ls $FILEPATH/*_PAST_*.fastq.gz -1 | sed 's/set2//' | cut -d_ -f 2-5,7 | cat > $OUTPUT_WORKING/sample_names.txt"
   ]
  }
 ],
 "metadata": {
  "kernelspec": {
   "display_name": "Python 3 (ipykernel)",
   "language": "python",
   "name": "python3"
  },
  "language_info": {
   "codemirror_mode": {
    "name": "ipython",
    "version": 3
   },
   "file_extension": ".py",
   "mimetype": "text/x-python",
   "name": "python",
   "nbconvert_exporter": "python",
   "pygments_lexer": "ipython3",
   "version": "3.11.0"
  }
 },
 "nbformat": 4,
 "nbformat_minor": 5
}
