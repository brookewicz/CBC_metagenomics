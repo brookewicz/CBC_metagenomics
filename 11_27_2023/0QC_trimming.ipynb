{
 "cells": [
  {
   "cell_type": "markdown",
   "id": "4a72e484-4f38-4311-a545-a1e88ec65b87",
   "metadata": {
    "tags": []
   },
   "source": [
    "### QC/trimming 11/27/23 sequenced samples\n",
    "- PSTR, OFAV, OANN"
   ]
  },
  {
   "cell_type": "code",
   "execution_count": null,
   "id": "f1914860-b90f-4016-88e9-aded58358476",
   "metadata": {},
   "outputs": [],
   "source": [
    "#INSTALLATION\n",
    "module load miniconda/22.11.1-1\n",
    "conda create -n qc\n",
    "conda activate qc\n",
    "conda install -c bioconda trim-galore"
   ]
  },
  {
   "cell_type": "code",
   "execution_count": null,
   "id": "91a2a342-b8fc-4155-b4ea-965deacca756",
   "metadata": {},
   "outputs": [],
   "source": [
    "#!/bin/bash\n",
    "#SBATCH -c 24  # Number of Cores per Task\n",
    "#SBATCH --mem=50G  # Requested Memory\n",
    "#SBATCH -p cpu  # Partition\n",
    "#SBATCH -t 24:00:00  # Job time limit\n",
    "#SBATCH --mail-type=ALL\n",
    "#SBATCH -o /project/pi_sarah_gignouxwolfsohn_uml_edu/brooke/11_2023bash_scripts/slurm-%j.out  # %j = job ID\n",
    "\n",
    "module load miniconda/22.11.1-1\n",
    "conda activate qc\n",
    "\n",
    "mkdir 11272023/trimmed/redo_01222023\n",
    "# Define the paths and variables\n",
    "FILEPATH='/project/pi_sarah_gignouxwolfsohn_uml_edu/Raw_sequences/SCTLD_raw/11272023'\n",
    "OUTPUT_RESULTS='11272023/trimmed/redo_01222023' \n",
    "NSLOTS=4  \n",
    "\n",
    "# Create txt file with sampleids\n",
    "ls $FILEPATH -1 | sed 's/_R.*_001.fastq//' | uniq | cat > $OUTPUT_RESULTS/'11272023_sampleids.txt'\n",
    "# keep unique sampleids \n",
    "#uniq pilot_past/pilot_past.txt > pilot_past/pilot_sampleids.txt\n",
    "\n",
    "SAMPLE_NAMES_FILE=\"/project/pi_sarah_gignouxwolfsohn_uml_edu/brooke/11272023/trimmed/redo_01222023/11272023_sampleids.txt\"\n",
    "\n",
    "# Check if the file exists\n",
    "if [ ! -e \"$SAMPLE_NAMES_FILE\" ]; then\n",
    "    echo \"Error: $SAMPLE_NAMES_FILE does not exist.\"\n",
    "    exit 1\n",
    "fi\n",
    "\n",
    "# Read each line from the file and perform actions\n",
    "while IFS= read -r sample_id; do\n",
    "    # Form the full file names\n",
    "    input_r1=\"$FILEPATH/${sample_id}R1_001.fastq.gz\"\n",
    "    input_r2=\"$FILEPATH/${sample_id}R2_001.fastq.gz\"\n",
    "    \n",
    "    # Ensure the input files exist before running the tools\n",
    "    if [ ! -e \"$input_r1\" ] || [ ! -e \"$input_r2\" ]; then\n",
    "        echo \"Error: Input files do not exist for sample $sample_id\"\n",
    "        continue\n",
    "    fi\n",
    "\n",
    "    # Run trim_galore\n",
    "    trim_galore -j \"$NSLOTS\" -q 20 --phred33 --illumina --length 20 --paired \"$input_r1\" \"$input_r2\" -o $OUTPUT_RESULTS --dont_gzip\n",
    "\n",
    "\n",
    "done < \"$SAMPLE_NAMES_FILE\"\n",
    "\n",
    "# JOB-ID: \n",
    "#trimmed read seqs in folder: /project/pi_sarah_gignouxwolfsohn_uml_edu/brooke/working/11272023/trimmed"
   ]
  },
  {
   "cell_type": "markdown",
   "id": "6ebbce6d-fc71-4d5e-8b97-c1901756d049",
   "metadata": {},
   "source": [
    "### Misc Samples\n",
    "- HAVE NOT RUN YET 12/11/23\n",
    "- PASTS samples in 04/14/23 folder \n",
    "    - (supposed to be alongside MCAV from mcav1 dir)\n",
    "- also grabbing pilot seqs"
   ]
  },
  {
   "cell_type": "code",
   "execution_count": null,
   "id": "3b9dfd8c-eac2-412c-bc0d-552c3bdbe68c",
   "metadata": {},
   "outputs": [],
   "source": [
    "# edit pilot seq names to remove what the sequencer added\n",
    "\n",
    "#file names to edit:\n",
    "#T3-21-Mmea_S96_L001\n",
    "#T3-21-Mmea_S96_L001\n",
    "#T3-4-Past_S113_L001\n",
    "#T3-4-Past_S113_L001\n",
    "\n",
    "# working in dir: '/project/pi_sarah_gignouxwolfsohn_uml_edu/Raw_sequences/SCTLD_raw/pilot_copy' \n",
    "for file in *; do\n",
    "    new_name=$(echo \"$file\" | sed 's/_S.*_L001//' | sed 's/-/_/g')\n",
    "    mv \"$file\" \"$new_name\"\n",
    "done\n"
   ]
  },
  {
   "cell_type": "code",
   "execution_count": null,
   "id": "c64386ee-9b42-41b1-b796-47aa851b7197",
   "metadata": {},
   "outputs": [],
   "source": [
    "# edit past seq names to remove what the sequencer added\n",
    "# in 04142023 dir\n",
    "\n",
    "#ex of filenames to edit:\n",
    "# set2T1_1_2019_PAST_S60_R1_001.fastq.gz\n",
    "# set2T1_1_2019_PAST_S60_R2_001.fastq.gz\n",
    "\n",
    "# working in dir: '/project/pi_sarah_gignouxwolfsohn_uml_edu/Raw_sequences/SCTLD_raw/04142023'\n",
    "#mcav samples have already been trimmed, and there are repeat samples with '.md5' endings\n",
    "#so, copy all 'past' files with .fastq.gz extensions to new folder\n",
    "ls *PAST*.fastq.gz -1 | xargs -I {} cp {} /project/pi_sarah_gignouxwolfsohn_uml_edu/Raw_sequences/SCTLD_raw/pilot_copy\n",
    "\n",
    "#move to dir pilot_copy\n",
    "for file in *PAST*.fastq.gz; do\n",
    "    new_name=$(echo \"$file\" | sed 's/set2//;s/_S[0-9]*//')\n",
    "    mv \"$file\" \"$new_name\"\n",
    "    gunzip \"$new_name\"\n",
    "done"
   ]
  },
  {
   "cell_type": "code",
   "execution_count": null,
   "id": "5e72a284-7af6-4c27-ab8d-6565dea4a734",
   "metadata": {},
   "outputs": [],
   "source": [
    "#!/bin/bash\n",
    "#SBATCH -c 24  # Number of Cores per Task\n",
    "#SBATCH --mem=50G  # Requested Memory\n",
    "#SBATCH -p cpu  # Partition\n",
    "#SBATCH -t 24:00:00  # Job time limit\n",
    "#SBATCH --mail-type=ALL\n",
    "#SBATCH -o /project/pi_sarah_gignouxwolfsohn_uml_edu/brooke/bash_scripts/slurm-%j-pilot_past_qc.out  # %j = job ID\n",
    "\n",
    "\n",
    "# PILOT & PAST SEQS combined into one dir now:\n",
    "\n",
    "FILEPATH='/project/pi_sarah_gignouxwolfsohn_uml_edu/Raw_sequences/SCTLD_raw/pilot_copy'\n",
    "OUTPUT_WORKING='/project/pi_sarah_gignouxwolfsohn_uml_edu/brooke/pilot_past'\n",
    "OUTPUT_RESULTS='/project/pi_sarah_gignouxwolfsohn_uml_edu/brooke/pilot_past/trimmed'\n",
    "NSLOTS=5\n",
    "\n",
    "module load miniconda/22.11.1-1\n",
    "conda activate qc \n",
    "\n",
    "# this line creates a file that gives all the filenames in the directory with the data, without the suffixes added by the sequencer\n",
    "#ls $FILEPATH -1 | sed 's/_R.*_001.fastq//' | cat > $OUTPUT_WORKING/'pilot_past.txt'\n",
    "# keep unique sampleids \n",
    "#uniq pilot_past/pilot_past.txt > pilot_past/pilot_sampleids.txt\n",
    "\n",
    "SAMPLE_NAMES_FILE=\"/project/pi_sarah_gignouxwolfsohn_uml_edu/brooke/pilot_past/pilot_sampleids.txt\"\n",
    "\n",
    "# Check if the file exists\n",
    "if [ ! -e \"$SAMPLE_NAMES_FILE\" ]; then\n",
    "    echo \"Error: $SAMPLE_NAMES_FILE does not exist.\"\n",
    "    exit 1\n",
    "fi\n",
    "\n",
    "# Read each line from the file and perform actions\n",
    "while IFS= read -r sample_id || [ -n \"$sample_id\" ]; do\n",
    "    # Form the full file names\n",
    "    input_r1=\"$FILEPATH/${sample_id}_R1_001.fastq\"\n",
    "    input_r2=\"$FILEPATH/${sample_id}_R2_001.fastq\"\n",
    "    \n",
    "    # Ensure the input files exist before running the tools\n",
    "    if [ ! -e \"$input_r1\" ] || [ ! -e \"$input_r2\" ]; then\n",
    "        echo \"Error: Input files do not exist for sample $sample_id\"\n",
    "        continue\n",
    "    fi\n",
    "\n",
    "    # Run trim_galore\n",
    "    trim_galore -j \"$NSLOTS\" -q 20 --phred33 --illumina --length 20 --paired $input_r1 $input_r2 --fastqc -o $OUTPUT_RESULTS --dont_gzip\n",
    "\n",
    "    # Run fastqc...already included in script above ?\n",
    "    fastqc -o \"$OUTPUT_RESULTS\" -t \"$NSLOTS\" \"$input_r1\" \"$input_r2\"\n",
    "\n",
    "done < \"$SAMPLE_NAMES_FILE\"\n",
    "\n",
    "# JOB-ID: 17115682\n",
    "#trimmed read seqs in folder: brooke/pilot_past/trimmed"
   ]
  },
  {
   "cell_type": "markdown",
   "id": "356dd3b7-447b-477a-a204-d64291b8a753",
   "metadata": {},
   "source": [
    "### Fastqc info "
   ]
  },
  {
   "cell_type": "markdown",
   "id": "e320ab2a-124b-47d3-8041-b76dbac24b1e",
   "metadata": {},
   "source": [
    "https://hbctraining.github.io/Intro-to-rnaseq-hpc-salmon/lessons/qc_fastqc_assessment.html\n",
    "\n",
    "https://www.bioinformatics.babraham.ac.uk/projects/fastqc/"
   ]
  },
  {
   "cell_type": "markdown",
   "id": "44690373-9b85-4ade-973b-92a96cc804bb",
   "metadata": {},
   "source": [
    "fastqc checklist for pilot_past seqs \n",
    "T1_1_2019_PAST  - R1 DONE\n",
    "                - R2 DONE\n",
    "T1_1_2022_PAST  - R1 DONE\n",
    "                - R2 DONE\n",
    "T1_3_MCAV       - R1 DOESNT LOOK GOOD...RETRIM?\n",
    "- adapter contamination? retry with nextera specification?  \n",
    "T1_52_2019_PAST\n",
    "T1_8_2019_PAST\n",
    "T2_11_2019_PAST\n",
    "T2_21_2019_PAST\n",
    "T2_5_MCAV\n",
    "T3_16_MCAV\n",
    "T3_21_Mmea\n",
    "T3_25_2019_PAST\n",
    "T3_31_2019_PAST\n",
    "T3_4_Past\n",
    "T3_6_MCAV\n",
    "T3_7_2019_PAST"
   ]
  },
  {
   "cell_type": "markdown",
   "id": "30f11c59-652d-4790-9b78-f7aedcf718c3",
   "metadata": {
    "tags": []
   },
   "source": [
    "### Misc code"
   ]
  },
  {
   "cell_type": "code",
   "execution_count": null,
   "id": "a6353ca6-a828-400c-828c-26ae2ea90883",
   "metadata": {},
   "outputs": [],
   "source": [
    "#find unique sample IDs in new raw seqs 11272023\n",
    "ls | grep -i 'R1_001.fastq.gz' | grep -v '.md5' > //project/pi_sarah_gignouxwolfsohn_uml_edu/brooke/working/11272023/11-23-samples.txt\n",
    "#ex:\n",
    "ls $FILEPATH/*.fastq.gz -1 | sed 's/_R*_001.fastq.gz//' |cat > $OUTPUT_WORKING/sample_names.txt\n",
    "\n",
    "cut -d_ -f 1-4 old_file\n",
    "This simply means use _ as delimiter, and keep fields 1-4.\n",
    "set2T3_7_2019_PAST_S61_R2_001.fastq.gz\n",
    "\n",
    "ls $FILEPATH/*_PAST_*.fastq.gz -1 | sed 's/.*set2\\(.*\\)_PAST_.*_R.*_001\\.fastq.gz/\\1/' | sed 's/set2//' > $OUTPUT_WORKING/sample_names.txt\n",
    "\n",
    "#specifically past samples in 041423 \n",
    "ls $FILEPATH/*_PAST_*.fastq.gz -1 | sed 's/set2//' | cut -d_ -f 2-5,7 | cat > $OUTPUT_WORKING/sample_names.txt"
   ]
  }
 ],
 "metadata": {
  "kernelspec": {
   "display_name": "Python 3 (ipykernel)",
   "language": "python",
   "name": "python3"
  },
  "language_info": {
   "codemirror_mode": {
    "name": "ipython",
    "version": 3
   },
   "file_extension": ".py",
   "mimetype": "text/x-python",
   "name": "python",
   "nbconvert_exporter": "python",
   "pygments_lexer": "ipython3",
   "version": "3.11.0"
  }
 },
 "nbformat": 4,
 "nbformat_minor": 5
}
