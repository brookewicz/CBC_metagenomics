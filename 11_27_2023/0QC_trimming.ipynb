{
 "cells": [
  {
   "cell_type": "markdown",
   "id": "4a72e484-4f38-4311-a545-a1e88ec65b87",
   "metadata": {},
   "source": [
    "### QC/trimming 11/27/23 sequenced samples\n",
    "- PSTR, OFAV, OANN"
   ]
  },
  {
   "cell_type": "code",
   "execution_count": null,
   "id": "ecc6ac2e-321c-400f-957a-3a5c4ba238af",
   "metadata": {},
   "outputs": [],
   "source": [
    "#!/bin/bash\n",
    "#SBATCH -c 24  # Number of Cores per Task\n",
    "#SBATCH --mem=50G  # Requested Memory\n",
    "#SBATCH -p cpu  # Partition\n",
    "#SBATCH -t 20:00:00  # Job time limit\n",
    "#SBATCH --mail-type=ALL\n",
    "#SBATCH -o /project/pi_sarah_gignouxwolfsohn_uml_edu/brooke/11_2023bash_scripts/slurm-%j.out  # %j = job ID\n",
    "\n",
    "FILEPATH='/project/pi_sarah_gignouxwolfsohn_uml_edu/Raw_sequences/SCTLD_raw/11272023'                                                                                                                                                                                                     \n",
    "OUTPUT_WORKING='working/11272023'                                                                                                                                                                                                 \n",
    "OUTPUT_RESULTS='working/11272023/trimmed'                                                                                                                                                                                                 \n",
    "NSLOTS=5                                                                                                                                                                                                                              \n",
    "                                                                                                                                                                                                                                 \n",
    "#this line creates a file that gives all the filenames in the directory with the data, without the suffixes added by the sequencer                                                                                               \n",
    "ls $FILEPATH/*.fastq.gz -1 | sed 's/_R*_001.fastq.gz//' |cat > $OUTPUT_WORKING/sample_names.txt                                                                                                                                 \n",
    "                                                                                                                                                                                                                                 \n",
    "                                                                                                                                                                                                                                 \n",
    "#this loop removes adapter sequences and then quality checks the sequences and outputs a QC file                                                                                                                                 \n",
    "LINES=$(cat \"$OUTPUT_WORKING\"/sample_names_fixed.txt)                                                                                                                                                                            \n",
    "for f in $LINES                                                                                                                                                                                                                  \n",
    "do                                                                                                                                                                                                                               \n",
    "    trim_galore -j $NSLOTS -q 20 --phred33 --fastqc --illumina --length 20 --paired \"$FILEPATH\"/\"$f\"_R1_001.fastq.gz \"$FILEPATH\"/\"$f\"_R2_001.fastq.gz;                                                                           \n",
    "    fastqc -o $OUTPUT_RESULTS -t $NSLOTS \"$f\"_R*_001.fastq.gz                                                                                                                                                        \n",
    "done                                                                                                                                                                                                                                                                                                                                                                                                                                                      "
   ]
  },
  {
   "cell_type": "markdown",
   "id": "6ebbce6d-fc71-4d5e-8b97-c1901756d049",
   "metadata": {},
   "source": [
    "### Misc Samples\n",
    "- PASTS samples in 04/14/23 folder \n",
    "    - (supposed to be alongside MCAV from mcav1 dir)\n",
    "- also grabbing pilot seqs"
   ]
  },
  {
   "cell_type": "code",
   "execution_count": null,
   "id": "5e72a284-7af6-4c27-ab8d-6565dea4a734",
   "metadata": {},
   "outputs": [],
   "source": [
    "FILEPATH='/project/pi_sarah_gignouxwolfsohn_uml_edu/Raw_sequences/SCTLD_raw/04142023'\n",
    "OUTPUT_WORKING='/project/pi_sarah_gignouxwolfsohn_uml_edu/brooke/trimmed/pilot_past'\n",
    "OUTPUT_RESULTS='/project/pi_sarah_gignouxwolfsohn_uml_edu/brooke/trimmed/pilot_past'\n",
    "NSLOTS=5\n",
    "\n",
    "#this line creates a file that gives all the filenames in the directory with the data, without the suffixes added by the sequencer\n",
    "ls $FILEPATH/T*.fastq.gz -1 | sed 's/_R*_001.fastq.gz//' |print $OUTPUT_WORKING/sample_names.txt\n",
    "\n",
    "\n",
    "#this loop removes adapter sequences and then quality checks the sequences and outputs a QC file\n",
    "for f in $OUTPUT_WORKING/sample_names.txt \n",
    "do \n",
    "    trim_galore -q 20 --phred33 --fastqc --illumina --length 20 --paired \"$f\"_R1_001.fastq \"$f\"_R2_001.fastq;\n",
    "    fastqc -o $OUTPUT_RESULTS -t $NSLOTS \"$f\"_R*_001.fastq.gz\n",
    "done\n",
    "\n",
    "FILEPATH='/project/pi_sarah_gignouxwolfsohn_uml_edu/Raw_sequences/SCTLD_raw/pilot'\n",
    "OUTPUT_WORKING='/project/pi_sarah_gignouxwolfsohn_uml_edu/brooke/trimmed/pilot_past'\n",
    "OUTPUT_RESULTS='/project/pi_sarah_gignouxwolfsohn_uml_edu/brooke/trimmed/pilot_past'\n",
    "\n",
    "\n",
    "#this line creates a file that gives all the filenames in the directory with the data, without the suffixes added by the sequencer\n",
    "ls $FILEPATH/T*.fastq.gz -1 | sed 's/_R*_001.fastq.gz//' |print $OUTPUT_WORKING/sample_pilot_names.txt\n",
    "\n",
    "\n",
    "#this loop removes adapter sequences and then quality checks the sequences and outputs a QC file\n",
    "for f in $OUTPUT_WORKING/sample_pilot_names.txt \n",
    "do \n",
    "    trim_galore -q 20 --phred33 --fastqc --illumina --length 20 --paired \"$f\"_R1_001.fastq \"$f\"_R2_001.fastq;\n",
    "    fastqc -o $OUTPUT_RESULTS -t $NSLOTS \"$f\"_R*_001.fastq.gz\n",
    "done"
   ]
  },
  {
   "cell_type": "code",
   "execution_count": null,
   "id": "0de89b2f-50f9-4f09-bb3e-c77e34294c97",
   "metadata": {},
   "outputs": [],
   "source": [
    "#troubleshooting with this code\n",
    "\n",
    "\n",
    "\n",
    "FILEPATH='/project/pi_sarah_gignouxwolfsohn_uml_edu/Raw_sequences/SCTLD_raw/11272023'\n",
    "OUTPUT_WORKING='../data/working'\n",
    "OUTPUT_RESULTS='../data/results'\n",
    "\n",
    "\n",
    "#this line creates a file that gives all the filenames in the directory with the data, without the suffixes added by the sequencer\n",
    "ls $FILEPATH/T*.fastq.gz -1 | sed 's/_R*_001.fastq.gz//' |print $OUTPUT_WORKING/sample_names.txt\n",
    "\n",
    "\n",
    "#this loop removes adapter sequences and then quality checks the sequences and outputs a QC file\n",
    "for f in $OUTPUT_WORKING/sample_names.txt \n",
    "do \n",
    "    trim_galore -q 20 --phred33 --fastqc --illumina --length 20 --paired \"$f\"_R1_001.fastq \"$f\"_R2_001.fastq;\n",
    "    fastqc -o $OUTPUT_RESULTS -t $NSLOTS \"$f\"_R*_001.fastq.gz\n",
    "done"
   ]
  }
 ],
 "metadata": {
  "kernelspec": {
   "display_name": "Python 3 (ipykernel)",
   "language": "python",
   "name": "python3"
  },
  "language_info": {
   "codemirror_mode": {
    "name": "ipython",
    "version": 3
   },
   "file_extension": ".py",
   "mimetype": "text/x-python",
   "name": "python",
   "nbconvert_exporter": "python",
   "pygments_lexer": "ipython3",
   "version": "3.11.0"
  }
 },
 "nbformat": 4,
 "nbformat_minor": 5
}
