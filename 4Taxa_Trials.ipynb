{
 "cells": [
  {
   "cell_type": "markdown",
   "id": "7b64ba0e-624e-404a-832e-de0ab81dc810",
   "metadata": {},
   "source": [
    "### Taxonomic Profiling on MAGS\n",
    "- Can't figure out on anvio so for no trying other options\n",
    "- option 1: sylph "
   ]
  },
  {
   "cell_type": "markdown",
   "id": "131c9931-f55e-41d1-ab97-20fac3a466cc",
   "metadata": {},
   "source": [
    "##### Sylph\n",
    "https://github.com/bluenote-1577/sylph\n",
    "- average nucleic identity (ANI) querying or taxonomic profiling"
   ]
  },
  {
   "cell_type": "code",
   "execution_count": null,
   "id": "dfb5beeb-938f-4145-897b-99a0c4d22899",
   "metadata": {},
   "outputs": [],
   "source": [
    "module load miniconda/22.11.1-1\n",
    "#conda create -n taxa\n",
    "conda activate taxa"
   ]
  },
  {
   "cell_type": "code",
   "execution_count": null,
   "id": "238f2098-b303-43b1-8ad9-604d8216f719",
   "metadata": {},
   "outputs": [],
   "source": [
    "conda install -c bioconda sylph\n",
    "#can't get to install on bioconda - try running salloc with more memory?? or just ask unity help \n",
    "\n",
    "#bioconda install didn't work so used following code to install in unity system:\n",
    "wget https://github.com/bluenote-1577/sylph/releases/download/latest/sylph\n",
    "chmod +x sylph\n",
    "./sylph -h"
   ]
  },
  {
   "cell_type": "code",
   "execution_count": null,
   "id": "a75cf3d5-7ff1-47db-ba4a-b2faf6cff548",
   "metadata": {},
   "outputs": [],
   "source": [
    "#set parameters\n",
    "SAMPLENAME=mcav\n",
    "CONTIGPATH=/project/pi_sarah_gignouxwolfsohn_uml_edu/brooke/results/mcav_assembly3\n",
    "CONTIGFILE=mcav.contigs-fixed.fa"
   ]
  },
  {
   "cell_type": "code",
   "execution_count": null,
   "id": "8e17431b-56de-4ee6-a3d8-9de32ae1c080",
   "metadata": {},
   "outputs": [],
   "source": [
    "#create database if contigs are all in one fasta file\n",
    "sylph sketch $CONTIGPATH/$CONTIGFILE -i -o ./working/\"$SAMPLENAME\"_contig_database"
   ]
  }
 ],
 "metadata": {
  "kernelspec": {
   "display_name": "Python 3 (ipykernel)",
   "language": "python",
   "name": "python3"
  },
  "language_info": {
   "codemirror_mode": {
    "name": "ipython",
    "version": 3
   },
   "file_extension": ".py",
   "mimetype": "text/x-python",
   "name": "python",
   "nbconvert_exporter": "python",
   "pygments_lexer": "ipython3",
   "version": "3.11.0"
  }
 },
 "nbformat": 4,
 "nbformat_minor": 5
}
