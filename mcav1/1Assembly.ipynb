{
 "cells": [
  {
   "cell_type": "markdown",
   "id": "79398e90-e3f0-4004-9436-3e8b5a76c780",
   "metadata": {},
   "source": [
    "# Assembly"
   ]
  },
  {
   "cell_type": "markdown",
   "id": "20751f43-626d-418c-ae3b-4c188ff39ddd",
   "metadata": {},
   "source": [
    "**Megahit**\n",
    "https://www.metagenomics.wiki/tools/assembly/megahit\n",
    "- de novo assembly (w/o reference genome)\n",
    "- aligns/assembles short reads together to reconstruct one 'metagenome'\n",
    "- assembled contigs are stored in fasta file"
   ]
  },
  {
   "cell_type": "markdown",
   "id": "f946edea-5aaf-446b-ad3e-6b9409431b1a",
   "metadata": {
    "jp-MarkdownHeadingCollapsed": true,
    "tags": []
   },
   "source": [
    "### Installation"
   ]
  },
  {
   "cell_type": "code",
   "execution_count": null,
   "id": "f75e5450",
   "metadata": {},
   "outputs": [],
   "source": [
    "module load miniconda/22.11.1-1"
   ]
  },
  {
   "cell_type": "code",
   "execution_count": null,
   "id": "7a7f31b5",
   "metadata": {},
   "outputs": [],
   "source": [
    "conda create -n assembly\n",
    "#dir=/home/brooke_sienkiewicz_student_uml_edu/.conda/envs/assembly"
   ]
  },
  {
   "cell_type": "code",
   "execution_count": null,
   "id": "54f855c4",
   "metadata": {},
   "outputs": [],
   "source": [
    "#conda info --env\n",
    "##lists all ur conda envs \n",
    "conda activate assembly"
   ]
  },
  {
   "cell_type": "code",
   "execution_count": null,
   "id": "68e28340-4982-45d5-ac35-1ca32cdac04e",
   "metadata": {},
   "outputs": [],
   "source": [
    "#installation - just do the first time upon creating assembly env\n",
    "conda install -c bioconda megahit\n",
    "conda install -c bioconda quast python=2.7"
   ]
  },
  {
   "cell_type": "markdown",
   "id": "986c622d-867b-4f5d-b284-2ee31306b852",
   "metadata": {},
   "source": [
    "### MCAV"
   ]
  },
  {
   "cell_type": "markdown",
   "id": "7e8f985a-c043-406d-b661-427dc9e7b6a9",
   "metadata": {},
   "source": [
    "#### MCAV - healthy, 2019"
   ]
  },
  {
   "cell_type": "code",
   "execution_count": null,
   "id": "b3151628-fa03-4497-a3dc-5fafd7a7bad1",
   "metadata": {},
   "outputs": [],
   "source": [
    "# Using trimmed, qc seqs from redo_auto_detect_01312024 folder"
   ]
  },
  {
   "cell_type": "code",
   "execution_count": null,
   "id": "169dddb5-8b1f-4f42-bf94-ffa5d19a8197",
   "metadata": {},
   "outputs": [],
   "source": [
    "#!/bin/bash\n",
    "#SBATCH -c 24  # Number of Cores per Task\n",
    "#SBATCH --mem=180G  # Requested Memory\n",
    "#SBATCH -p cpu-long  # Partition\n",
    "#SBATCH -t 56:00:00  # Job time limit\n",
    "#SBATCH --mail-type=ALL\n",
    "#SBATCH -o /project/pi_sarah_gignouxwolfsohn_uml_edu/brooke/mcav/assembly/healthy_2019_mcav/slurm-assembly-%j.out  # %j = job ID\n",
    "\n",
    "module load miniconda/22.11.1-1\n",
    "conda activate assembly\n",
    "\n",
    "READSPATH=/project/pi_sarah_gignouxwolfsohn_uml_edu/brooke/mcav/trimmed/redo_auto_detect_01312024\n",
    "SAMPLENAME=\"healthy_2019_mcav\"\n",
    "OUTDIR=/project/pi_sarah_gignouxwolfsohn_uml_edu/brooke/mcav/assembly/healthy_2019_mcav\n",
    "\n",
    "# Read the sample IDs from the file\n",
    "while IFS= read -r SAMPLEID; do\n",
    "    # Construct the file paths for forward and reverse reads\n",
    "    FORWARD_READ=\"$READSPATH/${SAMPLEID}_R1_001_val_1.fq\"\n",
    "    REVERSE_READ=\"$READSPATH/${SAMPLEID}_R2_001_val_2.fq\"\n",
    "\n",
    "    # Check if the files exist before concatenating\n",
    "    if [ -e \"$FORWARD_READ\" ]; then\n",
    "        cat \"$FORWARD_READ\" >> \"$OUTDIR/${SAMPLEID}_reads_R1_ALL.fastq\"\n",
    "    else\n",
    "        echo \"Forward read file not found for sample $SAMPLEID\"\n",
    "    fi\n",
    "\n",
    "    if [ -e \"$REVERSE_READ\" ]; then\n",
    "        cat \"$REVERSE_READ\" >> \"$OUTDIR/${SAMPLEID}_reads_R2_ALL.fastq\"\n",
    "    else\n",
    "        echo \"Reverse read file not found for sample $SAMPLEID\"\n",
    "    fi\n",
    "done < \"$OUTDIR/healthy_2019_MCAV_sampleids\"\n",
    "\n",
    "\n",
    "megahit --presets meta-large \\\n",
    "-1 \"$OUTDIR\"/\"$SAMPLENAME\"_reads_R1_ALL.fastq \\\n",
    "-2 \"$OUTDIR\"/\"$SAMPLENAME\"_reads_R2_ALL.fastq \\\n",
    "--keep-tmp-files \\\n",
    "-o $OUTDIR --out-prefix $SAMPLENAME \\\n",
    "\n",
    "# bash script file name: $OUTDIR/assembly\n",
    "# JOB-ID: 18986863\n"
   ]
  },
  {
   "cell_type": "markdown",
   "id": "949f9385",
   "metadata": {},
   "source": [
    "Total time elapsed: 46 hrs \n",
    "looks like 190 GB is enough... and 24 CPU - 90% efficiency on last part of run "
   ]
  },
  {
   "cell_type": "code",
   "execution_count": null,
   "id": "361054d6-4259-41f5-9087-1f86b96f4729",
   "metadata": {},
   "outputs": [],
   "source": [
    "# NEED TO: Rename concatenated seqs so it can just be done in 1 step instead of renaming all indiividual files \n",
    "# (qc step it adds \"val_1/2\" to each seq file)"
   ]
  }
 ],
 "metadata": {
  "kernelspec": {
   "display_name": "Python 3 (ipykernel)",
   "language": "python",
   "name": "python3"
  },
  "language_info": {
   "codemirror_mode": {
    "name": "ipython",
    "version": 3
   },
   "file_extension": ".py",
   "mimetype": "text/x-python",
   "name": "python",
   "nbconvert_exporter": "python",
   "pygments_lexer": "ipython3",
   "version": "3.11.0"
  }
 },
 "nbformat": 4,
 "nbformat_minor": 5
}
