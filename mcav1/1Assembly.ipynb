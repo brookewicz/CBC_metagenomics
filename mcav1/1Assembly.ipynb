{
 "cells": [
  {
   "cell_type": "markdown",
   "id": "79398e90-e3f0-4004-9436-3e8b5a76c780",
   "metadata": {},
   "source": [
    "# Assembly"
   ]
  },
  {
   "cell_type": "markdown",
   "id": "20751f43-626d-418c-ae3b-4c188ff39ddd",
   "metadata": {},
   "source": [
    "**Megahit**\n",
    "https://www.metagenomics.wiki/tools/assembly/megahit\n",
    "- de novo assembly (w/o reference genome)\n",
    "- aligns/assembles short reads together to reconstruct one 'metagenome'\n",
    "- assembled contigs are stored in fasta file"
   ]
  },
  {
   "cell_type": "markdown",
   "id": "f946edea-5aaf-446b-ad3e-6b9409431b1a",
   "metadata": {
    "tags": []
   },
   "source": [
    "### Installation"
   ]
  },
  {
   "cell_type": "code",
   "execution_count": null,
   "id": "f75e5450",
   "metadata": {},
   "outputs": [],
   "source": [
    "module load miniconda/22.11.1-1"
   ]
  },
  {
   "cell_type": "code",
   "execution_count": null,
   "id": "7a7f31b5",
   "metadata": {},
   "outputs": [],
   "source": [
    "conda create -n assembly\n",
    "#dir=/home/brooke_sienkiewicz_student_uml_edu/.conda/envs/assembly"
   ]
  },
  {
   "cell_type": "code",
   "execution_count": null,
   "id": "54f855c4",
   "metadata": {},
   "outputs": [],
   "source": [
    "#conda info --env\n",
    "##lists all ur conda envs \n",
    "conda activate assembly"
   ]
  },
  {
   "cell_type": "code",
   "execution_count": null,
   "id": "68e28340-4982-45d5-ac35-1ca32cdac04e",
   "metadata": {},
   "outputs": [],
   "source": [
    "#installation - just do the first time upon creating assembly env\n",
    "conda install -c bioconda megahit\n",
    "conda install -c bioconda quast python=2.7"
   ]
  },
  {
   "cell_type": "markdown",
   "id": "986c622d-867b-4f5d-b284-2ee31306b852",
   "metadata": {},
   "source": [
    "### MCAV"
   ]
  },
  {
   "cell_type": "markdown",
   "id": "7e8f985a-c043-406d-b661-427dc9e7b6a9",
   "metadata": {},
   "source": [
    "#### MCAV - healthy, 2019"
   ]
  },
  {
   "cell_type": "code",
   "execution_count": null,
   "id": "b3151628-fa03-4497-a3dc-5fafd7a7bad1",
   "metadata": {},
   "outputs": [],
   "source": [
    "# Using trimmed, qc seqs from redo_auto_detect_01312024 folder\n",
    "# 1)remove host from sample reads\n",
    "# 2)concatenate all f and r seqs into single file (1 for f, 1 for r)\n",
    "# 3)ASSEMBLE reads into contigs (contiguous sequence - joins them together based on read overlap, and ensures there are no gaps - larger portions of genomes if not all are now together in one sequence)\n",
    "# 4)remove ITS2 seqs from assembled contigs (& remove adapters) ... should try to perform on raw reads so we end up with just one final contig file \n",
    "\n",
    "# can definitely combine these into 1 or 2 batch scripts"
   ]
  },
  {
   "cell_type": "code",
   "execution_count": null,
   "id": "7d360ec7-096a-4884-9753-38028d7a0b4d",
   "metadata": {},
   "outputs": [],
   "source": [
    "#!/bin/bash\n",
    "#SBATCH -c 24  # Number of Cores per Task\n",
    "#SBATCH --mem=180G  # Requested Memory\n",
    "#SBATCH -p cpu-long  # Partition\n",
    "#SBATCH -t 24:00:00  # Job time limit\n",
    "#SBATCH --mail-type=ALL\n",
    "#SBATCH -o /project/pi_sarah_gignouxwolfsohn_uml_edu/brooke/mcav/assembly/healthy_2019_mcav/slurm-removal-%j.out  # %j = job ID\n",
    "\n",
    "module load miniconda/22.11.1-1\n",
    "conda activate anvio-8\n",
    "\n",
    "# 1)remove host from sample reads\n",
    "# Host seq removal - Thij's script https://github.com/ThijsSt/SCTLD-metagenomes/blob/main/Quality_control_metagenomes.ipynb\n",
    "\n",
    "#set parameters:\n",
    "SAMPLENAME=\"healthy_2019_mcav\"\n",
    "GENOME=\"mcav\"\n",
    "READSPATH=/project/pi_sarah_gignouxwolfsohn_uml_edu/brooke/mcav/trimmed/redo_auto_detect_01312024\n",
    "INDEX=\"$GENOME\"_DB\n",
    "INPUTPATH=\"/project/pi_sarah_gignouxwolfsohn_uml_edu/Reference_genomes/Mcav_genome\"\n",
    "WORKINGPATH='/project/pi_sarah_gignouxwolfsohn_uml_edu/brooke/mcav/assembly/healthy_2019_mcav/host_removed'\n",
    "\n",
    "#build a bowtie2 index from a known genome\n",
    "bowtie2-build $INPUTPATH/Mcavernosa_July2018.fasta $INPUTPATH/\"$INDEX\"\n",
    "\n",
    "#loop through samples\n",
    "while IFS= read -r SAMPLEID; do\n",
    "\n",
    "#re-align reads back to the index\n",
    "bowtie2 -p 8 -x $INPUTPATH/$INDEX -1 \"$READSPATH\"/\"${SAMPLEID}_R1_001_val_1.fq\" -2 \"$READSPATH\"/\"${SAMPLEID}_R2_001_val_2.fq\" -S $WORKINGPATH/\"${SAMPLEID}\"_mapped_and_unmapped.sam\n",
    "\n",
    "#convert sam file from bowtie to a bam file for processing\n",
    "samtools view -bS $WORKINGPATH/\"${SAMPLEID}\"_mapped_and_unmapped.sam > $WORKINGPATH/\"${SAMPLEID}\"_mapped_and_unmapped.bam\n",
    "\n",
    "#extract only the reads of which both do not match against the host genome\n",
    "samtools view -b -f 12 -F 256 $WORKINGPATH/\"${SAMPLEID}\"_mapped_and_unmapped.bam > $WORKINGPATH/\"${SAMPLEID}\"_bothReadsUnmapped.bam\n",
    "#ask thijs what flags mean \n",
    "\n",
    "# sorts the file so both mates are together and then extracts them back as .fastq files\n",
    "samtools sort -n -m 5G -@ 2 $WORKINGPATH/\"${SAMPLEID}\"_bothReadsUnmapped.bam -o $WORKINGPATH/\"${SAMPLEID}\"_bothReadsUnmapped_sorted.bam\n",
    "samtools fastq -@ 8 $WORKINGPATH/\"${SAMPLEID}\"_bothReadsUnmapped_sorted.bam \\\n",
    "    -1 \"${SAMPLEID}\"_host_removed_R1.fastq \\\n",
    "    -2 \"${SAMPLEID}\"_host_removed_R2.fastq \\\n",
    "    -0 /dev/null -s /dev/null -n\n",
    "#can i direct these to a diff folder?\n",
    "\n",
    "done < \"healthy_2019_MCAV_sampleids\"\n",
    "#run in dir with sampleids txt file (~/mcav/assembly/healthy_2019_mcav)\n",
    "\n",
    "# JOB-ID: 19358781\n",
    "# bash script file name: brooke/mcav/assembly/healthy_2019_mcav/removal"
   ]
  },
  {
   "cell_type": "code",
   "execution_count": null,
   "id": "169dddb5-8b1f-4f42-bf94-ffa5d19a8197",
   "metadata": {},
   "outputs": [],
   "source": [
    "#!/bin/bash\n",
    "#SBATCH -c 24  # Number of Cores per Task\n",
    "#SBATCH --mem=180G  # Requested Memory\n",
    "#SBATCH -p cpu-long  # Partition\n",
    "#SBATCH -t 56:00:00  # Job time limit\n",
    "#SBATCH --mail-type=ALL\n",
    "#SBATCH -o /project/pi_sarah_gignouxwolfsohn_uml_edu/brooke/mcav/assembly/healthy_2019_mcav/slurm-assembly-%j.out  # %j = job ID\n",
    "\n",
    "module load miniconda/22.11.1-1\n",
    "conda activate assembly\n",
    "# 2)concatenate all f and r seqs into single file (1 for f, 1 for r)\n",
    "\n",
    "READSPATH='/project/pi_sarah_gignouxwolfsohn_uml_edu/brooke/mcav/assembly/healthy_2019_mcav/host_removed'\n",
    "SAMPLENAME=\"healthy_2019_mcav\"\n",
    "OUTDIR=/project/pi_sarah_gignouxwolfsohn_uml_edu/brooke/mcav/assembly/healthy_2019_mcav\n",
    "\n",
    "# Read the sample IDs from the file\n",
    "while IFS= read -r SAMPLEID; do\n",
    "    # Construct the file paths for forward and reverse reads\n",
    "    FORWARD_READ=\"$READSPATH/${SAMPLEID}_host_removed_R1.fastq\"\n",
    "    REVERSE_READ=\"$READSPATH/${SAMPLEID}_host_removed_R2.fastq\"\n",
    "\n",
    "    # Check if the files exist before concatenating\n",
    "    if [ -e \"$FORWARD_READ\" ]; then\n",
    "        cat \"$FORWARD_READ\" >> \"$OUTDIR/${SAMPLENAME}_reads_R1_ALL.fastq\"\n",
    "    else\n",
    "        echo \"Forward read file not found for sample $SAMPLEID\"\n",
    "    fi\n",
    "\n",
    "    if [ -e \"$REVERSE_READ\" ]; then\n",
    "        cat \"$REVERSE_READ\" >> \"$OUTDIR/${SAMPLENAME}_reads_R2_ALL.fastq\"\n",
    "    else\n",
    "        echo \"Reverse read file not found for sample $SAMPLEID\"\n",
    "    fi\n",
    "done < \"$OUTDIR/healthy_2019_MCAV_sampleids\"\n",
    "\n",
    "# 3)ASSEMBLE reads into contigs (contiguous sequence - joins them together based on read overlap, and ensures there are no gaps\n",
    "megahit --presets meta-large \\\n",
    "-1 \"$OUTDIR\"/\"$SAMPLENAME\"_reads_R1_ALL.fastq \\\n",
    "-2 \"$OUTDIR\"/\"$SAMPLENAME\"_reads_R2_ALL.fastq \\\n",
    "--keep-tmp-files \\\n",
    "-o megahit_host_removed --out-prefix $SAMPLENAME \\\n",
    "#--continue\n",
    "#this one has to make the directory; will fail if it already exists\n",
    "\n",
    "# try metavelvet next? \n",
    "\n",
    "# JOB-ID: 19388626\n",
    "# bash script file name: $OUTDIR/assembly"
   ]
  },
  {
   "cell_type": "markdown",
   "id": "949f9385",
   "metadata": {},
   "source": [
    "Total time elapsed: 46 hrs \n",
    "looks like 190 GB is enough... and 24 CPU - 90% efficiency on last part of run "
   ]
  },
  {
   "cell_type": "code",
   "execution_count": null,
   "id": "361054d6-4259-41f5-9087-1f86b96f4729",
   "metadata": {},
   "outputs": [],
   "source": [
    "# NEED TO: Rename concatenated seqs so it can just be done in 1 step instead of renaming all indiividual files \n",
    "# (qc step it adds \"val_1/2\" to each seq file)"
   ]
  },
  {
   "cell_type": "code",
   "execution_count": null,
   "id": "695644db-c7c0-4f10-9571-aac1199a1c4a",
   "metadata": {},
   "outputs": [],
   "source": [
    "#!/bin/bash\n",
    "#SBATCH -c 24  # Number of Cores per Task\n",
    "#SBATCH --mem=180G  # Requested Memory\n",
    "#SBATCH -p cpu-long  # Partition\n",
    "#SBATCH -t 24:00:00  # Job time limit\n",
    "#SBATCH --mail-type=ALL\n",
    "#SBATCH -o /project/pi_sarah_gignouxwolfsohn_uml_edu/brooke/mcav/assembly/healthy_2019_mcav/slurm-%j.out  # %j = job ID\n",
    "\n",
    "\n",
    "#load modules\n",
    "module load miniconda/22.11.1-1\n",
    "conda activate cutadaptenv\n",
    "\n",
    "# 4)remove ITS2 seqs from assembled contigs (& remove adapters)\n",
    "\n",
    "# Set your input and output files\n",
    "SAMPLENAME=\"healthy_2019_mcav\"\n",
    "INPUTDIR=\"/project/pi_sarah_gignouxwolfsohn_uml_edu/brooke/mcav/assembly/healthy_2019_mcav/megahit_host_removed\"\n",
    "OUTPUTDIR=\"/project/pi_sarah_gignouxwolfsohn_uml_edu/brooke/mcav/assembly/healthy_2019_mcav\"\n",
    "\n",
    "\n",
    "#READSPATH='/project/pi_sarah_gignouxwolfsohn_uml_edu/brooke/mcav/trimmed/redo_auto_detect_01312024'\n",
    "\n",
    "input_fasta=\"$SAMPLENAME.contigs.fa\"\n",
    "#output_fasta=\"${SAMPLENAME}_filtered.contigs.fasta\"\n",
    "#couldn't get this to work?? just typed it out for the -o parameter in cutadapt script\n",
    "\n",
    "# Set your primer sequences\n",
    "forward_primer=\"GAATTGCAGAACTCCGTGAACC\"\n",
    "reverse_primer=\"CGGGTTCWCTTGTYTGACTTCATGC\"\n",
    "\n",
    "# Verify path and input dir - only need for troubleshooting\n",
    "echo \"Working Directory: $(pwd)\"\n",
    "#ls -l $INPUTDIR\n",
    "\n",
    "# Run cutadapt\n",
    "cutadapt \\\n",
    "  -g \"$forward_primer\" \\\n",
    "  -a \"$reverse_primer\" \\\n",
    "  --discard-trimmed \\\n",
    "  -o $OUTPUTDIR/\"{$SAMPLENAME}_filtered\" \\\n",
    "  $INPUTDIR/\"$input_fasta\"\n",
    "  \n",
    "ls -l $OUTPUTDIR\n",
    "#check results dir to see if it was successful in creating output file \n",
    "\n",
    "# JOB-ID: 19420673\n",
    "# bash script file name: brooke/mcav/assembly/healthy_2019_mcav/ITS2_trim\n",
    "\n",
    "\n",
    "#final assembled contigs: healthy_2019_mcav_filtered.contigs.fasta in ~/brooke/mcav/assembly/healthy_2019_mcav"
   ]
  },
  {
   "cell_type": "markdown",
   "id": "5b10f894-3196-4e33-a63a-9388abebdb58",
   "metadata": {
    "tags": []
   },
   "source": [
    "# Quality Check\n",
    "**Metaquast**\n",
    "- quality assessment of metagenomic reads, no reference genome included here"
   ]
  },
  {
   "cell_type": "markdown",
   "id": "42c2d37f-0089-47c5-9d73-1fc630fc7cfa",
   "metadata": {},
   "source": [
    "https://quast.sourceforge.net/docs/manual.html#sec1\n",
    "..how to interpret quality results?\n",
    "- check how many large contigs you have (>1000 bp)\n",
    "- did not map to reference genome.\n",
    "- right now just helpful to see length and quality of contigs, maybe can reassess after mapping back to metagenome?\n",
    "Cite metaquast: https://quast.sourceforge.net/publications.html"
   ]
  },
  {
   "cell_type": "code",
   "execution_count": null,
   "id": "d7763870-3ec9-488c-90b5-1c02cc9cc3d7",
   "metadata": {},
   "outputs": [],
   "source": [
    "module load miniconda/22.11.1-1\n",
    "conda activate assembly"
   ]
  },
  {
   "cell_type": "code",
   "execution_count": null,
   "id": "c0e4621d-194a-4c0c-8f7c-9a35fc55a80e",
   "metadata": {},
   "outputs": [],
   "source": [
    "metaquast healthy_2019_mcav_filtered.contigs.fasta -o quast_output"
   ]
  },
  {
   "cell_type": "code",
   "execution_count": null,
   "id": "f3187a15-e518-42d6-aee7-59d1ff898d2e",
   "metadata": {},
   "outputs": [],
   "source": [
    "# mcav, healthy, 2019 sample assembly (host and ITS2 removal)\n",
    "\n",
    "Statistics without reference\t\n",
    "# contigs \t1040595\n",
    "# contigs (>= 0 bp)\t2661767\n",
    "# contigs (>= 1000 bp)\t448229\n",
    "# contigs (>= 5000 bp)\t42749\n",
    "# contigs (>= 10000 bp)\t9799\n",
    "# contigs (>= 25000 bp)\t682\n",
    "# contigs (>= 50000 bp)\t47\n",
    "Largest contig\t437957\n",
    "Total length\t1591373878\n",
    "Total length (>= 0 bp)\t2118369555\n",
    "Total length (>= 1000 bp)\t1186762994\n",
    "Total length (>= 5000 bp)\t373469189\n",
    "Total length (>= 10000 bp)\t153333034\n",
    "Total length (>= 25000 bp)\t25000783\n",
    "Total length (>= 50000 bp)\t5240913\n",
    "N50\t2168\n",
    "N75\t986\n",
    "L50\t176435\n",
    "L75\t455045\n",
    "GC (%)\t..."
   ]
  },
  {
   "cell_type": "raw",
   "id": "eacde40f-be94-496d-9ec4-947715029118",
   "metadata": {
    "tags": []
   },
   "source": [
    "# MCAV assembly before seperating by sample type\n",
    "\n",
    "\n",
    "All statistics are based on contigs of size >= 500 bp, unless otherwise noted (e.g., \"# contigs (>= 0 bp)\" and \"Total length (>= 0 bp)\" include all contigs).\n",
    "\n",
    "### Assembly                    mcav.contigs\n",
    "#### contigs (>= 0 bp)         839850      \n",
    "#### contigs (>= 1000 bp)      39414       \n",
    "#### contigs (>= 5000 bp)      370         \n",
    "#### contigs (>= 10000 bp)     35          \n",
    "#### contigs (>= 25000 bp)     0           \n",
    "#### contigs (>= 50000 bp)     0           \n",
    "Total length (>= 0 bp)      435829081   \n",
    "Total length (>= 1000 bp)   57097694    \n",
    "Total length (>= 5000 bp)   2623425     \n",
    "Total length (>= 10000 bp)  443897      \n",
    "Total length (>= 25000 bp)  0           \n",
    "Total length (>= 50000 bp)  0           \n",
    "#### contigs                   312757      \n",
    "Largest contig              24857       \n",
    "Total length                237368824   \n",
    "GC (%)                      42.80       \n",
    "N50                         729         \n",
    "N75                         595         \n",
    "L50                         113047      \n",
    "L75                         203599      \n",
    "N's per 100 kbp           0.00  "
   ]
  }
 ],
 "metadata": {
  "kernelspec": {
   "display_name": "Python 3 (ipykernel)",
   "language": "python",
   "name": "python3"
  },
  "language_info": {
   "codemirror_mode": {
    "name": "ipython",
    "version": 3
   },
   "file_extension": ".py",
   "mimetype": "text/x-python",
   "name": "python",
   "nbconvert_exporter": "python",
   "pygments_lexer": "ipython3",
   "version": "3.11.0"
  }
 },
 "nbformat": 4,
 "nbformat_minor": 5
}
