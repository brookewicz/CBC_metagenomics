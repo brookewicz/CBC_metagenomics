{
 "cells": [
  {
   "cell_type": "markdown",
   "id": "79398e90-e3f0-4004-9436-3e8b5a76c780",
   "metadata": {},
   "source": [
    "# Assembly"
   ]
  },
  {
   "cell_type": "markdown",
   "id": "20751f43-626d-418c-ae3b-4c188ff39ddd",
   "metadata": {},
   "source": [
    "**Megahit**\n",
    "https://www.metagenomics.wiki/tools/assembly/megahit\n",
    "- de novo assembly (w/o reference genome)\n",
    "- aligns/assembles short reads together to reconstruct one 'metagenome'\n",
    "- assembled contigs are stored in fasta file"
   ]
  },
  {
   "cell_type": "markdown",
   "id": "f946edea-5aaf-446b-ad3e-6b9409431b1a",
   "metadata": {
    "tags": []
   },
   "source": [
    "### Installation"
   ]
  },
  {
   "cell_type": "code",
   "execution_count": null,
   "id": "f75e5450",
   "metadata": {},
   "outputs": [],
   "source": [
    "module load miniconda/22.11.1-1"
   ]
  },
  {
   "cell_type": "code",
   "execution_count": null,
   "id": "7a7f31b5",
   "metadata": {},
   "outputs": [],
   "source": [
    "conda create -n assembly\n",
    "#dir=/home/brooke_sienkiewicz_student_uml_edu/.conda/envs/assembly"
   ]
  },
  {
   "cell_type": "code",
   "execution_count": null,
   "id": "54f855c4",
   "metadata": {},
   "outputs": [],
   "source": [
    "#conda info --env\n",
    "##lists all ur conda envs \n",
    "conda activate assembly"
   ]
  },
  {
   "cell_type": "code",
   "execution_count": null,
   "id": "68e28340-4982-45d5-ac35-1ca32cdac04e",
   "metadata": {},
   "outputs": [],
   "source": [
    "#installation - just do the first time upon creating assembly env\n",
    "conda install -c bioconda megahit\n",
    "conda install -c bioconda quast python=2.7"
   ]
  },
  {
   "cell_type": "markdown",
   "id": "986c622d-867b-4f5d-b284-2ee31306b852",
   "metadata": {},
   "source": [
    "### MCAV"
   ]
  },
  {
   "cell_type": "markdown",
   "id": "7e8f985a-c043-406d-b661-427dc9e7b6a9",
   "metadata": {},
   "source": [
    "#### MCAV - healthy, 2019"
   ]
  },
  {
   "cell_type": "code",
   "execution_count": null,
   "id": "b3151628-fa03-4497-a3dc-5fafd7a7bad1",
   "metadata": {},
   "outputs": [],
   "source": [
    "# Using trimmed, qc seqs from redo_auto_detect_01312024 folder"
   ]
  },
  {
   "cell_type": "code",
   "execution_count": null,
   "id": "169dddb5-8b1f-4f42-bf94-ffa5d19a8197",
   "metadata": {},
   "outputs": [],
   "source": [
    "#!/bin/bash\n",
    "#SBATCH -c 24  # Number of Cores per Task\n",
    "#SBATCH --mem=180G  # Requested Memory\n",
    "#SBATCH -p cpu-long  # Partition\n",
    "#SBATCH -t 56:00:00  # Job time limit\n",
    "#SBATCH --mail-type=ALL\n",
    "#SBATCH -o /project/pi_sarah_gignouxwolfsohn_uml_edu/brooke/mcav/assembly/healthy_2019_mcav/slurm-assembly-%j.out  # %j = job ID\n",
    "\n",
    "module load miniconda/22.11.1-1\n",
    "conda activate assembly\n",
    "\n",
    "READSPATH=/project/pi_sarah_gignouxwolfsohn_uml_edu/brooke/mcav/trimmed/redo_auto_detect_01312024\n",
    "SAMPLENAME=\"healthy_2019_mcav\"\n",
    "OUTDIR=/project/pi_sarah_gignouxwolfsohn_uml_edu/brooke/mcav/assembly/healthy_2019_mcav\n",
    "\n",
    "# Read the sample IDs from the file\n",
    "while IFS= read -r SAMPLEID; do\n",
    "    # Construct the file paths for forward and reverse reads\n",
    "    FORWARD_READ=\"$READSPATH/${SAMPLEID}_R1_001_val_1.fq\"\n",
    "    REVERSE_READ=\"$READSPATH/${SAMPLEID}_R2_001_val_2.fq\"\n",
    "\n",
    "    # Check if the files exist before concatenating\n",
    "    if [ -e \"$FORWARD_READ\" ]; then\n",
    "        cat \"$FORWARD_READ\" >> \"$OUTDIR/${SAMPLENAME}_reads_R1_ALL.fastq\"\n",
    "    else\n",
    "        echo \"Forward read file not found for sample $SAMPLEID\"\n",
    "    fi\n",
    "\n",
    "    if [ -e \"$REVERSE_READ\" ]; then\n",
    "        cat \"$REVERSE_READ\" >> \"$OUTDIR/${SAMPLENAME}_reads_R2_ALL.fastq\"\n",
    "    else\n",
    "        echo \"Reverse read file not found for sample $SAMPLEID\"\n",
    "    fi\n",
    "done < \"$OUTDIR/healthy_2019_MCAV_sampleids\"\n",
    "\n",
    "\n",
    "megahit --presets meta-large \\\n",
    "-1 \"$OUTDIR\"/\"$SAMPLENAME\"_reads_R1_ALL.fastq \\\n",
    "-2 \"$OUTDIR\"/\"$SAMPLENAME\"_reads_R2_ALL.fastq \\\n",
    "--keep-tmp-files \\\n",
    "-o megahit --out-prefix $SAMPLENAME \\\n",
    "#--continue\n",
    "\n",
    "# try metavelvet next? \n",
    "\n",
    "# JOB-ID: 19352098\n",
    "# bash script file name: $OUTDIR/assembly\n",
    "\n",
    "# can't find where it's putting output contigs "
   ]
  },
  {
   "cell_type": "markdown",
   "id": "949f9385",
   "metadata": {},
   "source": [
    "Total time elapsed: 46 hrs \n",
    "looks like 190 GB is enough... and 24 CPU - 90% efficiency on last part of run "
   ]
  },
  {
   "cell_type": "code",
   "execution_count": null,
   "id": "361054d6-4259-41f5-9087-1f86b96f4729",
   "metadata": {},
   "outputs": [],
   "source": [
    "# NEED TO: Rename concatenated seqs so it can just be done in 1 step instead of renaming all indiividual files \n",
    "# (qc step it adds \"val_1/2\" to each seq file)"
   ]
  },
  {
   "cell_type": "code",
   "execution_count": null,
   "id": "7d360ec7-096a-4884-9753-38028d7a0b4d",
   "metadata": {},
   "outputs": [],
   "source": [
    "# Host seq removal - Thij's script https://github.com/ThijsSt/SCTLD-metagenomes/blob/main/Quality_control_metagenomes.ipynb\n",
    "\n",
    "#set parameters:\n",
    "SAMPLENAME=\n",
    "GENOME=\n",
    "READSPATH=/path/to/reads/\n",
    "INDEX=\"$GENOME\"_DB\n",
    "\n",
    "#this is how you build a bowtie2 index from a known genome:\n",
    "bowtie2-build ../data/working/M.cavernosa.fasta \"$INDEX\"\n",
    "\n",
    "#split out: bowtie2-build path/to/input index-name\n",
    "for f in <sample1> <sample2> <sample3> <sample4>\n",
    "do\n",
    "bowtie2 -p 8 -x ../data/working/$INDEX -1 \"$READSPATH\"/\"$f\"_R1_001_val_1.fq -2 \"$READSPATH\"/\"$f\"_R2_001_val_2.fq -S ../data/working/\"$f\"_mapped_and_unmapped.sam\n",
    "#this re-aligns your reads back to the index;\n",
    "\n",
    "samtools view -bS ../data/working/\"$f\"_mapped_and_unmapped.sam > ../data/working/\"$f\"_mapped_and_unmapped.bam\n",
    "#this converts the sam file from bowtie to a bam file for processing\n",
    "\n",
    "samtools view -b -f 12 -F 256 ../data/working/\"$f\"_mapped_and_unmapped.bam > ../data/working/\"$f\"_bothReadsUnmapped.bam\n",
    "#this extracts only the reads of which both do not match against the host genome\n",
    "\n",
    "samtools sort -n -m 5G -@ 2 ../data/working/\"$f\"_bothReadsUnmapped.bam -o ../data/working/\"$f\"_bothReadsUnmapped_sorted.bam\n",
    "samtools fastq -@ 8 ../data/working/\"$f\"_bothReadsUnmapped_sorted.bam \\\n",
    "    -1 \"$f\"_host_removed_R1.fastq \\\n",
    "    -2 \"$f\"_host_removed_R2.fastq \\\n",
    "    -0 /dev/null -s /dev/null -n\n",
    "\n",
    "#this sorts the file so both mates are together and then extracts them back as .fastq files"
   ]
  },
  {
   "cell_type": "code",
   "execution_count": null,
   "id": "695644db-c7c0-4f10-9571-aac1199a1c4a",
   "metadata": {},
   "outputs": [],
   "source": [
    "#!/bin/bash\n",
    "#SBATCH -c 24  # Number of Cores per Task\n",
    "#SBATCH --mem=180G  # Requested Memory\n",
    "#SBATCH -p cpu-long  # Partition\n",
    "#SBATCH -t 24:00:00  # Job time limit\n",
    "#SBATCH --mail-type=ALL\n",
    "#SBATCH -o /project/pi_sarah_gignouxwolfsohn_uml_edu/brooke/bash_scripts/slurm-%j.out  # %j = job ID\n",
    "\n",
    "# Set your input and output files\n",
    "SAMPLENAME=\"healthy_2019_mcav\"\n",
    "INPUTDIR=\"/project/pi_sarah_gignouxwolfsohn_uml_edu/brooke/mcav/assembly/healthy_2019_mcav/megahit\"\n",
    "OUTPUTDIR=\"/project/pi_sarah_gignouxwolfsohn_uml_edu/brooke/mcav/assembly/healthy_2019_mcav/symb_removed\"\n",
    "\n",
    "READSPATH=/project/pi_sarah_gignouxwolfsohn_uml_edu/brooke/mcav/trimmed/redo_auto_detect_01312024\n",
    "\n",
    "\n",
    "input_fasta=\"$SAMPLENAME.contigs.fa\"\n",
    "output_fasta=\"$SAMPLENAME_symb.contigs.fasta\"\n",
    "#couldn't get this to work?? just typed it out for the -o parameter in cutadapt script\n",
    "\n",
    "#load modules\n",
    "module load miniconda/22.11.1-1\n",
    "conda activate cutadaptenv\n",
    "\n",
    "# Set your primer sequences\n",
    "forward_primer=\"GAATTGCAGAACTCCGTGAACC\"\n",
    "reverse_primer=\"CGGGTTCWCTTGTYTGACTTCATGC\"\n",
    "\n",
    "# Verify path and input dir - only need for troubleshooting\n",
    "echo \"Working Directory: $(pwd)\"\n",
    "#ls -l $INPUTDIR\n",
    "\n",
    "# Run cutadapt\n",
    "cutadapt \\\n",
    "  -g \"$forward_primer\" \\\n",
    "  -a \"$reverse_primer\" \\\n",
    "  --discard-trimmed \\\n",
    "  -o $OUTPUTDIR/\"$output_fasta\" \\\n",
    "  $INPUTDIR/\"$input_fasta\"\n",
    "  \n",
    "ls -l $OUTPUTDIR\n",
    "#check results dir to see if it was successful in creating output file \n",
    "\n",
    "# JOB-ID: \n",
    "# bash script file name: brooke/mcav/assembly/healthy_2019_mcav/ITS2_trim\n"
   ]
  }
 ],
 "metadata": {
  "kernelspec": {
   "display_name": "Python 3 (ipykernel)",
   "language": "python",
   "name": "python3"
  },
  "language_info": {
   "codemirror_mode": {
    "name": "ipython",
    "version": 3
   },
   "file_extension": ".py",
   "mimetype": "text/x-python",
   "name": "python",
   "nbconvert_exporter": "python",
   "pygments_lexer": "ipython3",
   "version": "3.11.0"
  }
 },
 "nbformat": 4,
 "nbformat_minor": 5
}
