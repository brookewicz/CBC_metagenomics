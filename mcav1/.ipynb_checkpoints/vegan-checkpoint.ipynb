{
 "cells": [
  {
   "cell_type": "code",
   "execution_count": null,
   "id": "fdf0d8c6-3510-4931-b684-9ce127966f10",
   "metadata": {},
   "outputs": [
    {
     "name": "stderr",
     "output_type": "stream",
     "text": [
      "Updating HTML index of packages in '.Library'\n",
      "\n",
      "Making 'packages.html' ...\n",
      " done\n",
      "\n",
      "Downloading GitHub repo vegandevs/vegan@HEAD\n",
      "\n"
     ]
    },
    {
     "name": "stdout",
     "output_type": "stream",
     "text": [
      "lattice (NA -> 0.22-5 ) [CRAN]\n",
      "Matrix  (NA -> 1.6-4  ) [CRAN]\n",
      "nlme    (NA -> 3.1-164) [CRAN]\n",
      "mgcv    (NA -> 1.9-0  ) [CRAN]\n",
      "cluster (NA -> 2.1.6  ) [CRAN]\n",
      "MASS    (NA -> 7.3-60 ) [CRAN]\n",
      "permute (NA -> 0.9-7  ) [CRAN]\n"
     ]
    },
    {
     "name": "stderr",
     "output_type": "stream",
     "text": [
      "Installing 7 packages: lattice, Matrix, nlme, mgcv, cluster, MASS, permute\n",
      "\n",
      "Updating HTML index of packages in '.Library'\n",
      "\n",
      "Making 'packages.html' ...\n",
      " done\n",
      "\n",
      "Running `R CMD build`...\n",
      "\n"
     ]
    }
   ],
   "source": [
    "install.packages(\"remotes\")\n",
    "remotes::install_github(\"vegandevs/vegan\")"
   ]
  },
  {
   "cell_type": "code",
   "execution_count": null,
   "id": "1b8c69d3-1359-4617-b077-1138e14a1ef2",
   "metadata": {},
   "outputs": [],
   "source": []
  }
 ],
 "metadata": {
  "kernelspec": {
   "display_name": "R [conda env:.conda-kraken]",
   "language": "R",
   "name": "conda-env-.conda-kraken-r"
  },
  "language_info": {
   "codemirror_mode": "r",
   "file_extension": ".r",
   "mimetype": "text/x-r-source",
   "name": "R",
   "pygments_lexer": "r",
   "version": "4.2.0"
  }
 },
 "nbformat": 4,
 "nbformat_minor": 5
}
