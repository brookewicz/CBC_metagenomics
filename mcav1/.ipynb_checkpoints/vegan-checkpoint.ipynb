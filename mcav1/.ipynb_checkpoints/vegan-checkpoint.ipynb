{
 "cells": [
  {
   "cell_type": "code",
   "execution_count": 4,
   "id": "fdf0d8c6-3510-4931-b684-9ce127966f10",
   "metadata": {},
   "outputs": [
    {
     "name": "stderr",
     "output_type": "stream",
     "text": [
      "Updating HTML index of packages in '.Library'\n",
      "\n",
      "Making 'packages.html' ...\n",
      " done\n",
      "\n",
      "Downloading GitHub repo vegandevs/vegan@HEAD\n",
      "\n"
     ]
    },
    {
     "name": "stdout",
     "output_type": "stream",
     "text": [
      "cluster (NA -> 2.1.6) [CRAN]\n",
      "permute (NA -> 0.9-7) [CRAN]\n"
     ]
    },
    {
     "name": "stderr",
     "output_type": "stream",
     "text": [
      "Installing 2 packages: cluster, permute\n",
      "\n",
      "Updating HTML index of packages in '.Library'\n",
      "\n",
      "Making 'packages.html' ...\n",
      " done\n",
      "\n",
      "Running `R CMD build`...\n",
      "\n"
     ]
    },
    {
     "name": "stdout",
     "output_type": "stream",
     "text": [
      "* checking for file ‘/tmp/RtmppXNbBP/remotes1336547985c590/vegandevs-vegan-003391b/DESCRIPTION’ ... OK\n",
      "* preparing ‘vegan’:\n",
      "* checking DESCRIPTION meta-information ... OK\n",
      "* cleaning src\n",
      "* installing the package to process help pages\n",
      "* saving partial Rd database\n",
      "* cleaning src\n",
      "* checking for LF line-endings in source and make files and shell scripts\n",
      "* checking for empty or unneeded directories\n",
      "* looking to see if a ‘data/datalist’ file should be added\n",
      "* building ‘vegan_2.6-5.tar.gz’\n"
     ]
    }
   ],
   "source": [
    "install.packages(\"remotes\")\n",
    "remotes::install_github(\"vegandevs/vegan\")"
   ]
  },
  {
   "cell_type": "code",
   "execution_count": 14,
   "id": "1b8c69d3-1359-4617-b077-1138e14a1ef2",
   "metadata": {},
   "outputs": [
    {
     "name": "stdout",
     "output_type": "stream",
     "text": [
      "[1] \"Current Working Directory: /project/pi_sarah_gignouxwolfsohn_uml_edu/brooke/CBC_metagenomics/mcav1\"\n"
     ]
    }
   ],
   "source": [
    "# Get the current working directory\n",
    "current_directory <- getwd()\n",
    "print(paste(\"Current Working Directory:\", current_directory))"
   ]
  },
  {
   "cell_type": "code",
   "execution_count": 1,
   "id": "1e1a05e7-ae1e-42d0-b5c3-1705933c941e",
   "metadata": {},
   "outputs": [
    {
     "name": "stdout",
     "output_type": "stream",
     "text": [
      "[1] \"New Working Directory: /project/pi_sarah_gignouxwolfsohn_uml_edu/brooke/mcav_taxonomy/kraken\"\n"
     ]
    }
   ],
   "source": [
    "# Set a new working directory\n",
    "new_directory <- \"//project/pi_sarah_gignouxwolfsohn_uml_edu/brooke/mcav_taxonomy/kraken\"\n",
    "setwd(new_directory)\n",
    "\n",
    "# Check if the working directory has been changed\n",
    "current_directory <- getwd()\n",
    "print(paste(\"New Working Directory:\", current_directory))\n"
   ]
  },
  {
   "cell_type": "code",
   "execution_count": 40,
   "id": "48c0a2a8-4390-4e0c-a942-576a188bdb7c",
   "metadata": {},
   "outputs": [
    {
     "name": "stderr",
     "output_type": "stream",
     "text": [
      "also installing the dependency ‘igraph’\n",
      "\n",
      "\n",
      "Updating HTML index of packages in '.Library'\n",
      "\n",
      "Making 'packages.html' ...\n",
      " done\n",
      "\n"
     ]
    }
   ],
   "source": [
    "install.packages('ecodist')"
   ]
  },
  {
   "cell_type": "code",
   "execution_count": 41,
   "id": "6120ee2c-b7d9-45bf-9601-8b7f96133619",
   "metadata": {},
   "outputs": [
    {
     "ename": "ERROR",
     "evalue": "Error in full + full2: non-numeric argument to binary operator\n",
     "output_type": "error",
     "traceback": [
      "Error in full + full2: non-numeric argument to binary operator\nTraceback:\n",
      "1. ecodist::pco(beta)",
      "2. full(x)"
     ]
    }
   ],
   "source": [
    "bray_curtis_pcoa <- ecodist::pco(beta)"
   ]
  },
  {
   "cell_type": "code",
   "execution_count": 1,
   "id": "a82f4577-0dc5-408a-84f9-5d1e7d1b8309",
   "metadata": {},
   "outputs": [
    {
     "name": "stderr",
     "output_type": "stream",
     "text": [
      "Updating HTML index of packages in '.Library'\n",
      "\n",
      "Making 'packages.html' ...\n",
      " done\n",
      "\n"
     ]
    }
   ],
   "source": [
    "install.packages('tidyverse')"
   ]
  },
  {
   "cell_type": "code",
   "execution_count": 2,
   "id": "2cf1c7e6-f6b3-41f9-8a6f-b65a9feff119",
   "metadata": {},
   "outputs": [
    {
     "name": "stderr",
     "output_type": "stream",
     "text": [
      "Warning message:\n",
      "“package ‘ggvegan’ is not available for this version of R\n",
      "\n",
      "A version of this package for your version of R might be available elsewhere,\n",
      "see the ideas at\n",
      "https://cran.r-project.org/doc/manuals/r-patched/R-admin.html#Installing-packages”\n"
     ]
    }
   ],
   "source": [
    "install.packages('ggvegan')"
   ]
  },
  {
   "cell_type": "code",
   "execution_count": 5,
   "id": "2850ff55-8356-429a-8f2e-8c41eaa013c0",
   "metadata": {},
   "outputs": [
    {
     "name": "stderr",
     "output_type": "stream",
     "text": [
      "Loading required package: permute\n",
      "\n",
      "Loading required package: lattice\n",
      "\n",
      "This is vegan 2.6-5\n",
      "\n"
     ]
    }
   ],
   "source": [
    "library(tidyverse)\n",
    "library(vegan)"
   ]
  },
  {
   "cell_type": "code",
   "execution_count": null,
   "id": "a02ee7ab-b89c-45f2-84fe-7ccb5eaa9f16",
   "metadata": {},
   "outputs": [],
   "source": []
  }
 ],
 "metadata": {
  "kernelspec": {
   "display_name": "R [conda env:.conda-r_env]",
   "language": "R",
   "name": "conda-env-.conda-r_env-r"
  },
  "language_info": {
   "codemirror_mode": "r",
   "file_extension": ".r",
   "mimetype": "text/x-r-source",
   "name": "R",
   "pygments_lexer": "r",
   "version": "4.3.2"
  }
 },
 "nbformat": 4,
 "nbformat_minor": 5
}
