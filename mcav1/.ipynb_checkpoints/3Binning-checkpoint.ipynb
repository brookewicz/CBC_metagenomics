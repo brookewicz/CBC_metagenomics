{
 "cells": [
  {
   "cell_type": "markdown",
   "id": "f2b24a3a",
   "metadata": {},
   "source": [
    "### Preparing assembly files for binning\n",
    "To create a depth processing file, reads must be re-aligned to the contigs, or mapping. This has been done using bowtie2 (can also be done using BWA). The next step would be to create a depth file with MetaBat2, convert that to be suitable for CONCOCT and MaxBin2, and then process these into bins. \n",
    "\n",
    "Software documentations:\n",
    "\n",
    "MetaBAT: https://bitbucket.org/berkeleylab/metabat/src/master/README.md\n",
    "\n",
    "CONCOCT: https://github.com/BinPro/CONCOCT\n",
    "\n",
    "CheckM: https://github.com/Ecogenomics/CheckM/wiki\n",
    "\n",
    "Das_tool: https://github.com/cmks/DAS_Tool\n",
    "\n",
    "Metabinner: https://github.com/ziyewang/MetaBinner"
   ]
  },
  {
   "cell_type": "code",
   "execution_count": null,
   "id": "a85590d3-5b61-4e66-9951-f94e95f687db",
   "metadata": {
    "tags": []
   },
   "outputs": [],
   "source": [
    "#Create new env and install software \n",
    "conda create -n binning python=3.7\n",
    "conda activate binning\n",
    "conda install -c bioconda metabat2\n",
    "\n",
    "conda install -c bioconda checkm-genome\n",
    "conda install -c bioconda das_tool\n",
    "conda install -c bioconda metabinner\n",
    "#errors downloading metabinner...HAVEN'T INSTALLED IN THE ENV YET"
   ]
  },
  {
   "cell_type": "markdown",
   "id": "25da1fd1",
   "metadata": {
    "tags": []
   },
   "source": [
    "#### MetaBat2\n",
    "The first piece of code here generates a fairly simple text file for the coverage of these files. The next set of code runs MetaBat2  (v2.10.2) using minContig 1500, minCV 1.0, minCVSum 1.0, maxP 95%, minS 60, lcuster size 50000 and maxEdges 200. It sets the minimum size for a bin to 200000 basepairs, which is fairly low, so you can keep it. It gathers all mapping information into a single depth file, so you can use your 1 file in the next analysis. An important parameter to play around with is the minimum bin size. When set to 200000, this will severely limit the amount of bins you gain, especially if your samples aren't perfect. Therefore, it is wise to run MetaBAT several times with slight alterations to the -s flag to find your optimal setting (you don't want 3 bins, you also don't want 1000).\n",
    "\n",
    "For a reference on how to do this accurately, use: https://bitbucket.org/berkeleylab/metabat/wiki/Best%20Binning%20Practices"
   ]
  },
  {
   "cell_type": "code",
   "execution_count": null,
   "id": "04840474",
   "metadata": {},
   "outputs": [],
   "source": [
    "#!/bin/bash\n",
    "#SBATCH -c 24  # Number of Cores per Task\n",
    "#SBATCH --mem=50G  # Requested Memory\n",
    "#SBATCH -p cpu  # Partition\n",
    "#SBATCH -t 20:00:00  # Job time limit\n",
    "#SBATCH --mail-type=ALL\n",
    "#SBATCH -o /project/pi_sarah_gignouxwolfsohn_uml_edu/brooke/bash_scripts/slurm-%j.out  # %j = job ID  # %j = job ID\n",
    "\n",
    "module load miniconda/22.11.1-1\n",
    "conda activate binning\n",
    "\n",
    "#set parameters for binning:\n",
    "SAMPLENAME=mcav\n",
    "OUTDIR=MetaBAT_\"$SAMPLENAME\"_bins_redo\n",
    "\n",
    "CONTIGPATH=/project/pi_sarah_gignouxwolfsohn_uml_edu/brooke/working/mcav_assembly_redo\n",
    "CONTIGFILE=mcav.contigs-fixed.fa\n",
    "\n",
    "#mkdir ./results/$OUTDIR\n",
    "#mkdir ./working/binning_redo\n",
    "\n",
    "#create depth file for MetaBat2\n",
    "jgi_summarize_bam_contig_depths --outputDepth ./working/binning_redo/MetaBAT_\"$SAMPLENAME\"_depth.txt $CONTIGPATH/*.bam\n",
    "\n",
    "#mkdir results/$OUTDIR/Metabin_3\n",
    "#MetaBat2 script with verbose output, minimum length (m)(has to be >=1500) and no min bin size \n",
    "metabat2 -i $CONTIGPATH/$CONTIGFILE -a ./working/binning_redo/MetaBAT_\"$SAMPLENAME\"_depth.txt \\\n",
    "-o ./results/$OUTDIR/Metabin_3/ \\\n",
    "-m 1500 \n",
    "#try again with no min contig length..don't know if it lets you \n",
    "#MetaBAT 2 (v2.12.1) using minContig 1500, minCV 1.0, minCVSum 1.0, maxP 95%, minS 60, and maxEdges 200.\n",
    "\n",
    "#this runs CheckM immediately after and puts the results alongside your bins\n",
    "checkm lineage_wf -x fa -t 3 ./results/$OUTDIR/Metabin_3 ./results/$OUTDIR/Metabin_3/bins-stats\n",
    "\n",
    "#bash script: metabat\n",
    "#JOB ID: 15838479"
   ]
  },
  {
   "cell_type": "raw",
   "id": "f3c4e1a8-8671-48b5-8f24-37567d690f64",
   "metadata": {},
   "source": [
    "metabat results from min length 2500, min bin size 5000\n",
    "\n",
    "Bin Id         Marker lineage    # genomes   # markers   # marker sets    0    1   2   3   4   5+   Completeness   Contamination   Strain heterogeneity  \n",
    "-----------------------------------------------------------------------------------------------------------------------------------------------------------\n",
    "  Metabin.11   k__Archaea (UID2)      207         149           107        147   2   0   0   0   0        1.25            0.00               0.00          \n",
    "  Metabin.9       root (UID1)         5656         56            24         56   0   0   0   0   0        0.00            0.00               0.00          \n",
    "  Metabin.8       root (UID1)         5656         56            24         56   0   0   0   0   0        0.00            0.00               0.00          \n",
    "  Metabin.7       root (UID1)         5656         56            24         56   0   0   0   0   0        0.00            0.00               0.00          \n",
    "  Metabin.6       root (UID1)         5656         56            24         56   0   0   0   0   0        0.00            0.00               0.00          \n",
    "  Metabin.5       root (UID1)         5656         56            24         56   0   0   0   0   0        0.00            0.00               0.00          \n",
    "  Metabin.49      root (UID1)         5656         56            24         56   0   0   0   0   0        0.00            0.00               0.00          \n",
    "  Metabin.48      root (UID1)         5656         56            24         56   0   0   0   0   0        0.00            0.00               0.00          \n",
    "  Metabin.47      root (UID1)         5656         56            24         56   0   0   0   0   0        0.00            0.00               0.00          \n",
    "  Metabin.46      root (UID1)         5656         56            24         56   0   0   0   0   0        0.00            0.00               0.00          \n",
    "  Metabin.45      root (UID1)         5656         56            24         56   0   0   0   0   0        0.00            0.00               0.00          \n",
    "  Metabin.44      root (UID1)         5656         56            24         56   0   0   0   0   0        0.00            0.00               0.00          \n",
    "  Metabin.43      root (UID1)         5656         56            24         56   0   0   0   0   0        0.00            0.00               0.00          \n",
    "  Metabin.42      root (UID1)         5656         56            24         56   0   0   0   0   0        0.00            0.00               0.00          \n",
    "  Metabin.41      root (UID1)         5656         56            24         56   0   0   0   0   0        0.00            0.00               0.00          \n",
    "  Metabin.40      root (UID1)         5656         56            24         56   0   0   0   0   0        0.00            0.00               0.00          \n",
    "  Metabin.4       root (UID1)         5656         56            24         56   0   0   0   0   0        0.00            0.00               0.00          \n",
    "  Metabin.39      root (UID1)         5656         56            24         56   0   0   0   0   0        0.00            0.00               0.00          \n",
    "  Metabin.38      root (UID1)         5656         56            24         56   0   0   0   0   0        0.00            0.00               0.00          \n",
    "  Metabin.37      root (UID1)         5656         56            24         56   0   0   0   0   0        0.00            0.00               0.00          \n",
    "  Metabin.36      root (UID1)         5656         56            24         56   0   0   0   0   0        0.00            0.00               0.00          \n",
    "  Metabin.35      root (UID1)         5656         56            24         56   0   0   0   0   0        0.00            0.00               0.00          \n",
    "  Metabin.34      root (UID1)         5656         56            24         56   0   0   0   0   0        0.00            0.00               0.00          \n",
    "  Metabin.33      root (UID1)         5656         56            24         56   0   0   0   0   0        0.00            0.00               0.00          \n",
    "  Metabin.32      root (UID1)         5656         56            24         56   0   0   0   0   0        0.00            0.00               0.00          \n",
    "  Metabin.31      root (UID1)         5656         56            24         56   0   0   0   0   0        0.00            0.00               0.00          \n",
    "  Metabin.30      root (UID1)         5656         56            24         56   0   0   0   0   0        0.00            0.00               0.00          \n",
    "  Metabin.3       root (UID1)         5656         56            24         56   0   0   0   0   0        0.00            0.00               0.00          \n",
    "  Metabin.29      root (UID1)         5656         56            24         56   0   0   0   0   0        0.00            0.00               0.00          \n",
    "  Metabin.28      root (UID1)         5656         56            24         56   0   0   0   0   0        0.00            0.00               0.00          \n",
    "  Metabin.27      root (UID1)         5656         56            24         56   0   0   0   0   0        0.00            0.00               0.00          \n",
    "  Metabin.26      root (UID1)         5656         56            24         56   0   0   0   0   0        0.00            0.00               0.00          \n",
    "  Metabin.25      root (UID1)         5656         56            24         56   0   0   0   0   0        0.00            0.00               0.00          \n",
    "  Metabin.24      root (UID1)         5656         56            24         56   0   0   0   0   0        0.00            0.00               0.00          \n",
    "  Metabin.23      root (UID1)         5656         56            24         56   0   0   0   0   0        0.00            0.00               0.00          \n",
    "  Metabin.22      root (UID1)         5656         56            24         56   0   0   0   0   0        0.00            0.00               0.00          \n",
    "  Metabin.21      root (UID1)         5656         56            24         56   0   0   0   0   0        0.00            0.00               0.00          \n",
    "  Metabin.20      root (UID1)         5656         56            24         56   0   0   0   0   0        0.00            0.00               0.00          \n",
    "  Metabin.2       root (UID1)         5656         56            24         56   0   0   0   0   0        0.00            0.00               0.00          \n",
    "  Metabin.19      root (UID1)         5656         56            24         56   0   0   0   0   0        0.00            0.00               0.00          \n",
    "  Metabin.18      root (UID1)         5656         56            24         56   0   0   0   0   0        0.00            0.00               0.00          \n",
    "  Metabin.17      root (UID1)         5656         56            24         56   0   0   0   0   0        0.00            0.00               0.00          \n",
    "  Metabin.16      root (UID1)         5656         56            24         56   0   0   0   0   0        0.00            0.00               0.00          \n",
    "  Metabin.15      root (UID1)         5656         56            24         56   0   0   0   0   0        0.00            0.00               0.00          \n",
    "  Metabin.14      root (UID1)         5656         56            24         56   0   0   0   0   0        0.00            0.00               0.00          \n",
    "  Metabin.13      root (UID1)         5656         56            24         56   0   0   0   0   0        0.00            0.00               0.00          \n",
    "  Metabin.12      root (UID1)         5656         56            24         56   0   0   0   0   0        0.00            0.00               0.00          \n",
    "  Metabin.10      root (UID1)         5656         56            24         56   0   0   0   0   0        0.00            0.00               0.00          \n",
    "  Metabin.1       root (UID1)         5656         56            24         56   0   0   0   0   0        0.00            0.00               0.00     "
   ]
  },
  {
   "cell_type": "code",
   "execution_count": null,
   "id": "ce034432-eee3-4b79-824e-84f68e4ee2c1",
   "metadata": {},
   "outputs": [],
   "source": [
    "#same results from filtering to 1000bp in mapping step...\n",
    "#probably cuz you're specifying the same mincontig length in metabat\n",
    "#so it doesn't matter what had previously been filtered out if it was less than that min length"
   ]
  },
  {
   "cell_type": "raw",
   "id": "34ca1ad0-a870-413e-835b-9ff7d14fa373",
   "metadata": {},
   "source": [
    "#results from min contig length 1500 and no min bin size\n",
    "2 bins (5494856 bases in total) formed.\n",
    "  Bin Id     Marker lineage    # genomes   # markers   # marker sets    0    1   2   3   4   5+   Completeness   Contamination   Strain heterogeneity  \n",
    "-------------------------------------------------------------------------------------------------------------------------------------------------------\n",
    "  .1       k__Archaea (UID2)      207         149           107        147   2   0   0   0   0        1.25            0.00               0.00          \n",
    "  .2          root (UID1)         5656         56            24         56   0   0   0   0   0        0.00            0.00               0.00  "
   ]
  },
  {
   "cell_type": "markdown",
   "id": "ca64f14c-451a-4d60-baea-7417b8f59ecc",
   "metadata": {},
   "source": [
    "### prep file to import as collection file to anvio \n",
    "- metabin produces fasta files containing contigs of each bin \n",
    "- collection artifact requires a txt file that contains list of contigs with their associated bins (2 columns) "
   ]
  },
  {
   "cell_type": "code",
   "execution_count": null,
   "id": "5bd6e348-b140-4a55-bcd1-d71285103985",
   "metadata": {},
   "outputs": [],
   "source": [
    "#!/bin/bash\n",
    "# A simple script to convert metabin results to anvio\n",
    "FILES=$(find *.fa)\n",
    "for f in $FILES; do\n",
    " NAME=$(basename $f .fasta)\n",
    " grep \">\" $f | sed 's/>//' | sed -e \"s/$/\\t$NAME/\" | sed 's/\\./_/' >> metabins4anvio.txt\n",
    "done"
   ]
  },
  {
   "cell_type": "markdown",
   "id": "02d33a97",
   "metadata": {},
   "source": [
    " #### CONCOCT\n",
    " This set of commands runs CONCOCT in its standard mode. It first creates a depth/coverage file for itself to use and then runs CONCOCT, with the standard settings. This means k-mer value is set to 4, minimum contig length is 1000, and CONCOCT runs on the exact amount of slots given to it by Hydra. \n",
    " \n",
    "CONCOCT creates a depth file out of the coverance created in the mapping step. It is key that this is all in the correct places before proceeding with binning. It creates a single file, which is then used for the complete binning process. Do keep in mind that binning might take awhile, so be prepared to let this run overnight.\n",
    "\n",
    "IMPORTANT: in the current version of CONCOCT, you're missing a vital file, called libmkl.so. Without this file, CONCOCT will not be able to start. You can fix this issue by installing another file through Conda: \n",
    "\n",
    "conda install mkl\n",
    "\n",
    "Additionally, samtools will not work properly after a fresh CONCOCT install. The easiest way to fix this is to go to your environment where you installed CONCOCT and force an update through conda. "
   ]
  },
  {
   "cell_type": "markdown",
   "id": "fab9d133-fa62-4532-9975-d424e9478b09",
   "metadata": {},
   "source": [
    "### Cannot install concoct at the moment"
   ]
  },
  {
   "cell_type": "code",
   "execution_count": null,
   "id": "75a9b95c-856f-4219-bb64-d1209579c01d",
   "metadata": {},
   "outputs": [],
   "source": [
    "#error installing concoct..everything needs different python and dependencies version so creating its own env\n",
    "#conda create -n concoct python=3\n",
    "conda activate concoct\n",
    "conda install -c bioconda concoct\n",
    "#error installing concoct - used this instead:\n",
    "#conda install cython numpy scipy biopython pandas pip scikit-learn"
   ]
  },
  {
   "cell_type": "code",
   "execution_count": null,
   "id": "9b362215-4d95-4da0-9fcd-9e9bf9414230",
   "metadata": {},
   "outputs": [],
   "source": [
    "#try finding scripts in directory:\n",
    "lib/python2.7/site-packages/concoct\n",
    "\n",
    "cd //home/brooke_sienkiewicz_student_uml_edu/CONCOCT-1.1.0/\n",
    "#trying to load possible dependencies that aren't automatically loaded?\n",
    "module load python/3.8.12\n",
    "module load openblas/0.3.21\n",
    "module load py-pandas/1.5.3+py3.8.12\n",
    "module load gcc/11.2.0\n",
    "module load gsl/2.6\n",
    "\n",
    "#ERROR: \n",
    "#You need to have Cython installed on your system to run setup.py. Sorry!\n",
    "#$ pip install Cython\n",
    "#Requirement already satisfied: Cython in /home/brooke_sienkiewicz_student_uml_edu/.conda/envs/concoct/lib/python3.6/site-packages (0.29.24)"
   ]
  },
  {
   "cell_type": "code",
   "execution_count": null,
   "id": "a8fb3bc0-d27d-4e2f-a938-bf521de97530",
   "metadata": {},
   "outputs": [],
   "source": [
    "# trying fresh env \n",
    "conda create -n concoct_env python=3\n",
    "conda activate concoct_env\n",
    "conda install -c bioconda -c conda-forge concoct"
   ]
  },
  {
   "cell_type": "code",
   "execution_count": null,
   "id": "34233edd",
   "metadata": {},
   "outputs": [],
   "source": [
    "#!/bin/bash\n",
    "#SBATCH -c 24  # Number of Cores per Task\n",
    "#SBATCH --mem=50G  # Requested Memory\n",
    "#SBATCH -p cpu  # Partition\n",
    "#SBATCH -t 24:00:00  # Job time limit\n",
    "#SBATCH --mail-type=ALL\n",
    "#SBATCH -o /project/pi_sarah_gignouxwolfsohn_uml_edu/brooke/bash_scripts/slurm-%j-concoct.out  # %j = job ID  # %j = job ID\n",
    "\n",
    "module load miniconda/22.11.1-1\n",
    "conda activate concoct_env\n",
    "\n",
    "\n",
    "#set parameters\n",
    "SAMPLENAME=mcav\n",
    "MAPPINGPATH=/project/pi_sarah_gignouxwolfsohn_uml_edu/brooke/working/mcav_assembly_redo\n",
    "CONTIGPATH=/project/pi_sarah_gignouxwolfsohn_uml_edu/brooke/working/mcav_assembly_redo\n",
    "CONTIGFILE=mcav.contigs-fixed.fa\n",
    "OUTDIR=concoct_\"$SAMPLENAME\"_bins\n",
    "TEMPDIR=concoct_\"$SAMPLENAME\"_temp\n",
    "\n",
    "\n",
    "ABSPATH='project/pi_sarah_gignouxwolfsohn_uml_edu/brooke/working/binning_redo/concoct'\n",
    "#creates the CONCOCT depth file\n",
    "#this part cuts up the contigs into 10kb pieces for CONCOCT to use \n",
    "cut_up_fasta.py $CONTIGPATH/$CONTIGFILE -c 10000 -o 0 --merge_last -b $ABSPATH/$SAMPLENAME_contigs_cut.bed > $ABSPATH/\"$SAMPLENAME_contigs_cut.fa\" \n",
    "#estimate contig coverage\n",
    "\n",
    "concoct_coverage_table.py $ABSPATH/$SAMPLENAME_contigs_cut.bed $MAPPINGPATH/*.bam > $ABSPATH/coverage_table_$SAMPLENAME.tsv || { echo 'Exit code 2: failed to create coverage file, exiting.' && exit; }\n",
    "\n",
    "#CONCOCT script\n",
    "\n",
    "mkdir $ABSPATH/$TEMPDIR\n",
    "\n",
    "#run CONCOCT\n",
    "concoct --composition_file $ABSPATH/$SAMPLENAME_contigs_cut.fa --coverage_file $ABSPATH/coverage_table_$SAMPLENAME.tsv -t 3 -b $ABSPATH/$TEMPDIR || { echo 'Exit code 3: CONCOCT failed to run, exiting.' && exit; }\n",
    "merge_cutup_clustering.py $ABSPATH/$TEMPDIR/clustering_gt1000.csv > $ABSPATH/$TEMPDIR/$SAMPLENAME_clustering_merged.csv || { echo 'Exit code 4: failed to merge clusters, exiting.' && exit; }\n",
    "extract_fasta_bins.py $CONTIGPATH/$CONFIGFILE $ABSPATH/$TEMPDIR/$SAMPLENAME_clustering_merged.csv --output_path project/pi_sarah_gignouxwolfsohn_uml_edu/brooke/results/$OUTDIR || { echo 'Exit code 5: Bins were not extracted, exiting.' && exit; }\n",
    "\n",
    "#this runs CheckM immediately after and puts the results alongside your bins\n",
    "#checkm lineage_wf -x fa -t 3 ./results/$OUTDIR ./results/$OUTDIR/bins-stats\n",
    "\n",
    "#don't know if installing checkM will mess up the dependencies so don't want to mess with it yet\n",
    "\n",
    "#bash script: concoct\n",
    "#JOB ID:  15908004"
   ]
  },
  {
   "cell_type": "markdown",
   "id": "7a269148",
   "metadata": {},
   "source": [
    "You can now proceed to actually running Metabinner. "
   ]
  },
  {
   "cell_type": "markdown",
   "id": "07d51a11",
   "metadata": {
    "tags": []
   },
   "source": [
    "### Bin_refiner\n",
    "This runs an ensemble binning software on your bins. There are two options here: one is to run all of the bins together and allow the software to choose a better set for you. Alternatively, you can use the second script, below the first one, to make different combinations of the three and then choose which two sets to combine into your perfect set of bins."
   ]
  },
  {
   "cell_type": "markdown",
   "id": "bac7b144-cb4c-442f-baff-a1149321e657",
   "metadata": {},
   "source": [
    "very confused....there is no third binning script. and i dont know where das_tools isntructions are. and I dont know what busco is "
   ]
  },
  {
   "cell_type": "code",
   "execution_count": null,
   "id": "bd5ff276",
   "metadata": {},
   "outputs": [],
   "source": [
    "\n",
    "module load miniconda/22.11.1-1\n",
    "conda activate binning\n",
    "\n",
    "SAMPLENAME=mcav\n",
    "CONCOCTBINS=./results/CONCOCT_\"$SAMPLENAME\"_bins\n",
    "MetaBATBINS=./results/MetaBAT_\"$SAMPLENAME\"_bins/Metabin\n",
    "#EXTRABINNERBINS=/path/to/extra/binner/bins/\n",
    "#did not add extra binning software 0 - only have 2\n",
    "INDIR=Refiner_\"$SAMPLENAME\"_bins\n",
    "OUTDIR=\"$SAMPLENAME\"_final_bins\n",
    "#CHECKMPATH=/path/to/CHECKM/DATABASE\n",
    "\n",
    "mkdir ./working/$INDIR\n",
    "mkdir ./working/$INDIR/CONCOCT\n",
    "mkdir ./working/$INDIR/MetaBAT\n",
    "mkdir ./working/$INDIR/Extrabinner\n",
    "mkdir ./results/$OUTDIR\n",
    "\n",
    "cp $CONCOCTBINS/*.fa ./working/$INDIR/CONCOCT/\n",
    "cp $MetaBATBINS/*.fa ./working/$INDIR/MetaBAT/\n",
    "#cp $EXTRABINNERBINS/*.fa ./working/$INDIR/Extrabinner/\n",
    "\n",
    "INPUT=./working/$INDIR/\n",
    "Binning_refiner -i $INPUT -p $SAMPLENAME -plot -m 50\n",
    "\n",
    "mv \"$SAMPLENAME\"_Binning_refiner_outputs/\"$SAMPLENAME\"_refined_bins/*.fasta ./results/$OUTDIR\n",
    "\n",
    "#run CheckM for quick assessment\n",
    "checkm lineage_wf -x fasta -t 3 ./results/$OUTDIR ./results/$OUTDIR/bins-stats || { echo 'Exit code 5: CheckM failed' && exit; }\n",
    "\n",
    "#this next bit runs busco on your final bins\n",
    "conda deactivate\n",
    "conda activate busco\n",
    "busco -m  genome -i ../data/results/$OUTDIR -o ../data/results/$OUTDIR/bins-stats-Busco --auto-lineage -c $NSLOTS --download-path $DOWNLOADPATH || { echo 'Exit code 6: BUSCO failed, exiting.' && exit; }\n",
    "\n",
    "#Then we generate files for Anvi'O processing:\n",
    "cd ../data/results/$OUTDIR/\n",
    "#the next loop generates a txt file which contains all the necessary information for Anvi'O\n",
    "for fasta_file in *.fasta\n",
    "do\n",
    "    bin_name=`echo $fasta_file | awk 'BEGIN{FS=\".\"}{print $1}'`;\n",
    "    for contig_id in `grep '>' $fasta_file | sed 's/\\>//g'`\n",
    "    do\n",
    "        echo -e \"$contig_id\\t$bin_name\"\n",
    "    done\n",
    "done > collection.txt\n",
    "#this removes the > so Anvi'O recognises the collection and labels it correctly\n",
    "sed 's/>/ /' collection.txt > \"$SAMPLENAME\"_collection.txt\n",
    "#remove the old collection to prevent confusion\n",
    "rm collection.txt"
   ]
  },
  {
   "cell_type": "markdown",
   "id": "a10818cf",
   "metadata": {},
   "source": [
    "### Continuing and troubleshooting\n",
    "You should now have 3 sets of bins, each created with a slightly different algorithm, consolidated into a single set of bins through DAS_tools. It is now important to run the CheckM software with the script below and generate output files for all of them. This will inform you towards the quality of your bins and your contamination/completion rate. After this, you can proceed to the \"Refine Bins\" part of the workflow.\n",
    "\n",
    "CheckM runs a check against a database to determine the levels of completeness versus contamination. These statistics are vital in determining how you want to proceed in the refinement process. Mind you, CheckM works without setting the database you need, but you get very confusing data. So make sure you set it correctly before running it. The scripts above run CheckM intrinsically, but its good to know that CheckM is the reason these scripts need to be run on a himem node (it regularly spikes above the 16G of RAM used per node, so yeah). \n",
    "\n",
    "MetaBAT is extremely annoying in the fact that it won't create its own directories. Make sure the directories are in place before it actually runs. \n",
    "\n",
    "CONCOCT will in general create more bins than MetaBAT2, but you can quite likely discard quite a few since they're going to be 3000 bp long which is not a lot (although it could be a viral sequence)."
   ]
  },
  {
   "cell_type": "markdown",
   "id": "ab66f40d",
   "metadata": {},
   "source": [
    "Congratulations! You have finished binning. The bins you have produced are considered putative genomes and can be used for a fair amount of practices, some of which I have listed in the Anvi'O notebook, others which are in the Analysis notebook. Good luck!"
   ]
  }
 ],
 "metadata": {
  "kernelspec": {
   "display_name": "Python 3 (ipykernel)",
   "language": "python",
   "name": "python3"
  },
  "language_info": {
   "codemirror_mode": {
    "name": "ipython",
    "version": 3
   },
   "file_extension": ".py",
   "mimetype": "text/x-python",
   "name": "python",
   "nbconvert_exporter": "python",
   "pygments_lexer": "ipython3",
   "version": "3.11.0"
  }
 },
 "nbformat": 4,
 "nbformat_minor": 5
}
