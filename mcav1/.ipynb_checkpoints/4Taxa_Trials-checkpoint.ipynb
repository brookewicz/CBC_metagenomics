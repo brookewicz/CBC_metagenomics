{
 "cells": [
  {
   "cell_type": "markdown",
   "id": "7b64ba0e-624e-404a-832e-de0ab81dc810",
   "metadata": {},
   "source": [
    "### Taxonomic Profiling on MAGS\n",
    "- Can't figure out on anvio so for now trying other options\n",
    "- option 1: sylph \n",
    "- option 2: kraken"
   ]
  },
  {
   "cell_type": "markdown",
   "id": "131c9931-f55e-41d1-ab97-20fac3a466cc",
   "metadata": {
    "jp-MarkdownHeadingCollapsed": true,
    "tags": []
   },
   "source": [
    "##### Sylph\n",
    "https://github.com/bluenote-1577/sylph\n",
    "- average nucleic identity (ANI) querying or taxonomic profiling"
   ]
  },
  {
   "cell_type": "code",
   "execution_count": null,
   "id": "3345e46d-9dde-4dea-88cd-4be610cc4260",
   "metadata": {},
   "outputs": [],
   "source": [
    "#activate unity interactive job..need high memory for installation\n",
    "salloc -p cpu --mem 150G"
   ]
  },
  {
   "cell_type": "code",
   "execution_count": null,
   "id": "a7b025ed-0786-4283-a3be-b5343e54d059",
   "metadata": {},
   "outputs": [],
   "source": [
    "%conda init --all"
   ]
  },
  {
   "cell_type": "code",
   "execution_count": null,
   "id": "dfb5beeb-938f-4145-897b-99a0c4d22899",
   "metadata": {},
   "outputs": [],
   "source": [
    "#module load miniconda/22.11.1-1\n",
    "#conda create -n taxa\n",
    "%conda activate taxa"
   ]
  },
  {
   "cell_type": "code",
   "execution_count": null,
   "id": "238f2098-b303-43b1-8ad9-604d8216f719",
   "metadata": {},
   "outputs": [],
   "source": [
    "#install sylph package\n",
    "conda install -c bioconda sylph\n",
    "#if above doesnt work do: \n",
    "conda install -c bioconda -c conda-forge sylph"
   ]
  },
  {
   "cell_type": "code",
   "execution_count": null,
   "id": "a75cf3d5-7ff1-47db-ba4a-b2faf6cff548",
   "metadata": {},
   "outputs": [],
   "source": [
    "#set parameters\n",
    "SAMPLENAME=mcav\n",
    "CONTIGPATH=/project/pi_sarah_gignouxwolfsohn_uml_edu/brooke/results/mcav_assembly3\n",
    "CONTIGFILE=mcav.contigs-fixed.fa"
   ]
  },
  {
   "cell_type": "code",
   "execution_count": null,
   "id": "780258a3-bc5d-46fb-acce-3419e19713b3",
   "metadata": {},
   "outputs": [],
   "source": [
    "#sketch paired-end reads\n",
    "sylph sketch -1 ./trimmed/*_R1_001_val_1.fq -2 ./trimmed/*_R2_001_val_2.fq -d \"$SAMPLENAME\"_sketches -t 50 \n",
    "#decrease -c (default =200)..."
   ]
  },
  {
   "cell_type": "code",
   "execution_count": null,
   "id": "8e17431b-56de-4ee6-a3d8-9de32ae1c080",
   "metadata": {},
   "outputs": [],
   "source": [
    "#create database if contigs are all in one fasta file\n",
    "sylph sketch $CONTIGPATH/$CONTIGFILE -i -o ./working/\"$SAMPLENAME\"_contig_database"
   ]
  },
  {
   "cell_type": "code",
   "execution_count": null,
   "id": "6bba0587-108a-410a-9efd-eca97bb47bdb",
   "metadata": {},
   "outputs": [],
   "source": [
    "# query for ANI \n",
    "sylph query \"$SAMPLENAME\"_sketches/*.sylsp ./working/\"$SAMPLENAME\"_contig_database.syldb\n",
    "#output is statistics for each genome against our reads\n",
    "#redirect output??\n",
    "#Thus sylph query is not a profiler. It does not tell you the abundance of the genomes in your sample, just how similar your query genome is to the genomes within the sample."
   ]
  },
  {
   "cell_type": "raw",
   "id": "452b0bcd-b16a-4749-9e2e-88e076317274",
   "metadata": {},
   "source": [
    "Sample_file\tGenome_file\tAdjusted_ANI\tEff_cov\tANI_5-95_percentile\tEff_lambda\tLambda_5-95_percentile\tMedian_cov\tMean_cov_geq1\tContainment_ind\tNaive_ANI\tContig_name\n",
    "./trimmed/T1_12_2022_MCAV_R1_001_val_1.fq\t/project/pi_sarah_gignouxwolfsohn_uml_edu/brooke/results/mcav_assembly3/mcav.contigs-fixed.fa\t100.00\t8.213\tNA-NA\tHIGH\tNA-NA\t8\t8.213\t61/61\t100.00\tc_000000078117\n",
    "./trimmed/T1_12_2022_MCAV_R1_001_val_1.fq\t/project/pi_sarah_gignouxwolfsohn_uml_edu/brooke/results/mcav_assembly3/mcav.contigs-fixed.fa\t100.00\t16.000\tNA-NA\tHIGH\tNA-NA\t16\t15.440\t50/50\t100.00\tc_000000159761\n",
    "./trimmed/T1_12_2022_MCAV_R1_001_val_1.fq\t/project/pi_sarah_gignouxwolfsohn_uml_edu/brooke/results/mcav_assembly3/mcav.contigs-fixed.fa\t100.00\t822.000\tNA-NA\tHIGH\tNA-NA\t822\t697.089\t56/56\t100.00\tc_000000263852\n",
    "./trimmed/T1_12_2022_MCAV_R1_001_val_1.fq\t/project/pi_sarah_gignouxwolfsohn_uml_edu/brooke/results/mcav_assembly3/mcav.contigs-fixed.fa\t100.00\t33.000\tNA-NA\tHIGH\tNA-NA\t33\t32.960\t50/50\t100.00\tc_000000432420\n",
    "./trimmed/T1_12_2022_MCAV_R1_001_val_1.fq\t/project/pi_sarah_gignouxwolfsohn_uml_edu/brooke/results/mcav_assembly3/mcav.contigs-fixed.fa\t100.00\t6.722\tNA-NA\tHIGH\tNA-NA\t7\t6.722\t90/90\t100.00\tc_000000537045\n",
    "./trimmed/T1_12_2022_MCAV_R1_001_val_1.fq\t/project/pi_sarah_gignouxwolfsohn_uml_edu/brooke/results/mcav_assembly3/mcav.contigs-fixed.fa\t100.00\t8.125\tNA-NA\tHIGH\tNA-NA\t8\t8.125\t56/56\t100.00\tc_000000694960\n",
    "./trimmed/T1_12_2022_MCAV_R1_001_val_1.fq\t/project/pi_sarah_gignouxwolfsohn_uml_edu/brooke/results/mcav_assembly3/mcav.contigs-fixed.fa\t100.00\t6.635\tNA-NA\tHIGH\tNA-NA\t7\t6.635\t52/52\t100.00\tc_000000696837\n",
    "./trimmed/T1_12_2022_MCAV_R1_001_val_1.fq\t/project/pi_sarah_gignouxwolfsohn_uml_edu/brooke/results/mcav_assembly3/mcav.contigs-fixed.fa\t100.00\t28.000\tNA-NA\tHIGH\tNA-NA\t28\t27.696\t56/56\t100.00\tc_000000711824\n",
    "./trimmed/T1_12_2022_MCAV_R1_001_val_1.fq\t/project/pi_sarah_gignouxwolfsohn_uml_edu/brooke/results/mcav_assembly3/mcav.contigs-fixed.fa\t99.97\t20.000\tNA-NA\tHIGH\tNA-NA\t20\t17.292\t96/97\t99.97\tc_000000243370\n",
    "./trimmed/T1_12_2022_MCAV_R1_001_val_1.fq\t/project/pi_sarah_gignouxwolfsohn_uml_edu/brooke/results/mcav_assembly3/mcav.contigs-fixed.fa\t99.95\t10.898\tNA-NA\tHIGH\tNA-NA\t11\t10.898\t59/60\t99.95\tc_000000716083\n",
    "./trimmed/T1_12_2022_MCAV_R1_001_val_1.fq\t/project/pi_sarah_gignouxwolfsohn_uml_edu/brooke/results/mcav_assembly3/mcav.contigs-fixed.fa\t99.94\t43.000\tNA-NA\tHIGH\tNA-NA\t43\t43.240\t50/51\t99.94\tc_000000045189\n",
    "./trimmed/T1_12_2022_MCAV_R1_001_val_1.fq\t/project/pi_sarah_gignouxwolfsohn_uml_edu/brooke/results/mcav_assembly3/mcav.contigs-fixed.fa\t99.90\t4.523\tNA-NA\tHIGH\tNA-NA\t4\t4.523\t65/67\t99.90\tc_000000500791\n",
    "./trimmed/T1_12_2022_MCAV_R1_001_val_1.fq\t/project/pi_sarah_gignouxwolfsohn_uml_edu/brooke/results/mcav_assembly3/mcav.contigs-fixed.fa\t99.88\t16.000\tNA-NA\tHIGH\tNA-NA\t16\t15.500\t52/54\t99.88\tc_000000078627"
   ]
  },
  {
   "cell_type": "code",
   "execution_count": null,
   "id": "bc53dd73-5902-4c2c-a4ee-c3d403a4505d",
   "metadata": {},
   "outputs": [],
   "source": [
    "#Import taxa database: https://github.com/bluenote-1577/sylph/wiki/Pre%E2%80%90built-databases\n",
    "wget https://storage.googleapis.com/sylph-stuff/v0.3-c200-gtdb-r214.syldb -O gtdb_database.syldb"
   ]
  },
  {
   "cell_type": "code",
   "execution_count": null,
   "id": "6be41ed2-31bd-49af-b653-01e8a859e441",
   "metadata": {},
   "outputs": [],
   "source": [
    "#move database into folder called gtdb_genomes_reps_r214\n",
    "mkdir working/gtdb_genomes_reps_r214\n",
    "mv gtdb_database.syldb working/gtdb_genomes_reps_r214/gtdb_database.syldb\n",
    "\n",
    "#set path to GTDB\n",
    "DB=working/gtdb_genomes_reps_r214/gtdb_database.syldb\n",
    "#set input & output path\n",
    "INDIR=mcav_sketches\n",
    "OUTDIR=results/taxonomy"
   ]
  },
  {
   "cell_type": "code",
   "execution_count": null,
   "id": "f253d868-e4b9-41f3-99b5-25dcea6cea05",
   "metadata": {},
   "outputs": [],
   "source": [
    "#maps samples against contig database???\n",
    "#read more: https://github.com/bluenote-1577/sylph/wiki/sylph-cookbook#creating-a-database-of-fasta-files\n",
    "sylph profile \"$SAMPLENAME\"_sketches/*.sylsp ./working/\"$SAMPLENAME\"_contig_database.syldb -t 50 -o ./results/\"$SAMPLENAME\"_sylph_profile.tsv"
   ]
  },
  {
   "cell_type": "code",
   "execution_count": null,
   "id": "db901a55-27b8-4104-b1fa-9ec1df93412e",
   "metadata": {},
   "outputs": [],
   "source": [
    "#map reads against GTDB \n",
    "sylph profile $INDIR/*_MCAV_R1_001_val_1.fq.paired.sylsp \"$DB\" -t 10 -o $OUTDIR/sylph_GTDB.tsv"
   ]
  },
  {
   "cell_type": "code",
   "execution_count": null,
   "id": "79605a6c-c5c5-4053-ac3f-a186f5a7a49b",
   "metadata": {},
   "outputs": [],
   "source": [
    "#get taxonomic profile \n",
    "#clone repo (in \"working\" dir)\n",
    "git clone https://github.com/bluenote-1577/sylph\n",
    "python working/sylph/scripts/sylph_to_taxprof.py -s $OUTDIR/sylph_GTDB.tsv -m  working/sylph/scripts/gtdb_r214_metadata.tsv.gz -o $OUTDIR/prefix_.tsv\n",
    "\n",
    "#results: only 6 samples have hits on the reference genomes database"
   ]
  },
  {
   "cell_type": "code",
   "execution_count": null,
   "id": "c3fdbc2b-71ca-4c59-aa2e-7a827289b1fb",
   "metadata": {},
   "outputs": [],
   "source": [
    "#convert to tsv\n",
    "\n",
    "# Loop over all files \n",
    "for input_file in prefix_*_R1_001_val_1.fq.sylphmpa; do\n",
    "    # Extract the unique identifier from the file name\n",
    "    unique_identifier=$(echo \"$input_file\" | sed 's/^prefix_\\(.*\\)_R1_001_val_1\\.fq\\.sylphmpa$/\\1/')\n",
    "\n",
    "    # Generate the output TSV file name\n",
    "    output_file=\"${unique_identifier}.tsv\"\n",
    "\n",
    "    # Process the input file and save the result to the output file\n",
    "    awk -F'\\t' '{for (i=1; i<=NF; i++) printf \"%s%s\", $i, (i<NF ? \"\\t\" : \"\\n\")}' \"$input_file\" > \"$output_file\"\n",
    "\n",
    "    echo \"Processed $input_file and saved as $output_file\"\n",
    "done\n"
   ]
  },
  {
   "cell_type": "code",
   "execution_count": null,
   "id": "4e496080-46b1-46bd-a409-430893cd6c7e",
   "metadata": {},
   "outputs": [],
   "source": [
    "#repeating with OceanDNA database\n",
    "wget https://storage.googleapis.com/sylph-stuff/OceanDNA-c200-v0.3.syldb\n",
    "mv OceanDNA-c200-v0.3.syldb working/gtdb_genomes_reps_r214/OceanDNA-c200-v0.3.syldb\n",
    "oceanDB=working/gtdb_genomes_reps_r214/OceanDNA-c200-v0.3.syldb\n",
    "\n",
    "sylph profile $INDIR/*_MCAV_R1_001_val_1.fq.paired.sylsp \"$oceanDB\" -t 10 -o $OUTDIR/sylph_ocean.tsv"
   ]
  },
  {
   "cell_type": "markdown",
   "id": "5a7bde5c-0abf-4a7b-85e9-1b6c8ad68166",
   "metadata": {},
   "source": [
    "##### Kraken\n",
    "- https://ccb.jhu.edu/software/kraken/MANUAL.html"
   ]
  },
  {
   "cell_type": "code",
   "execution_count": null,
   "id": "e1589f46-cd88-4e3c-8609-e76b7e35ce86",
   "metadata": {},
   "outputs": [],
   "source": [
    "module load kraken2/2.1.2"
   ]
  },
  {
   "cell_type": "code",
   "execution_count": null,
   "id": "9448ab64-f479-4ca5-9724-389867783026",
   "metadata": {},
   "outputs": [],
   "source": [
    "# download SILVA database\n",
    "wget -c url https://genome-idx.s3.amazonaws.com/kraken/16S_Silva132_20200326.tgz\n",
    "#more db options (thinking about 'standard': https://benlangmead.github.io/aws-indexes/k2\n",
    "# unzip \n",
    "tar -xvzf //project/pi_sarah_gignouxwolfsohn_uml_edu/Reference_genomes/ref_databases/16S_Silva132_20200326.tgz"
   ]
  },
  {
   "cell_type": "code",
   "execution_count": null,
   "id": "d0238610-2018-44d4-9b02-a9807c8e766e",
   "metadata": {},
   "outputs": [],
   "source": [
    "# set DB path\n",
    "DBNAME=//project/pi_sarah_gignouxwolfsohn_uml_edu/Reference_genomes/ref_databases/16S_SILVA132_k2db\n",
    "# build kraken database \n",
    "kraken2-build --db $DBNAME --special silva --threads 24\n",
    "\n",
    "# classify paired-end seqs \n",
    "# kraken2 --paired --classified-out cseqs'#'.fq seqs_1.fq seqs_2.fq --output \n",
    "# example:\n",
    "# kraken2 --db 16S_SILVA132_k2db \n",
    "        --threads 4                 #number of threads\n",
    "        --report SAMPLE.kreport2    #kraken-style report (REQUIRED FOR BRACKEN)\n",
    "        --paired SAMPLE_1.fq SAMPLE_2.fq > SAMPLE.kraken2\n",
    "\n",
    "# not being thorough ... going to use assmebled contigs and come back to this if needed\n",
    "# https://www.biostars.org/p/402619/\n",
    "SAMPLENAME=mcav\n",
    "CONTIGPATH=/project/pi_sarah_gignouxwolfsohn_uml_edu/brooke/working/mcav_assembly_redo\n",
    "seqs=$SAMPLENAME.contigs.fa\n",
    "OUTDIR=//project/pi_sarah_gignouxwolfsohn_uml_edu/brooke/working/mcav_assembly_redo/taxonomy/kraken\n",
    "mkdir $OUTDIR\n",
    "\n",
    "kraken2 --db $DBNAME $CONTIGPATH/$seqs --threads 24 "
   ]
  },
  {
   "cell_type": "raw",
   "id": "4dd18f52-0262-4019-8daa-4363ac0731c1",
   "metadata": {},
   "source": [
    "Results - classifying contigs against silva db\n",
    "\n",
    "Loading database information... done.\n",
    "0 sequences (0.00 Mbp) processed in 0.002s (0.0 Kseq/m, 0.00 Mbp/m).\n",
    "  0 sequences classified (-nan%)\n",
    "  0 sequences unclassified (-nan%)"
   ]
  },
  {
   "cell_type": "code",
   "execution_count": null,
   "id": "db934654-5e5f-427e-b888-675066ed0c6d",
   "metadata": {},
   "outputs": [],
   "source": [
    "#!/bin/bash\n",
    "#SBATCH -c 24  # Number of Cores per Task\n",
    "#SBATCH --mem=180G  # Requested Memory\n",
    "#SBATCH -p cpu  # Partition\n",
    "#SBATCH -t 24:00:00  # Job time limit\n",
    "#SBATCH --mail-type=ALL\n",
    "#SBATCH -o //project/pi_sarah_gignouxwolfsohn_uml_edu/brooke/bash_scripts/slurm-kraken-%j.out  # %j = job ID\n",
    "\n",
    "\n",
    "module load kraken2/2.1.2\n",
    "\n",
    "# i think this specifically downloads NCBI and RefSeq\n",
    "DBNAME=//project/pi_sarah_gignouxwolfsohn_uml_edu/Reference_genomes/ref_databases/standard\n",
    "#kraken2-build --standard --threads 24 --db $DBNAME\n",
    "\n",
    "READSPATH=/project/pi_sarah_gignouxwolfsohn_uml_edu/brooke/trimmed\n",
    "OUTDIR=//project/pi_sarah_gignouxwolfsohn_uml_edu/brooke/working/mcav_assembly_redo/taxonomy/kraken\n",
    "\n",
    "for f in T1_12_2022 T1_13_2022 T1_16_2019 T1_20_2019 T1_24_2019 T1_40_2022 T1_57_2022 T1_70_2022 T2_10_2022 T2_16_2019 T3_13_2022 T3_14_2019 T3_15_2019 T3_19_2022 T3_1_2019 T3_40_2022 T3_48_2022 T3_49_2022 T3_51_2022 T3_60_2022 T3_8_2019 T3_9_2019\n",
    "do\n",
    "kraken2 --db $DBNAME \\\n",
    "        --threads 24             \\    #number of threads\n",
    "        --report $OUTDIR/$f.kreport2 \\   #kraken-style report (REQUIRED FOR BRACKEN)\n",
    "        --paired $f_MCAV_R1_001_val_1.fq $f_MCAV_R2_001_val_2.fq > $OUTDIR/$f.kraken2\n",
    "done\n",
    "\n",
    "#bash script: kraken\n",
    "#JOB ID: 15982456"
   ]
  }
 ],
 "metadata": {
  "kernelspec": {
   "display_name": "Python 3 (ipykernel)",
   "language": "python",
   "name": "python3"
  },
  "language_info": {
   "codemirror_mode": {
    "name": "ipython",
    "version": 3
   },
   "file_extension": ".py",
   "mimetype": "text/x-python",
   "name": "python",
   "nbconvert_exporter": "python",
   "pygments_lexer": "ipython3",
   "version": "3.11.0"
  }
 },
 "nbformat": 4,
 "nbformat_minor": 5
}
