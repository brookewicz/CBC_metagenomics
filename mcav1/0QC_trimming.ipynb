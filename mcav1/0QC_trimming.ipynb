{
 "cells": [
  {
   "cell_type": "markdown",
   "id": "4a72e484-4f38-4311-a545-a1e88ec65b87",
   "metadata": {
    "tags": []
   },
   "source": [
    "### QC/trimming mcav 04142023\n"
   ]
  },
  {
   "cell_type": "code",
   "execution_count": null,
   "id": "f1914860-b90f-4016-88e9-aded58358476",
   "metadata": {},
   "outputs": [],
   "source": [
    "#INSTALLATION\n",
    "module load miniconda/22.11.1-1\n",
    "conda create -n qc\n",
    "conda activate qc\n",
    "conda install -c bioconda trim-galore"
   ]
  },
  {
   "cell_type": "code",
   "execution_count": null,
   "id": "a2727d93-2130-4a05-82b3-ddb1dfafde55",
   "metadata": {},
   "outputs": [],
   "source": [
    "# edit past seq names to remove what the sequencer added\n",
    "# in 04142023 dir: mcav \n",
    "\n",
    "#ex of filenames to edit:\n",
    "# set2T1_12_2022_MCAV_S73_R1_001.fastq.gz\n",
    "\n",
    "# working in dir: '/project/pi_sarah_gignouxwolfsohn_uml_edu/Raw_sequences/SCTLD_raw/04142023'\n",
    "#copy mcav samples without '.md5' endings\n",
    "ls *OFAV*.fastq.gz -1 | xargs -I {} cp {} /project/pi_sarah_gignouxwolfsohn_uml_edu/Raw_sequences/SCTLD_raw/renamed/11272023/\n",
    "\n",
    "#move subset to new dir \n",
    "for file in *OFAV*.fastq.gz; do\n",
    "    new_name=$(echo \"$file\" | sed 's/set2//;s/_S[0-9]*//')\n",
    "    mv \"$file\" \"$new_name\"\n",
    "done\n",
    "\n",
    "FILEPATH='/project/pi_sarah_gignouxwolfsohn_uml_edu/brooke/mcav/raw'\n",
    "OUTPUT_RESULTS='/project/pi_sarah_gignouxwolfsohn_uml_edu/brooke/mcav/trimmed/redo_01222023'\n",
    "\n",
    "# create a file that gives all the unique filenames in the directory with the data, without the f/r specifiers\n",
    "ls $FILEPATH -1 | sed 's/_R.*_001.fastq.gz//' | uniq | cat > $OUTPUT_RESULTS/'mcav_sampleids.txt'\n",
    "\n",
    "#ensure all samples got copied over \n",
    "ls $FILEPATH -1 | wc -l # should be double:\n",
    "wc -l mcav_sampleids.txt "
   ]
  },
  {
   "cell_type": "code",
   "execution_count": null,
   "id": "91a2a342-b8fc-4155-b4ea-965deacca756",
   "metadata": {},
   "outputs": [],
   "source": [
    "#!/bin/bash\n",
    "#SBATCH -c 24  # Number of Cores per Task\n",
    "#SBATCH --mem=50G  # Requested Memory\n",
    "#SBATCH -p cpu  # Partition\n",
    "#SBATCH -t 24:00:00  # Job time limit\n",
    "#SBATCH --mail-type=ALL\n",
    "#SBATCH -o /project/pi_sarah_gignouxwolfsohn_uml_edu/brooke/bash_scripts/slurm-mcav_qc-%j.out  # %j = job ID\n",
    "\n",
    "# Run qc with trim galore and fastqc\n",
    "module load miniconda/22.11.1-1\n",
    "conda activate qc\n",
    "\n",
    "# Define the paths and variables\n",
    "FILEPATH='/project/pi_sarah_gignouxwolfsohn_uml_edu/Raw_sequences/SCTLD_raw/renamed/mcav'\n",
    "OUTPUT_RESULTS='/project/pi_sarah_gignouxwolfsohn_uml_edu/brooke/mcav/trimmed/redo_auto_detect_01312024'\n",
    "NSLOTS=4  \n",
    "\n",
    "#create filename if not already created\n",
    "#ls $FILEPATH -1 | sed 's/_R.*_001.fastq.gz//' | uniq | cat > $OUTPUT_RESULTS/'mcav_sampleids.txt'\n",
    "\n",
    "SAMPLE_NAMES_FILE=\"/project/pi_sarah_gignouxwolfsohn_uml_edu/brooke/mcav/trimmed/01312024_redo/mcav_sampleids.txt\"\n",
    "\n",
    "# Check if the file exists\n",
    "if [ ! -e \"$SAMPLE_NAMES_FILE\" ]; then\n",
    "    echo \"Error: $SAMPLE_NAMES_FILE does not exist.\"\n",
    "    exit 1\n",
    "fi\n",
    "\n",
    "# Read each line from the file and perform actions\n",
    "while IFS= read -r sample_id; do\n",
    "    # Form the full file names\n",
    "    input_r1=\"$FILEPATH/${sample_id}_R1_001.fastq.gz\"\n",
    "    input_r2=\"$FILEPATH/${sample_id}_R2_001.fastq.gz\"\n",
    "    \n",
    "    # Ensure the input files exist before running the tools\n",
    "    if [ ! -e \"$input_r1\" ] || [ ! -e \"$input_r2\" ]; then\n",
    "        echo \"Error: Input files do not exist for sample $sample_id\"\n",
    "        continue\n",
    "    fi\n",
    "\n",
    "    # Run trim_galore\n",
    "    trim_galore -j \"$NSLOTS\" -q 20 --phred33 --length 20 --paired $input_r1 $input_r2 --fastqc -o $OUTPUT_RESULTS --dont_gzip\n",
    "\n",
    "\n",
    "done < \"$SAMPLE_NAMES_FILE\"\n",
    "\n",
    "# bash script file name: mcav_qc\n",
    "# JOB-ID: 18196048\n",
    "#trimmed read seqs in folder: /project/pi_sarah_gignouxwolfsohn_uml_edu/brooke/mcav/trimmed/redo_auto_detect_01312024"
   ]
  },
  {
   "cell_type": "markdown",
   "id": "356dd3b7-447b-477a-a204-d64291b8a753",
   "metadata": {},
   "source": [
    "### Fastqc info "
   ]
  },
  {
   "cell_type": "markdown",
   "id": "e320ab2a-124b-47d3-8041-b76dbac24b1e",
   "metadata": {},
   "source": [
    "https://hbctraining.github.io/Intro-to-rnaseq-hpc-salmon/lessons/qc_fastqc_assessment.html\n",
    "\n",
    "https://www.bioinformatics.babraham.ac.uk/projects/fastqc/"
   ]
  },
  {
   "cell_type": "markdown",
   "id": "7cec300e-9a9b-4dc1-a30d-d8233e36d02f",
   "metadata": {},
   "source": [
    "### Multiqc \n",
    "- https://github.com/MultiQC/MultiQC\n",
    "- summarizes fastqc reports to one html file\n",
    "- doesn't perform analysis just summarizes already existing reports"
   ]
  },
  {
   "cell_type": "code",
   "execution_count": null,
   "id": "9353362a-a024-4767-86c6-33e9b797f5f4",
   "metadata": {},
   "outputs": [],
   "source": [
    "# Installation\n",
    "module load miniconda/22.11.1-1\n",
    "conda create --name multiqc python=3.11\n",
    "conda activate multiqc\n",
    "conda install multiqc -y "
   ]
  },
  {
   "cell_type": "code",
   "execution_count": null,
   "id": "8781c38a-7145-461a-8e43-14cb70842148",
   "metadata": {},
   "outputs": [],
   "source": [
    "module load miniconda/22.11.1-1\n",
    "conda activate multiqc "
   ]
  },
  {
   "cell_type": "code",
   "execution_count": null,
   "id": "c7a1ff85-d6de-4ba9-9b28-42249fbae6d4",
   "metadata": {},
   "outputs": [],
   "source": [
    "# in brooke dir\n",
    "cd mcav/trimmed/01312024_redo\n",
    "multiqc . "
   ]
  },
  {
   "cell_type": "markdown",
   "id": "fef725a8-9903-4a1b-87c6-955a499a4640",
   "metadata": {},
   "source": [
    "Tried illumina, nextera, and auto detect for trimming adapters with trim galore and the least amount of adapter contamination came from auto detect and illumina (results were the same), so using auto detect"
   ]
  },
  {
   "cell_type": "code",
   "execution_count": null,
   "id": "042bb39d-428f-4802-b6a8-a310e6a57313",
   "metadata": {},
   "outputs": [],
   "source": [
    "# calculate read depth?"
   ]
  },
  {
   "cell_type": "code",
   "execution_count": 7,
   "id": "e6f1b8aa-bc43-4acf-a157-7ffc2c3d9911",
   "metadata": {},
   "outputs": [
    {
     "name": "stdout",
     "output_type": "stream",
     "text": [
      "/project/pi_sarah_gignouxwolfsohn_uml_edu/Raw_sequences/SCTLD_raw/renamed/mcav\n"
     ]
    }
   ],
   "source": [
    "cd //project/pi_sarah_gignouxwolfsohn_uml_edu/Raw_sequences/SCTLD_raw/renamed/mcav/"
   ]
  },
  {
   "cell_type": "code",
   "execution_count": 33,
   "id": "43111d85-c5e7-475a-bd78-5183a96fe654",
   "metadata": {},
   "outputs": [],
   "source": [
    "import os\n",
    "import pandas as pd"
   ]
  },
  {
   "cell_type": "code",
   "execution_count": 10,
   "id": "078549f0-3286-4d42-84cc-7f7e5c75efe8",
   "metadata": {},
   "outputs": [
    {
     "name": "stdout",
     "output_type": "stream",
     "text": [
      "/bin/bash: -c: line 0: syntax error near unexpected token `reads'\n",
      "/bin/bash: -c: line 0: `for FILE in *; do echo $(zcat $FILE|wc -l)/4|bc; done > !cat reads'\n"
     ]
    }
   ],
   "source": [
    "for FILE in *; do echo $(zcat $FILE|wc -l)/4|bc; done > reads"
   ]
  },
  {
   "cell_type": "code",
   "execution_count": 21,
   "id": "75d84852-f462-4502-8045-ea871265fa1f",
   "metadata": {},
   "outputs": [],
   "source": [
    "!ls *.gz > samples"
   ]
  },
  {
   "cell_type": "code",
   "execution_count": 25,
   "id": "5682ea58-985c-42d1-b950-fee54a68aa0a",
   "metadata": {},
   "outputs": [],
   "source": [
    "!paste samples reads > sample_reads"
   ]
  },
  {
   "cell_type": "code",
   "execution_count": 29,
   "id": "d645843a-738a-412d-aae1-9c909f123355",
   "metadata": {},
   "outputs": [],
   "source": [
    "!head -n -1 sample_reads > sample_reads"
   ]
  },
  {
   "cell_type": "code",
   "execution_count": 34,
   "id": "dbdcb203-fcf6-40ae-89f9-63bdb8a785fa",
   "metadata": {},
   "outputs": [
    {
     "name": "stdout",
     "output_type": "stream",
     "text": [
      "/project/pi_sarah_gignouxwolfsohn_uml_edu/Raw_sequences/SCTLD_raw/renamed/11272023\n"
     ]
    }
   ],
   "source": [
    "cd //project/pi_sarah_gignouxwolfsohn_uml_edu/Raw_sequences/SCTLD_raw/renamed/11272023/"
   ]
  },
  {
   "cell_type": "code",
   "execution_count": null,
   "id": "b03e3a87-f024-4aa7-a7ac-476614263b9b",
   "metadata": {},
   "outputs": [],
   "source": [
    "for FILE in *; do echo $(zcat $FILE|wc -l)/4|bc; done > reads\n",
    "ls *.gz > samples\n",
    "paste samples reads > sample_reads"
   ]
  },
  {
   "cell_type": "code",
   "execution_count": 35,
   "id": "0b181c82-f786-4394-bd48-fb6ebdb06bc4",
   "metadata": {},
   "outputs": [
    {
     "name": "stdout",
     "output_type": "stream",
     "text": [
      "\u001b[0m\u001b[01;34m11272023\u001b[0m/  \u001b[01;34mmcav\u001b[0m/  \u001b[01;34mpilot_copy\u001b[0m/\n"
     ]
    }
   ],
   "source": [
    "cd //project/pi_sarah_gignouxwolfsohn_uml_edu/Raw_sequences/SCTLD_raw/renamed/pilot_copy/"
   ]
  },
  {
   "cell_type": "code",
   "execution_count": null,
   "id": "f866c9e7-0b0b-4cb6-9d25-9aac8782845a",
   "metadata": {},
   "outputs": [],
   "source": [
    "for FILE in *; do echo $(cat $FILE|wc -l)/4|bc; done > reads\n",
    "ls *.gz > samples\n",
    "paste samples reads > sample_reads"
   ]
  }
 ],
 "metadata": {
  "kernelspec": {
   "display_name": "Python 3 (ipykernel)",
   "language": "python",
   "name": "python3"
  },
  "language_info": {
   "codemirror_mode": {
    "name": "ipython",
    "version": 3
   },
   "file_extension": ".py",
   "mimetype": "text/x-python",
   "name": "python",
   "nbconvert_exporter": "python",
   "pygments_lexer": "ipython3",
   "version": "3.11.0"
  }
 },
 "nbformat": 4,
 "nbformat_minor": 5
}
