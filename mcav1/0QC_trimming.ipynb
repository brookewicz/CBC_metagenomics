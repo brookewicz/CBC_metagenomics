{
 "cells": [
  {
   "cell_type": "markdown",
   "id": "4a72e484-4f38-4311-a545-a1e88ec65b87",
   "metadata": {
    "tags": []
   },
   "source": [
    "### QC/trimming mcav 04142023\n"
   ]
  },
  {
   "cell_type": "code",
   "execution_count": null,
   "id": "f1914860-b90f-4016-88e9-aded58358476",
   "metadata": {},
   "outputs": [],
   "source": [
    "#INSTALLATION\n",
    "module load miniconda/22.11.1-1\n",
    "conda create -n qc\n",
    "conda activate qc\n",
    "conda install -c bioconda trim-galore"
   ]
  },
  {
   "cell_type": "code",
   "execution_count": null,
   "id": "a2727d93-2130-4a05-82b3-ddb1dfafde55",
   "metadata": {},
   "outputs": [],
   "source": [
    "# edit past seq names to remove what the sequencer added\n",
    "# in 04142023 dir: mcav \n",
    "\n",
    "#ex of filenames to edit:\n",
    "# set2T1_12_2022_MCAV_S73_R1_001.fastq.gz\n",
    "\n",
    "# working in dir: '/project/pi_sarah_gignouxwolfsohn_uml_edu/Raw_sequences/SCTLD_raw/04142023'\n",
    "#copy mcav samples without '.md5' endings\n",
    "ls *MCAV*.fastq.gz -1 | xargs -I {} cp {} /project/pi_sarah_gignouxwolfsohn_uml_edu/brooke/mcav/raw\n",
    "\n",
    "#move subset to new dir \n",
    "for file in *MCAV*.fastq.gz; do\n",
    "    new_name=$(echo \"$file\" | sed 's/set2//;s/_S[0-9]*//')\n",
    "    mv \"$file\" \"$new_name\"\n",
    "done\n",
    "\n",
    "FILEPATH='/project/pi_sarah_gignouxwolfsohn_uml_edu/brooke/mcav/raw'\n",
    "OUTPUT_RESULTS='/project/pi_sarah_gignouxwolfsohn_uml_edu/brooke/mcav/trimmed/redo_01222023'\n",
    "\n",
    "# create a file that gives all the unique filenames in the directory with the data, without the f/r specifiers\n",
    "ls $FILEPATH -1 | sed 's/_R.*_001.fastq.gz//' | uniq | cat > $OUTPUT_RESULTS/'mcav_sampleids.txt'\n",
    "\n",
    "#ensure all samples got copied over \n",
    "ls $FILEPATH -1 | wc -l # should be double:\n",
    "wc -l mcav_sampleids.txt "
   ]
  },
  {
   "cell_type": "code",
   "execution_count": null,
   "id": "91a2a342-b8fc-4155-b4ea-965deacca756",
   "metadata": {},
   "outputs": [],
   "source": [
    "#!/bin/bash\n",
    "#SBATCH -c 24  # Number of Cores per Task\n",
    "#SBATCH --mem=50G  # Requested Memory\n",
    "#SBATCH -p cpu  # Partition\n",
    "#SBATCH -t 24:00:00  # Job time limit\n",
    "#SBATCH --mail-type=ALL\n",
    "#SBATCH -o /project/pi_sarah_gignouxwolfsohn_uml_edu/brooke/bash_scripts/slurm-mcav_qc-%j.out  # %j = job ID\n",
    "\n",
    "module load miniconda/22.11.1-1\n",
    "conda activate qc\n",
    "\n",
    "# Define the paths and variables\n",
    "FILEPATH='/project/pi_sarah_gignouxwolfsohn_uml_edu/brooke/mcav/raw'\n",
    "OUTPUT_RESULTS='/project/pi_sarah_gignouxwolfsohn_uml_edu/brooke/mcav/trimmed/redo_01222023'\n",
    "NSLOTS=4  \n",
    "\n",
    "SAMPLE_NAMES_FILE=\"/project/pi_sarah_gignouxwolfsohn_uml_edu/brooke/mcav/trimmed/redo_01222023/mcav_sampleids.txt\"\n",
    "\n",
    "# Check if the file exists\n",
    "if [ ! -e \"$SAMPLE_NAMES_FILE\" ]; then\n",
    "    echo \"Error: $SAMPLE_NAMES_FILE does not exist.\"\n",
    "    exit 1\n",
    "fi\n",
    "\n",
    "# Read each line from the file and perform actions\n",
    "while IFS= read -r sample_id; do\n",
    "    # Form the full file names\n",
    "    input_r1=\"$FILEPATH/${sample_id}_R1_001.fastq.gz\"\n",
    "    input_r2=\"$FILEPATH/${sample_id}_R2_001.fastq.gz\"\n",
    "    \n",
    "    # Ensure the input files exist before running the tools\n",
    "    if [ ! -e \"$input_r1\" ] || [ ! -e \"$input_r2\" ]; then\n",
    "        echo \"Error: Input files do not exist for sample $sample_id\"\n",
    "        continue\n",
    "    fi\n",
    "\n",
    "    # Run trim_galore\n",
    "    trim_galore -j \"$NSLOTS\" -q 20 --phred33 --illumina --length 20 --paired $input_r1 $input_r2 --fastqc -o $OUTPUT_RESULTS --dont_gzip\n",
    "\n",
    "\n",
    "done < \"$SAMPLE_NAMES_FILE\"\n",
    "\n",
    "# JOB-ID: 17302094\n",
    "#trimmed read seqs in folder: "
   ]
  },
  {
   "cell_type": "markdown",
   "id": "356dd3b7-447b-477a-a204-d64291b8a753",
   "metadata": {},
   "source": [
    "### Fastqc info "
   ]
  },
  {
   "cell_type": "markdown",
   "id": "e320ab2a-124b-47d3-8041-b76dbac24b1e",
   "metadata": {},
   "source": [
    "https://hbctraining.github.io/Intro-to-rnaseq-hpc-salmon/lessons/qc_fastqc_assessment.html\n",
    "\n",
    "https://www.bioinformatics.babraham.ac.uk/projects/fastqc/"
   ]
  }
 ],
 "metadata": {
  "kernelspec": {
   "display_name": "Python 3 (ipykernel)",
   "language": "python",
   "name": "python3"
  },
  "language_info": {
   "codemirror_mode": {
    "name": "ipython",
    "version": 3
   },
   "file_extension": ".py",
   "mimetype": "text/x-python",
   "name": "python",
   "nbconvert_exporter": "python",
   "pygments_lexer": "ipython3",
   "version": "3.11.0"
  }
 },
 "nbformat": 4,
 "nbformat_minor": 5
}
