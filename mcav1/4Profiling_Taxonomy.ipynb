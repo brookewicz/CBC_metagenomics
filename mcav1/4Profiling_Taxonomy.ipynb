{
 "cells": [
  {
   "cell_type": "markdown",
   "id": "c8efe34a-b914-4865-afbf-82fd6d8476a9",
   "metadata": {},
   "source": [
    "### Anvio - Contig profiling\n",
    "\n",
    "Contig profiling creates a database of your contigs. It calculates k-mer frequencies for your sample (standard k-setting is 4, which you can change with the --kmer-size parameter (DON'T unless you have a good reason)), soft splits long contigs, and identifies open reading frames (which can be skipped using --skip-gene-calling). Run the following code to generate your database:\n",
    "\n",
    "Subsequently, you can add various elements of analysis to your contig profile. The following list is available:\n",
    "\n",
    "Augustus + Prodigal gene calls: adds open reading frames to your dataset from the genes from the Augustus database (eukaryotes) and Prodigal (bacteria + archaea) WORKING ON THIS: NOT SURE IF IT WORKS\n",
    "\n",
    "Hidden Markov Model (HMM): A widely used prediction model in bioinformatics software, which can offer great advantages in homology detection.\n",
    "\n",
    "NCBI's Cluster of Orthologous genes (NCBI COG): this allows you to annotate your database with gene functions from NCBI COG. Current version: 2020\n",
    "\n",
    "KoFAM Metabolism calls: Uses the KEGG database to call metabolic genes and estimate paths of your community. Currently used KEGG version is KEGG_build_2020-12-23.\n",
    "\n",
    "Kaiju Taxonomy calls:\n",
    "\n",
    "Each of these adds a new layer of information to your dataset, so might be very interesting to explore."
   ]
  },
  {
   "cell_type": "code",
   "execution_count": null,
   "id": "3e0062cf-ed54-4bcd-b9a5-1ca4d41f9012",
   "metadata": {},
   "outputs": [],
   "source": [
    "conda activate anvio-7.1\n",
    "\n",
    "#install taxonomy \n",
    "diamond --version\n",
    "conda install diamond=0.9.14\n",
    "anvi-setup-scg-taxonomy\n",
    "\n",
    "#download ncbi-cogs \n",
    "anvi-setup-ncbi-cogs --num-threads 11\n",
    "\n",
    "#metabolism database\n",
    "anvi-setup-kegg-kofams\n",
    "#not working - says command not found "
   ]
  },
  {
   "cell_type": "code",
   "execution_count": null,
   "id": "7cd0be4a-4a34-4cb2-b3a6-72efd8f78a43",
   "metadata": {},
   "outputs": [],
   "source": [
    "#!/bin/bash\n",
    "#SBATCH -c 24  # Number of Cores per Task\n",
    "#SBATCH --mem=50G  # Requested Memory\n",
    "#SBATCH -p cpu  # Partition\n",
    "#SBATCH -t 20:00:00  # Job time limit\n",
    "#SBATCH --mail-type=ALL\n",
    "#SBATCH -o //project/pi_sarah_gignouxwolfsohn_uml_edu/brooke/bash_scripts/slurm-%j.out  # %j = job ID\n",
    "\n",
    "module load miniconda/22.11.1-1\n",
    "conda activate anvio-8\n",
    "\n",
    "#Contig database from assembled genomes. stores information related to your sequences: positions of open reading frames, k-mer frequencies for each contig, functional and taxonomic annotation of genes, etc.\n",
    "#set parameters:\n",
    "SAMPLENAME=mcav\n",
    "CONTIGPATH=/project/pi_sarah_gignouxwolfsohn_uml_edu/brooke/results/mcav_assembly3\n",
    "CONTIGFILE=mcav.contigs-fixed.fa\n",
    "\n",
    "#generate the contigs database:\n",
    "#default k-mer frequency is 4\n",
    "anvi-gen-contigs-database -f $CONTIGPATH/$CONTIGFILE --project-name $SAMPLENAME -o ./working/$SAMPLENAME.contigs.db  \n",
    "\n",
    "#integrate HMMs into the database:\n",
    "anvi-run-hmms -c ./working/$SAMPLENAME.contigs.db --num-threads 6\n",
    "\n",
    "#this runs NCBI COGs against your contigs.db, integrating gene functions.\n",
    "anvi-run-ncbi-cogs -c ./working/$SAMPLENAME.contigs.db -T 4\n",
    "\n",
    "#ADD KEGG-KOFAM\n",
    "anvi-run-kegg-kofams -c ./working/$SAMPLENAME.contigs.db \\\n",
    "                     -T 4 #these are the threads that Anvi'O is allowed to use\n",
    "#ADD CONTIG STATS\n",
    "anvi-display-contigs-stats ./working/$SAMPLENAME.contigs.db --report-as-text --as-markdown -o ./results/anvio_stats\n",
    "\n",
    "#generates contig database from merged, fixed contig fasta file created in previous step..need for downstream analysis\n",
    "#JOB ID: 13297970\n",
    "#bash script: mcav_db.txt"
   ]
  },
  {
   "cell_type": "raw",
   "id": "04c8cd5d-db79-427b-b372-d3f413b22f11",
   "metadata": {
    "tags": []
   },
   "source": [
    "# NCBI COG RESULTS\n",
    "\n",
    "WARNING\n",
    "===============================================\n",
    "Some functional annotation sources you wish to add to the database\n",
    "(COG20_PATHWAY, COG20_FUNCTION, COG20_CATEGORY) are already in the database.\n",
    "Anvi'o will first drop them so the incoming annotations could REPLACE them.\n",
    "\n",
    "\n",
    "WARNING\n",
    "===============================================\n",
    "Dropping 3 functional annotation sources yo: COG20_PATHWAY, COG20_FUNCTION,\n",
    "COG20_CATEGORY.\n",
    "\n",
    "Gene functions ...............................: 1,736 function calls from 3 sources (COG20_PATHWAY, COG20_FUNCTION,\n",
    "                                                COG20_CATEGORY) for 790 unique gene calls have been added to the contigs\n",
    "                                                database.\n",
    "\n",
    "WARNING\n",
    "===============================================\n",
    "Well. Your COGs were successfully added to the database, but there were some\n",
    "garbage anvi'o brushed off under the rug. There were 1 genes in your database\n",
    "that hit 1 protein IDs in NCBIs COGs database, but since NCBI did not release\n",
    "what COGs they correspond to in the database they made available (that helps us\n",
    "to resolve protein IDs to COG ids), we could not annotate those genes with\n",
    "functions. Anvi'o apologizes on behalf of all computer scientists for half-done\n",
    "stuff we often force biologists to deal with. If you want to do some Googling,\n",
    "these were the offending protein IDs: 'ADB95264.1'."
   ]
  },
  {
   "cell_type": "code",
   "execution_count": null,
   "id": "63c2de5b-da93-4677-bbd8-315fe3aaeebd",
   "metadata": {},
   "outputs": [],
   "source": [
    "#below: create sample profiles\n",
    "module load miniconda/22.11.1-1\n",
    "conda activate anvio-8\n",
    "\n",
    "#set parameters\n",
    "SAMPLENAME=mcav\n",
    "#mkdir=//project/pi_sarah_gignouxwolfsohn_uml_edu/brooke/working/$SAMPLENAME_profiles\n",
    "samplepath=//project/pi_sarah_gignouxwolfsohn_uml_edu/brooke/bash_scripts\n",
    "OUTDIR=//project/pi_sarah_gignouxwolfsohn_uml_edu/brooke/working/index\n",
    "\n",
    "for f in T1_12_2022 T1_13_2022 T1_16_2019 T1_20_2019 T1_24_2019 T1_40_2022 T1_57_2022 T1_70_2022 T2_10_2022 T2_16_2019 T3_13_2022 T3_14_2019 T3_15_2019 T3_19_2022 T3_1_2019 T3_40_2022 T3_48_2022 T3_49_2022 T3_51_2022 T3_60_2022 T3_8_2019 T3_9_2019\n",
    "do\n",
    "anvi-profile -c ./working/$SAMPLENAME.contigs.db  \\\n",
    "            -i ./working/index/\"$f\".bam \\\n",
    "            --min-percent-identity 95 \\\n",
    "            --sample-name \"$f\"\n",
    "            --output-dir $OUTDIR\n",
    "#use contig database and sample bam files to create single profiles. can specify to keep contigs of min length (min-contig-length) and 95% identity to database\n",
    "#keep parameters consistent in order to merge to larger profile \n",
    "#already filtered out min 1000bp contigs in 'anvi-script-reformat-fasta', so not adding specification.\n",
    "done\n",
    "\n",
    "#seperated individual sample profiling and merging to different bash scripts just for troubleshooting\n",
    "#bash script: profiles.txt\n",
    "#JOB ID: 13298522"
   ]
  },
  {
   "cell_type": "code",
   "execution_count": null,
   "id": "cad09629-bf29-4308-8014-b6cf214873e5",
   "metadata": {},
   "outputs": [],
   "source": [
    "SAMPLENAME=mcav\n",
    "OUTDIR=//project/pi_sarah_gignouxwolfsohn_uml_edu/brooke/working/index\n",
    "anvi-display-contigs-stats working/$SAMPLENAME.contigs.db --report-as-text -o results/anvi_display_stats.txt"
   ]
  },
  {
   "cell_type": "markdown",
   "id": "6667269f-e909-4b31-ade7-2b5efc785ce5",
   "metadata": {},
   "source": [
    "contigs_db\tmcav_contigs_fixed\n",
    "Total Length\t57097694\n",
    "Num Contigs\t39414\n",
    "Num Contigs > 100 kb\t0\n",
    "Num Contigs > 50 kb\t0\n",
    "Num Contigs > 20 kb\t2\n",
    "Num Contigs > 10 kb\t35\n",
    "Num Contigs > 5 kb\t370\n",
    "Num Contigs > 2.5 kb\t2156\n",
    "Longest Contig\t24857\n",
    "Shortest Contig\t1000\n",
    "Num Genes (prodigal)\t58029\n",
    "L50\t14211\n",
    "L75\t25911\n",
    "L90\t33821\n",
    "N50\t1339\n",
    "N75\t1127\n",
    "N90\t1044\n",
    "Archaea_76\t9\n",
    "Bacteria_71\t8\n",
    "Protista_83\t5\n",
    "Ribosomal_RNA_12S\t0\n",
    "Ribosomal_RNA_16S\t0\n",
    "Ribosomal_RNA_18S\t2\n",
    "Ribosomal_RNA_23S\t0\n",
    "Ribosomal_RNA_28S\t2\n",
    "Ribosomal_RNA_5S\t0\n",
    "bacteria (Bacteria_71)\t0\n",
    "eukarya (Protista_83)\t0\n",
    "archaea (Archaea_76)\t0"
   ]
  },
  {
   "cell_type": "markdown",
   "id": "5863737e-b4fe-4825-b2f3-3bc9dd5357d4",
   "metadata": {},
   "source": [
    "**Do not use below code...still troubleshooting**"
   ]
  },
  {
   "cell_type": "code",
   "execution_count": null,
   "id": "dca386f1-d8e3-4b74-ad2c-4f66d5e0cfce",
   "metadata": {},
   "outputs": [],
   "source": [
    "#!/bin/bash\n",
    "#SBATCH -c 24  # Number of Cores per Task\n",
    "#SBATCH --mem=50G  # Requested Memory\n",
    "#SBATCH -p cpu  # Partition\n",
    "#SBATCH -t 6:00:00  # Job time limit\n",
    "#SBATCH --mail-type=ALL\n",
    "#SBATCH -o //project/pi_sarah_gignouxwolfsohn_uml_edu/brooke/bash_scripts/slurm-%j.out  # %j = job ID\n",
    "\n",
    "module load miniconda/22.11.1-1\n",
    "conda activate anvio-8\n",
    "SAMPLENAME=mcav\n",
    "OUTDIR=//project/pi_sarah_gignouxwolfsohn_uml_edu/brooke/working/index\n",
    "DIR=//project/pi_sarah_gignouxwolfsohn_uml_edu/brooke/results/MetaBAT_mcav_bins\n",
    "\n",
    "\n",
    "anvi-merge -c ./working/\"$SAMPLENAME\".contigs.db \\\n",
    "            $OUTDIR/*/PROFILE.db \\\n",
    "            -o $OUTDIR/\"$SAMPLENAME\"_profile_merged\n",
    "#merge single sample profiles to one profile\n",
    "\n",
    "FILES=$(find $DIR/*.fa)\n",
    "for f in $FILES; do\n",
    " NAME=$(basename $f .fa)\n",
    " grep \">\" $f | sed 's/>//' | sed -e \"s/$/\\t$NAME/\" | sed 's/\\./_/' >> metabins4anvio.txt\n",
    "done\n",
    "#convert metabin results to anvio format\n",
    "#metabin produces fasta files containing contigs of each bin \n",
    "#collection artifact requires a txt file that contains list of contigs with their associated bins (2 columns) \n",
    "\n",
    "anvi-import-collection metabins4anvio.txt \\\n",
    "                       -p $OUTDIR/\"$SAMPLENAME\"_profile_merged/PROFILE.db \\\n",
    "                       -c ./working/$SAMPLENAME.contigs.db \\\n",
    "                       --contigs-mode \\\n",
    "                       -C \"$SAMPLENAME\"_collection\n",
    "#import binning results of metabat from 3Binning step as a collection artifact in anvio\n",
    "##contigs-mode specificies that input txt file describes contigs names not split names\n",
    "  \n",
    "\n",
    "#seperated individual sample profiling and merging to different bash scripts just for troubleshooting\n",
    "#bash script: binning\n",
    "#job ID: "
   ]
  },
  {
   "cell_type": "markdown",
   "id": "64b8204a-0f7d-4e82-a5a9-c5cd806ab311",
   "metadata": {},
   "source": [
    "**Troubleshooting code below**\n",
    "- Trying to figure out clustering in anvio itself\n",
    "- Skip for now"
   ]
  },
  {
   "cell_type": "code",
   "execution_count": null,
   "id": "9c5eba26-b14e-4a96-bce9-a5fd5e96d5a5",
   "metadata": {},
   "outputs": [],
   "source": [
    "anvi-cluster-contigs -p $OUTDIR/\"$SAMPLENAME\"_contigs_merged \\\n",
    "                    -c ./working/$SAMPLENAME.contigs.db \\\n",
    "                    --log-file //project/pi_sarah_gignouxwolfsohn_uml_edu/brooke/bash_scripts/cluster_log \\\n",
    "                    -C \"$SAMPLENAME\"_collection \\\n",
    "                    -T 3 \\\n",
    "                    --driver 'metabat2'\n",
    "#binning: clusters contigs. can use various drivers: 'concoct, metabat2, maxbin2, dastool, or binsanity.'\n",
    "\n",
    "#error output that the module of clustering isnt fully developed and is better to just use own binning software. use flag '--just-do-it' if you want to try it out"
   ]
  },
  {
   "cell_type": "markdown",
   "id": "415912cf-c306-4b58-85b6-4322c5d5a3b6",
   "metadata": {},
   "source": [
    "#### Results from importing collection:\n",
    "- low coverage...make metabin parameters less stringent??"
   ]
  },
  {
   "cell_type": "raw",
   "id": "b7ab0a13-d8c7-4f6f-97d0-6f54cfd1b99c",
   "metadata": {},
   "source": [
    "Contig/split name conversion .................: 3766 contig names converted into 3766 split names.\n",
    "Item names in input ..........................: 3,766\n",
    "Num bins in input ............................: 49\n",
    "Items in profile database ....................: 39,414\n",
    "Item names shared between input and db .......: 3,766\n",
    "\n",
    "WARNING\n",
    "===============================================\n",
    "35648 item(s) that were in the database, but were not in the input file, will\n",
    "not be described by any bin in the collection mcav_collection. That is totally\n",
    "fine, but anvi'o hopes that you are aware of that. This means you have more\n",
    "things in your database than the number of things your input file describes.\n",
    "Here is an example of something that is in your database but not in any bin in\n",
    "your input file: c_000000144788_split_00001.\n",
    "\n",
    "Collections ..................................: The collection 'mcav_collection' that describes 3,766 items in 49 bins was successfully added to the to the database at\n",
    "                                                '//project/pi_sarah_gignouxwolfsohn_uml_edu/brooke/working/index/mcav_profile_merged/PROFILE.db'. Here is a full list of the bin names in this collection: Metabin_1,\n",
    "                                                Metabin_10, Metabin_11, Metabin_12, Metabin_13, Metabin_14, Metabin_15, Metabin_16, Metabin_17, Metabin_18, Metabin_19, Metabin_2, Metabin_20, Metabin_21, Metabin_22,\n",
    "                                                Metabin_23, Metabin_24, Metabin_25, Metabin_26, Metabin_27, Metabin_28, Metabin_29, Metabin_3, Metabin_30, Metabin_31, Metabin_32, Metabin_33, Metabin_34, Metabin_35,\n",
    "                                                Metabin_36, Metabin_37, Metabin_38, Metabin_39, Metabin_4, Metabin_40, Metabin_41, Metabin_42, Metabin_43, Metabin_44, Metabin_45, Metabin_46, Metabin_47, Metabin_48,\n",
    "                                                Metabin_49, Metabin_5, Metabin_6, Metabin_7, Metabin_8, Metabin_9."
   ]
  },
  {
   "cell_type": "code",
   "execution_count": null,
   "id": "cfa6bd90-a188-498a-bda7-9dad067a5d54",
   "metadata": {},
   "outputs": [],
   "source": [
    "anvi-migrate --migrate-safely ./working/\"$SAMPLENAME\".contigs.db\n",
    "#migrate anvio artifact after updating anvio to version 8 - only do once if updated"
   ]
  },
  {
   "cell_type": "markdown",
   "id": "da6fed86-b9e5-4704-b902-5a3a3de9f952",
   "metadata": {},
   "source": [
    "#### Taxonomy \n",
    "https://merenlab.org/2019/10/08/anvio-scg-taxonomy/\n",
    "- single-copy core genes (SCGs) and the taxonomy of the genomes - as defined by the GTDB - from which these genes are coming from\n",
    "\n",
    "- very bad results...don't think we should use this method?"
   ]
  },
  {
   "cell_type": "code",
   "execution_count": null,
   "id": "522b8784-279f-4544-97f9-40e05b90355e",
   "metadata": {},
   "outputs": [],
   "source": [
    "mkdir ./results/taxonomy\n",
    "SAMPLENAME=mcav "
   ]
  },
  {
   "cell_type": "code",
   "execution_count": null,
   "id": "610e9a2b-447f-45df-af3c-352bd9f85254",
   "metadata": {},
   "outputs": [],
   "source": [
    "anvi-estimate-scg-taxonomy -c ./working/$SAMPLENAME.contigs.db -p working/index/\"$SAMPLENAME\"_profile_merged/PROFILE.db -T 3 --metagenome-mode --compute-scg-coverages -o ./results/taxonomy/\"$SAMPLENAME\"-scg-taxonomy.tsv\n",
    "#taxa matching from assembled metagenome - will just match ASVs to SCG taxa and give percent identity "
   ]
  },
  {
   "cell_type": "code",
   "execution_count": null,
   "id": "1fd59a1a-514c-4893-b27b-72b2308f7fb7",
   "metadata": {},
   "outputs": [],
   "source": [
    "anvi-run-scg-taxonomy -c working/\"$SAMPLENAME\".contigs.db"
   ]
  },
  {
   "cell_type": "raw",
   "id": "f65c298e-1b42-450d-9a3f-6953923c65a6",
   "metadata": {
    "tags": []
   },
   "source": [
    "Parameters for search\n",
    "===============================================\n",
    "Max number of target sequences ...............: 20\n",
    "Max e-value to report alignments .............: 1e-05\n",
    "Min percent identity to report alignments ....: 90.0\n",
    "Num aligment tasks running in parallel .......: 1\n",
    "Num CPUs per aligment task ...................: 1\n",
    "Log file path ................................: /tmp/tmp9gm1jv7b\n",
    "                                                                                                                                                \n",
    "WARNING\n",
    "===============================================\n",
    "Please take a careful look at the table below. It shows the number of sequences\n",
    "found in the contigs database for a given SCG, and how many of them actually was\n",
    "annotated based on sequences in GTDB. The discrepancy between these two numbers\n",
    "can occur due to multiple reasons. You may have bacterial or archaeal sequences\n",
    "in your data that are way too novel to hit anything in the GTDB above the\n",
    "percent identity cutoff set by the parameter`--min-percent-identity` to report\n",
    "alignments (which is set to 90.0 in the current run). Or, you may have a lot of\n",
    "eukaryotic organisms, single-copy core gene sequences of which may have no\n",
    "representation in the GTDB, in which case decreasing `--min-percent-identity`\n",
    "will only give you erronous results.\n",
    "\n",
    "+--------------+-----------------+---------------------+----------------------+\n",
    "| SCG          |  in_contigs_db  |  in_search_results  |  percent_annotation  |\n",
    "+==============+=================+=====================+======================+\n",
    "| Ribosomal_L3 |        1        |          0          |          0           |\n",
    "+--------------+-----------------+---------------------+----------------------+\n",
    "| Ribosomal_L4 |        1        |          0          |          0           |\n",
    "+--------------+-----------------+---------------------+----------------------+"
   ]
  },
  {
   "cell_type": "code",
   "execution_count": null,
   "id": "594b0ac1-c791-4ec6-88e5-b095dbe72aa1",
   "metadata": {},
   "outputs": [],
   "source": [
    "anvi-run-scg-taxonomy -c working/\"$SAMPLENAME\".contigs.db --min-percent-identity 60"
   ]
  },
  {
   "cell_type": "raw",
   "id": "58cb93c7-74af-40ee-a4f6-561024f3cf8d",
   "metadata": {},
   "source": [
    "Parameters for search\n",
    "===============================================\n",
    "Max number of target sequences ...............: 20\n",
    "Max e-value to report alignments .............: 1e-05\n",
    "Min percent identity to report alignments ....: 60.0\n",
    "Num aligment tasks running in parallel .......: 1\n",
    "Num CPUs per aligment task ...................: 1\n",
    "Log file path ................................: /tmp/tmpxeeueb0b\n",
    "                                                                                                                                                \n",
    "WARNING\n",
    "===============================================\n",
    "Please take a careful look at the table below. It shows the number of sequences\n",
    "found in the contigs database for a given SCG, and how many of them actually was\n",
    "annotated based on sequences in GTDB. The discrepancy between these two numbers\n",
    "can occur due to multiple reasons. You may have bacterial or archaeal sequences\n",
    "in your data that are way too novel to hit anything in the GTDB above the\n",
    "percent identity cutoff set by the parameter`--min-percent-identity` to report\n",
    "alignments (which is set to 60.0 in the current run). Or, you may have a lot of\n",
    "eukaryotic organisms, single-copy core gene sequences of which may have no\n",
    "representation in the GTDB, in which case decreasing `--min-percent-identity`\n",
    "will only give you erronous results.\n",
    "\n",
    "+--------------+-----------------+---------------------+----------------------+\n",
    "| SCG          |  in_contigs_db  |  in_search_results  |  percent_annotation  |\n",
    "+==============+=================+=====================+======================+\n",
    "| Ribosomal_L3 |        1        |          1          |         100          |\n",
    "+--------------+-----------------+---------------------+----------------------+\n",
    "| Ribosomal_L4 |        1        |          0          |          0           |\n",
    "+--------------+-----------------+---------------------+----------------------+"
   ]
  },
  {
   "cell_type": "code",
   "execution_count": null,
   "id": "ff387659-6192-4664-9f32-3f4b90200777",
   "metadata": {},
   "outputs": [],
   "source": [
    "anvi-estimate-scg-taxonomy -c ./working/\"$SAMPLENAME\".contigs.db \\\n",
    "                           -p ./working/index/mcav_profile_merged/PROFILE.db \\\n",
    "                           --num-threads 3 \\\n",
    "                           --metagenome-mode \\\n",
    "                           --compute-scg-coverages \\\n",
    "                           --output-file ./results/taxonomy/\"$SAMPLENAME\"-taxa-abundance.tsv\n",
    "#difference here is that it will calculate relative abundances of the matched SCG taxa across all samples as well as percent identity (like an OTU table)"
   ]
  },
  {
   "cell_type": "code",
   "execution_count": null,
   "id": "53facb1a-fc92-441a-bacb-95a23fd4b3ba",
   "metadata": {},
   "outputs": [],
   "source": [
    "ssh -L 8080:localhost:8080 unity\n",
    "#coonect to unity this way from local terminal if you want to use the interactive browser below"
   ]
  },
  {
   "cell_type": "code",
   "execution_count": null,
   "id": "5f44f72f-3c49-4603-a566-e9fce4ed82b3",
   "metadata": {},
   "outputs": [],
   "source": [
    "anvi-interactive -p $OUTDIR/\"$SAMPLENAME\"_profile_merged/PROFILE.db -c ./working/$SAMPLENAME.contigs.db -C \"$SAMPLENAME\"_collection\n",
    "#need collection info since we skipped clustering in the merging step \n",
    "#also very bad results - don't think it's helpful"
   ]
  },
  {
   "cell_type": "code",
   "execution_count": null,
   "id": "c5e550ec-e741-4cd9-bcce-c130f593dfae",
   "metadata": {},
   "outputs": [],
   "source": []
  }
 ],
 "metadata": {
  "kernelspec": {
   "display_name": "Python 3 (ipykernel)",
   "language": "python",
   "name": "python3"
  },
  "language_info": {
   "codemirror_mode": {
    "name": "ipython",
    "version": 3
   },
   "file_extension": ".py",
   "mimetype": "text/x-python",
   "name": "python",
   "nbconvert_exporter": "python",
   "pygments_lexer": "ipython3",
   "version": "3.11.0"
  }
 },
 "nbformat": 4,
 "nbformat_minor": 5
}
