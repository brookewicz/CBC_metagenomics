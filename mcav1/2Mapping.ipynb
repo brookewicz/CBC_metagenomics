{
 "cells": [
  {
   "cell_type": "markdown",
   "id": "395e17a1-2c93-42e4-be74-45dd918329f6",
   "metadata": {
    "tags": []
   },
   "source": [
    "# Quality Check\n",
    "**Metaquast**\n",
    "- quality assessment of metagenomic reads, no reference genome included here"
   ]
  },
  {
   "cell_type": "markdown",
   "id": "d5c9976c-f4f3-4d22-aa31-aed75133a0b7",
   "metadata": {},
   "source": [
    "https://quast.sourceforge.net/docs/manual.html#sec1\n",
    "..how to interpret quality results?\n",
    "- check how many large contigs you have (>1000 bp)\n",
    "- did not map to reference genome.\n",
    "- right now just helpful to see length and quality of contigs, maybe can reassess after mapping back to metagenome?\n",
    "Cite metaquast: https://quast.sourceforge.net/publications.html"
   ]
  },
  {
   "cell_type": "code",
   "execution_count": null,
   "id": "793f45fd-8189-4e5b-b99f-445ce462c330",
   "metadata": {},
   "outputs": [],
   "source": [
    "metaquast mcav.contigs.fa -o quast_output"
   ]
  },
  {
   "cell_type": "markdown",
   "id": "07d260b9-ac35-408b-9899-072e01946aae",
   "metadata": {
    "tags": []
   },
   "source": [
    "All statistics are based on contigs of size >= 500 bp, unless otherwise noted (e.g., \"# contigs (>= 0 bp)\" and \"Total length (>= 0 bp)\" include all contigs).\n",
    "\n",
    "### Assembly                    mcav.contigs\n",
    "#### contigs (>= 0 bp)         839850      \n",
    "#### contigs (>= 1000 bp)      39414       \n",
    "#### contigs (>= 5000 bp)      370         \n",
    "#### contigs (>= 10000 bp)     35          \n",
    "#### contigs (>= 25000 bp)     0           \n",
    "#### contigs (>= 50000 bp)     0           \n",
    "Total length (>= 0 bp)      435829081   \n",
    "Total length (>= 1000 bp)   57097694    \n",
    "Total length (>= 5000 bp)   2623425     \n",
    "Total length (>= 10000 bp)  443897      \n",
    "Total length (>= 25000 bp)  0           \n",
    "Total length (>= 50000 bp)  0           \n",
    "#### contigs                   312757      \n",
    "Largest contig              24857       \n",
    "Total length                237368824   \n",
    "GC (%)                      42.80       \n",
    "N50                         729         \n",
    "N75                         595         \n",
    "L50                         113047      \n",
    "L75                         203599      \n",
    "N's per 100 kbp           0.00  "
   ]
  },
  {
   "cell_type": "markdown",
   "id": "00899c6b-9865-4ce8-810a-3d1db2c3b5b2",
   "metadata": {},
   "source": [
    "# Mapping \n",
    "- maps the reads onto to the MAG (metagenome-assembled genome) (contigs.fa)\n",
    "- allows you to quantify genes/taxa in each sample by matching the sequences to the MAG\n",
    "\n",
    "## Anvio\n",
    "\n",
    "https://anvio.org/\n",
    "- used for further analysis \n",
    "- Here, we use it for mapping, ..."
   ]
  },
  {
   "cell_type": "code",
   "execution_count": null,
   "id": "ba679cd6-4a9c-42f8-ab23-c836bbeb6e62",
   "metadata": {},
   "outputs": [],
   "source": [
    "#create anvio environment\n",
    "conda create -n anvio-7.1\n",
    "#dir=/home/brooke_sienkiewicz_student_uml_edu/.conda/envs/anvio-7.1"
   ]
  },
  {
   "cell_type": "markdown",
   "id": "a89b912f-1e44-4f59-9689-5d0c66213938",
   "metadata": {},
   "source": [
    "Anvio\n",
    "https://merenlab.org/tutorials/assembly-based-metagenomics/\n",
    "- reformats fasta file, filters contigs >1000bp\n",
    "- aligns reads and indexes and stores in bam files "
   ]
  },
  {
   "cell_type": "code",
   "execution_count": null,
   "id": "612967b6-6520-472e-bfc3-5a4a61ca15fc",
   "metadata": {},
   "outputs": [],
   "source": [
    "#!/bin/bash\n",
    "#SBATCH -c 24  # Number of Cores per Task\n",
    "#SBATCH --mem=50G  # Requested Memory\n",
    "#SBATCH -p cpu  # Partition\n",
    "#SBATCH -t 20:00:00  # Job time limit\n",
    "#SBATCH --mail-type=ALL\n",
    "#SBATCH -o slurm-%j.out  # %j = job ID\n",
    "\n",
    "module load miniconda/22.11.1-1\n",
    "conda activate anvio-8\n",
    "\n",
    "SAMPLENAME=mcav\n",
    "READSPATH=/project/pi_sarah_gignouxwolfsohn_uml_edu/brooke/trimmed\n",
    "CONTIGPATH=/project/pi_sarah_gignouxwolfsohn_uml_edu/brooke/results/mcav_assembly3\n",
    "CONTIGFILE=\"$SAMPLENAME\".contigs.fa\n",
    "newCONTIGPATH=/project/pi_sarah_gignouxwolfsohn_uml_edu/brooke/working/mcav_assembly_redo\n",
    "\n",
    "#fixes deflines for later and filters on size \n",
    "anvi-script-reformat-fasta $CONTIGPATH/$CONTIGFILE -o $newCONTIGPATH/$SAMPLENAME.contigs-fixed.fa -l 50 --simplify-names --report-file contig-rename-report-txt\n",
    "#need to play around with filtering based on bp length\n",
    "#deflines = sequence definition line. comes directly before its associated sequence in a fasta file\n",
    "\n",
    "\n",
    "FIXEDCON=\"$SAMPLENAME\".contigs-fixed.fa\n",
    "\n",
    "bowtie2-build $newCONTIGPATH/$FIXEDCON $newCONTIGPATH/\"$SAMPLENAME\"_contigs\n",
    "#this builds an index of your contigs, which only needs to happen once\n",
    "\n",
    "for f in T1_12_2022 T1_13_2022 T1_16_2019 T1_20_2019 T1_24_2019 T1_40_2022 T1_57_2022 T1_70_2022 T2_10_2022 T2_16_2019 T3_13_2022 T3_14_2019 T3_15_2019 T3_19_2022 T3_1_2019 T3_40_2022 T3_48_2022 T3_49_2022 T3_51_2022 T3_60_2022 T3_8_2019 T3_9_2019\n",
    "do\n",
    "bowtie2 --threads 11 -x $newCONTIGPATH/\"$SAMPLENAME\"_contigs -1 $READSPATH/\"$f\"_MCAV_R1_001_val_1.fq -2 $READSPATH/\"$f\"_MCAV_R2_001_val_2.fq -S $newCONTIGPATH/\"$f\".sam\n",
    "#this creates an alignment of your reads to your contigs and collects that in a .sam file\n",
    "\n",
    "samtools view -F 4 -b -S $newCONTIGPATH/\"$f\".sam -o $newCONTIGPATH/\"$f\"-RAW.bam\n",
    "#this converts your sam file to a bam file, but its neither sorted nor indexed, so we use an Anvi'O script to do so:\n",
    "\n",
    "anvi-init-bam $newCONTIGPATH/\"$f\"-RAW.bam -o $newCONTIGPATH/\"$f\".bam\n",
    "#index and sort your bam file\n",
    "\n",
    "rm $newCONTIGPATH/\"$f\"-RAW.bam\n",
    "#removal failed (was pointing to wrong directory) but going to keep raw seqs anyway\n",
    "done\n",
    "#generates BAM files from each sample sequence, aligns, indexes...need output bam for downstream analysis\n",
    "\n",
    "#bash script: mapping.txt\n",
    "#JOB ID: 15804854"
   ]
  }
 ],
 "metadata": {
  "kernelspec": {
   "display_name": "Python 3 (ipykernel)",
   "language": "python",
   "name": "python3"
  },
  "language_info": {
   "codemirror_mode": {
    "name": "ipython",
    "version": 3
   },
   "file_extension": ".py",
   "mimetype": "text/x-python",
   "name": "python",
   "nbconvert_exporter": "python",
   "pygments_lexer": "ipython3",
   "version": "3.11.0"
  }
 },
 "nbformat": 4,
 "nbformat_minor": 5
}
