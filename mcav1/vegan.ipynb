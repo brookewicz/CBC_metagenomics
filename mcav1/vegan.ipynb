{
 "cells": [
  {
   "cell_type": "code",
   "execution_count": 2,
   "id": "fdf0d8c6-3510-4931-b684-9ce127966f10",
   "metadata": {},
   "outputs": [
    {
     "name": "stderr",
     "output_type": "stream",
     "text": [
      "Updating HTML index of packages in '.Library'\n",
      "\n",
      "Making 'packages.html' ...\n",
      " done\n",
      "\n",
      "Skipping install of 'vegan' from a github remote, the SHA1 (003391b9) has not changed since last install.\n",
      "  Use `force = TRUE` to force installation\n",
      "\n"
     ]
    }
   ],
   "source": [
    "install.packages(\"remotes\")\n",
    "remotes::install_github(\"vegandevs/vegan\")"
   ]
  },
  {
   "cell_type": "code",
   "execution_count": 14,
   "id": "1b8c69d3-1359-4617-b077-1138e14a1ef2",
   "metadata": {},
   "outputs": [
    {
     "name": "stdout",
     "output_type": "stream",
     "text": [
      "[1] \"Current Working Directory: /project/pi_sarah_gignouxwolfsohn_uml_edu/brooke/CBC_metagenomics/mcav1\"\n"
     ]
    }
   ],
   "source": [
    "# Get the current working directory\n",
    "current_directory <- getwd()\n",
    "print(paste(\"Current Working Directory:\", current_directory))"
   ]
  },
  {
   "cell_type": "code",
   "execution_count": 15,
   "id": "1e1a05e7-ae1e-42d0-b5c3-1705933c941e",
   "metadata": {},
   "outputs": [
    {
     "name": "stdout",
     "output_type": "stream",
     "text": [
      "[1] \"New Working Directory: /project/pi_sarah_gignouxwolfsohn_uml_edu/brooke/mcav_taxonomy/kraken\"\n"
     ]
    }
   ],
   "source": [
    "# Set a new working directory\n",
    "new_directory <- \"//project/pi_sarah_gignouxwolfsohn_uml_edu/brooke/mcav_taxonomy/kraken\"\n",
    "setwd(new_directory)\n",
    "\n",
    "# Check if the working directory has been changed\n",
    "current_directory <- getwd()\n",
    "print(paste(\"New Working Directory:\", current_directory))\n"
   ]
  },
  {
   "cell_type": "code",
   "execution_count": 36,
   "id": "ec0a98ba-d3b9-4b4c-bd8a-67825f509a50",
   "metadata": {},
   "outputs": [
    {
     "name": "stdout",
     "output_type": "stream",
     "text": [
      "  X0    X1    X2    X3    X4    X5    X6    X7    X8    X9   X10   X11   X12\n",
      "0  0 0.453 0.225 0.426 0.180 0.414 0.500 0.466 0.330 0.471 0.262 0.310 0.163\n",
      "1 NA 0.000 0.437 0.628 0.472 0.669 0.625 0.692 0.394 0.630 0.523 0.561 0.506\n",
      "2 NA    NA 0.000 0.524 0.249 0.372 0.364 0.407 0.343 0.369 0.378 0.227 0.231\n",
      "3 NA    NA    NA 0.000 0.439 0.588 0.667 0.636 0.399 0.588 0.453 0.534 0.428\n",
      "4 NA    NA    NA    NA 0.000 0.350 0.451 0.379 0.328 0.436 0.279 0.233 0.215\n",
      "5 NA    NA    NA    NA    NA 0.000 0.238 0.126 0.540 0.432 0.454 0.230 0.376\n",
      "    X13   X14   X15   X16   X17   X18   X19   X20\n",
      "0 0.413 0.345 0.390 0.501 0.500 0.243 0.459 0.251\n",
      "1 0.688 0.513 0.634 0.730 0.715 0.563 0.677 0.524\n",
      "2 0.440 0.201 0.384 0.454 0.439 0.350 0.425 0.291\n",
      "3 0.549 0.585 0.489 0.633 0.657 0.373 0.449 0.480\n",
      "4 0.338 0.273 0.330 0.444 0.435 0.190 0.415 0.157\n",
      "5 0.118 0.327 0.363 0.137 0.171 0.381 0.351 0.287\n"
     ]
    }
   ],
   "source": [
    "# Specify the file path\n",
    "file_path <- \"/project/pi_sarah_gignouxwolfsohn_uml_edu/brooke/mcav_taxonomy/kraken/b_diversity.txt\"\n",
    "\n",
    "# Read the text file into a data frame\n",
    "beta <- read.table(file_path, header = TRUE, sep = \"\\t\", skip=21, na.strings = \"x.xxx\", row.names=1)\n",
    "\n",
    "# If your file uses a different delimiter, specify it with the 'sep' parameter.\n",
    "# For example, if the file uses commas as separators, you can use:\n",
    "# data <- read.csv(file_path)\n",
    "\n",
    "# Print the first few rows of the data frame\n",
    "print(head(beta))\n",
    "#really don't know how to get rid of the x\n",
    "#need to find a way to just copy and transpose the data to the other side of the 0's "
   ]
  },
  {
   "cell_type": "code",
   "execution_count": 40,
   "id": "48c0a2a8-4390-4e0c-a942-576a188bdb7c",
   "metadata": {},
   "outputs": [
    {
     "name": "stderr",
     "output_type": "stream",
     "text": [
      "also installing the dependency ‘igraph’\n",
      "\n",
      "\n",
      "Updating HTML index of packages in '.Library'\n",
      "\n",
      "Making 'packages.html' ...\n",
      " done\n",
      "\n"
     ]
    }
   ],
   "source": [
    "install.packages('ecodist')"
   ]
  },
  {
   "cell_type": "code",
   "execution_count": 41,
   "id": "6120ee2c-b7d9-45bf-9601-8b7f96133619",
   "metadata": {},
   "outputs": [
    {
     "ename": "ERROR",
     "evalue": "Error in full + full2: non-numeric argument to binary operator\n",
     "output_type": "error",
     "traceback": [
      "Error in full + full2: non-numeric argument to binary operator\nTraceback:\n",
      "1. ecodist::pco(beta)",
      "2. full(x)"
     ]
    }
   ],
   "source": [
    "bray_curtis_pcoa <- ecodist::pco(beta)"
   ]
  },
  {
   "cell_type": "code",
   "execution_count": null,
   "id": "a82f4577-0dc5-408a-84f9-5d1e7d1b8309",
   "metadata": {},
   "outputs": [],
   "source": []
  }
 ],
 "metadata": {
  "kernelspec": {
   "display_name": "R [conda env:.conda-kraken]",
   "language": "R",
   "name": "conda-env-.conda-kraken-r"
  },
  "language_info": {
   "codemirror_mode": "r",
   "file_extension": ".r",
   "mimetype": "text/x-r-source",
   "name": "R",
   "pygments_lexer": "r",
   "version": "4.2.0"
  }
 },
 "nbformat": 4,
 "nbformat_minor": 5
}
