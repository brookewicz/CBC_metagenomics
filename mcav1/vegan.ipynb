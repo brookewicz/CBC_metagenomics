{
 "cells": [
  {
   "cell_type": "code",
   "execution_count": 2,
   "id": "fdf0d8c6-3510-4931-b684-9ce127966f10",
   "metadata": {},
   "outputs": [
    {
     "name": "stderr",
     "output_type": "stream",
     "text": [
      "Updating HTML index of packages in '.Library'\n",
      "\n",
      "Making 'packages.html' ...\n",
      " done\n",
      "\n",
      "Skipping install of 'vegan' from a github remote, the SHA1 (003391b9) has not changed since last install.\n",
      "  Use `force = TRUE` to force installation\n",
      "\n"
     ]
    }
   ],
   "source": [
    "install.packages(\"remotes\")\n",
    "remotes::install_github(\"vegandevs/vegan\")"
   ]
  },
  {
   "cell_type": "code",
   "execution_count": 14,
   "id": "1b8c69d3-1359-4617-b077-1138e14a1ef2",
   "metadata": {},
   "outputs": [
    {
     "name": "stdout",
     "output_type": "stream",
     "text": [
      "[1] \"Current Working Directory: /project/pi_sarah_gignouxwolfsohn_uml_edu/brooke/CBC_metagenomics/mcav1\"\n"
     ]
    }
   ],
   "source": [
    "# Get the current working directory\n",
    "current_directory <- getwd()\n",
    "print(paste(\"Current Working Directory:\", current_directory))"
   ]
  },
  {
   "cell_type": "code",
   "execution_count": 1,
   "id": "1e1a05e7-ae1e-42d0-b5c3-1705933c941e",
   "metadata": {},
   "outputs": [
    {
     "name": "stdout",
     "output_type": "stream",
     "text": [
      "[1] \"New Working Directory: /project/pi_sarah_gignouxwolfsohn_uml_edu/brooke/mcav_taxonomy/kraken\"\n"
     ]
    }
   ],
   "source": [
    "# Set a new working directory\n",
    "new_directory <- \"//project/pi_sarah_gignouxwolfsohn_uml_edu/brooke/mcav_taxonomy/kraken\"\n",
    "setwd(new_directory)\n",
    "\n",
    "# Check if the working directory has been changed\n",
    "current_directory <- getwd()\n",
    "print(paste(\"New Working Directory:\", current_directory))\n"
   ]
  },
  {
   "cell_type": "code",
   "execution_count": 40,
   "id": "48c0a2a8-4390-4e0c-a942-576a188bdb7c",
   "metadata": {},
   "outputs": [
    {
     "name": "stderr",
     "output_type": "stream",
     "text": [
      "also installing the dependency ‘igraph’\n",
      "\n",
      "\n",
      "Updating HTML index of packages in '.Library'\n",
      "\n",
      "Making 'packages.html' ...\n",
      " done\n",
      "\n"
     ]
    }
   ],
   "source": [
    "install.packages('ecodist')"
   ]
  },
  {
   "cell_type": "code",
   "execution_count": 41,
   "id": "6120ee2c-b7d9-45bf-9601-8b7f96133619",
   "metadata": {},
   "outputs": [
    {
     "ename": "ERROR",
     "evalue": "Error in full + full2: non-numeric argument to binary operator\n",
     "output_type": "error",
     "traceback": [
      "Error in full + full2: non-numeric argument to binary operator\nTraceback:\n",
      "1. ecodist::pco(beta)",
      "2. full(x)"
     ]
    }
   ],
   "source": [
    "bray_curtis_pcoa <- ecodist::pco(beta)"
   ]
  },
  {
   "cell_type": "code",
   "execution_count": 2,
   "id": "a82f4577-0dc5-408a-84f9-5d1e7d1b8309",
   "metadata": {},
   "outputs": [
    {
     "name": "stderr",
     "output_type": "stream",
     "text": [
      "also installing the dependencies ‘sys’, ‘bit’, ‘ps’, ‘rematch’, ‘askpass’, ‘bit64’, ‘prettyunits’, ‘processx’, ‘backports’, ‘blob’, ‘DBI’, ‘data.table’, ‘gargle’, ‘cellranger’, ‘curl’, ‘ids’, ‘rematch2’, ‘openssl’, ‘timechange’, ‘systemfonts’, ‘textshaping’, ‘clipr’, ‘vroom’, ‘tzdb’, ‘progress’, ‘callr’, ‘selectr’, ‘broom’, ‘conflicted’, ‘dbplyr’, ‘dtplyr’, ‘forcats’, ‘googledrive’, ‘googlesheets4’, ‘haven’, ‘hms’, ‘httr’, ‘lubridate’, ‘modelr’, ‘ragg’, ‘readr’, ‘readxl’, ‘reprex’, ‘rstudioapi’, ‘rvest’, ‘xml2’\n",
      "\n",
      "\n",
      "Warning message in install.packages(\"tidyverse\"):\n",
      "“installation of package ‘curl’ had non-zero exit status”\n",
      "Warning message in install.packages(\"tidyverse\"):\n",
      "“installation of package ‘ragg’ had non-zero exit status”\n",
      "Warning message in install.packages(\"tidyverse\"):\n",
      "“installation of package ‘httr’ had non-zero exit status”\n",
      "Warning message in install.packages(\"tidyverse\"):\n",
      "“installation of package ‘gargle’ had non-zero exit status”\n",
      "Warning message in install.packages(\"tidyverse\"):\n",
      "“installation of package ‘rvest’ had non-zero exit status”\n",
      "Warning message in install.packages(\"tidyverse\"):\n",
      "“installation of package ‘googledrive’ had non-zero exit status”\n",
      "Warning message in install.packages(\"tidyverse\"):\n",
      "“installation of package ‘googlesheets4’ had non-zero exit status”\n",
      "Warning message in install.packages(\"tidyverse\"):\n",
      "“installation of package ‘tidyverse’ had non-zero exit status”\n",
      "Updating HTML index of packages in '.Library'\n",
      "\n",
      "Making 'packages.html' ...\n",
      " done\n",
      "\n"
     ]
    }
   ],
   "source": [
    "install.packages('tidyverse')"
   ]
  },
  {
   "cell_type": "code",
   "execution_count": 3,
   "id": "2cf1c7e6-f6b3-41f9-8a6f-b65a9feff119",
   "metadata": {},
   "outputs": [
    {
     "name": "stderr",
     "output_type": "stream",
     "text": [
      "Warning message:\n",
      "“package ‘ggvegan’ is not available for this version of R\n",
      "\n",
      "A version of this package for your version of R might be available elsewhere,\n",
      "see the ideas at\n",
      "https://cran.r-project.org/doc/manuals/r-patched/R-admin.html#Installing-packages”\n"
     ]
    }
   ],
   "source": [
    "install.packages('ggvegan')"
   ]
  },
  {
   "cell_type": "code",
   "execution_count": 4,
   "id": "2850ff55-8356-429a-8f2e-8c41eaa013c0",
   "metadata": {},
   "outputs": [
    {
     "ename": "ERROR",
     "evalue": "Error in library(tidyverse): there is no package called ‘tidyverse’\n",
     "output_type": "error",
     "traceback": [
      "Error in library(tidyverse): there is no package called ‘tidyverse’\nTraceback:\n",
      "1. library(tidyverse)"
     ]
    }
   ],
   "source": [
    "library(tidyverse)\n",
    "library(vegan)"
   ]
  },
  {
   "cell_type": "code",
   "execution_count": null,
   "id": "a02ee7ab-b89c-45f2-84fe-7ccb5eaa9f16",
   "metadata": {},
   "outputs": [],
   "source": []
  }
 ],
 "metadata": {
  "kernelspec": {
   "display_name": "R",
   "language": "R",
   "name": "ir"
  },
  "language_info": {
   "codemirror_mode": "r",
   "file_extension": ".r",
   "mimetype": "text/x-r-source",
   "name": "R",
   "pygments_lexer": "r",
   "version": "4.1.3"
  }
 },
 "nbformat": 4,
 "nbformat_minor": 5
}
