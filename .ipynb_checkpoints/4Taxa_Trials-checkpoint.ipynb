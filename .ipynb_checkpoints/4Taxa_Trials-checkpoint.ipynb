{
 "cells": [
  {
   "cell_type": "markdown",
   "id": "7b64ba0e-624e-404a-832e-de0ab81dc810",
   "metadata": {},
   "source": [
    "### Taxonomic Profiling on MAGS\n",
    "- Can't figure out on anvio so for no trying other options\n",
    "- option 1: sylph "
   ]
  },
  {
   "cell_type": "markdown",
   "id": "131c9931-f55e-41d1-ab97-20fac3a466cc",
   "metadata": {},
   "source": [
    "##### Sylph\n",
    "https://github.com/bluenote-1577/sylph\n",
    "- average nucleic identity (ANI) querying or taxonomic profiling"
   ]
  },
  {
   "cell_type": "code",
   "execution_count": null,
   "id": "3345e46d-9dde-4dea-88cd-4be610cc4260",
   "metadata": {},
   "outputs": [],
   "source": [
    "#activate unity interactive job..need high memory for installation\n",
    "salloc -p cpu --mem 150G"
   ]
  },
  {
   "cell_type": "code",
   "execution_count": null,
   "id": "dfb5beeb-938f-4145-897b-99a0c4d22899",
   "metadata": {},
   "outputs": [],
   "source": [
    "module load miniconda/22.11.1-1\n",
    "#conda create -n taxa\n",
    "conda activate taxa"
   ]
  },
  {
   "cell_type": "code",
   "execution_count": null,
   "id": "238f2098-b303-43b1-8ad9-604d8216f719",
   "metadata": {},
   "outputs": [],
   "source": [
    "#install sylph package\n",
    "conda install -c bioconda sylph\n",
    "#if above doesnt work do: \n",
    "conda install -c bioconda -c conda-forge sylph"
   ]
  },
  {
   "cell_type": "code",
   "execution_count": null,
   "id": "a75cf3d5-7ff1-47db-ba4a-b2faf6cff548",
   "metadata": {},
   "outputs": [],
   "source": [
    "#set parameters\n",
    "SAMPLENAME=mcav\n",
    "CONTIGPATH=/project/pi_sarah_gignouxwolfsohn_uml_edu/brooke/results/mcav_assembly3\n",
    "CONTIGFILE=mcav.contigs-fixed.fa"
   ]
  },
  {
   "cell_type": "code",
   "execution_count": null,
   "id": "780258a3-bc5d-46fb-acce-3419e19713b3",
   "metadata": {},
   "outputs": [],
   "source": [
    "#sketch paired-end reads\n",
    "sylph sketch -1 ./trimmed/*_R1_001_val_1.fq -2 ./trimmed/*_R2_001_val_2.fq -d \"$SAMPLENAME\"_sketches -t 50 "
   ]
  },
  {
   "cell_type": "markdown",
   "id": "bc41be15-2909-45e4-8534-f7a59a6e0a73",
   "metadata": {},
   "source": [
    "**note:** finished sketching each sample..go from here"
   ]
  },
  {
   "cell_type": "code",
   "execution_count": null,
   "id": "8e17431b-56de-4ee6-a3d8-9de32ae1c080",
   "metadata": {},
   "outputs": [],
   "source": [
    "#create database if contigs are all in one fasta file\n",
    "sylph sketch $CONTIGPATH/$CONTIGFILE -i -o ./working/\"$SAMPLENAME\"_contig_database"
   ]
  },
  {
   "cell_type": "code",
   "execution_count": null,
   "id": "64aee5a1-7400-47ba-ab2f-a29fb361e766",
   "metadata": {},
   "outputs": [],
   "source": [
    "#think this is similar to mapping individual sketched reads to large database created above??\n",
    "#read more: https://github.com/bluenote-1577/sylph/wiki/sylph-cookbook#creating-a-database-of-fasta-files\n",
    "sylph profile \"$SAMPLENAME\"_sketches/*.sylsp ./working/\"$SAMPLENAME\"_contig_database.syldb -t 50 -o ./results/sylsp/\"$SAMPLENAME\"_profile.tsv"
   ]
  },
  {
   "cell_type": "code",
   "execution_count": null,
   "id": "6bba0587-108a-410a-9efd-eca97bb47bdb",
   "metadata": {},
   "outputs": [],
   "source": [
    "# query for ANI \n",
    "sylph query \"$SAMPLENAME\"_sketches/*.sylsp ./working/\"$SAMPLENAME\"_contig_database.syldb\n",
    "#output is statistics for each genome against our reads\n",
    "#redirect output??"
   ]
  },
  {
   "cell_type": "code",
   "execution_count": null,
   "id": "2b975f66-731b-4640-9e34-32b3bb2b93a5",
   "metadata": {},
   "outputs": [],
   "source": [
    "Thus sylph query is not a profiler. It does not tell you the abundance of the genomes in your sample, just how similar your query genome is to the genomes within the sample."
   ]
  }
 ],
 "metadata": {
  "kernelspec": {
   "display_name": "Python 3 (ipykernel)",
   "language": "python",
   "name": "python3"
  },
  "language_info": {
   "codemirror_mode": {
    "name": "ipython",
    "version": 3
   },
   "file_extension": ".py",
   "mimetype": "text/x-python",
   "name": "python",
   "nbconvert_exporter": "python",
   "pygments_lexer": "ipython3",
   "version": "3.11.0"
  }
 },
 "nbformat": 4,
 "nbformat_minor": 5
}
