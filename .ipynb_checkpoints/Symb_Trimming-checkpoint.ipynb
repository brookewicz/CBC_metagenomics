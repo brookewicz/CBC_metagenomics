{
 "cells": [
  {
   "cell_type": "markdown",
   "id": "e6c79191-7c4b-4a43-96d6-7b469a88884e",
   "metadata": {},
   "source": [
    "Cutadapt \n",
    "- using SYM_VAR primers to extract symbiodinium (symbiont)seqs from original raw sequences \n",
    "- SYM_VAR primer seqs from (Hume et al 2018)\n",
    "- https://cutadapt.readthedocs.io/en/stable/guide.html#five-prime-adapters"
   ]
  },
  {
   "cell_type": "markdown",
   "id": "69cea029-0e90-4be3-869f-c1bc6a969410",
   "metadata": {},
   "source": [
    "Workflow Notes\n",
    "https://benjjneb.github.io/dada2/ITS_workflow.html"
   ]
  },
  {
   "cell_type": "code",
   "execution_count": null,
   "id": "e5b6206a-ac1e-4046-928e-eeb36d96fd8d",
   "metadata": {},
   "outputs": [],
   "source": [
    "dada script\n",
    "# Trim FWD and the reverse-complement of REV off of R1 (forward reads)\n",
    "R1.flags <- paste(\"-g\", FWD, \"-a\", REV.RC) \n",
    "# Trim REV and the reverse-complement of FWD off of R2 (reverse reads)\n",
    "R2.flags <- paste(\"-G\", REV, \"-A\", FWD.RC)"
   ]
  },
  {
   "cell_type": "code",
   "execution_count": null,
   "id": "66281f66-8ec2-4d74-bc4f-5fb45f97f2cd",
   "metadata": {},
   "outputs": [],
   "source": [
    "conda create -n cutadaptenv\n",
    "conda install -c bioconda cutadapt                                                        \n",
    "#install cutadapt to new env"
   ]
  },
  {
   "cell_type": "markdown",
   "id": "ce83eb0c-da59-4f66-a760-5905489a84ef",
   "metadata": {},
   "source": [
    "Trying input file as assembled contig file (post-quality control, no filtering based on bp lengths)"
   ]
  },
  {
   "cell_type": "code",
   "execution_count": null,
   "id": "cf6836a9-c260-42ac-91e3-b8aee173181b",
   "metadata": {},
   "outputs": [],
   "source": [
    "#!/bin/bash\n",
    "#SBATCH -c 24  # Number of Cores per Task\n",
    "#SBATCH --mem=180G  # Requested Memory\n",
    "#SBATCH -p cpu-long  # Partition\n",
    "#SBATCH -t 24:00:00  # Job time limit\n",
    "#SBATCH --mail-type=ALL\n",
    "#SBATCH -o /project/pi_sarah_gignouxwolfsohn_uml_edu/brooke/bash_scripts/slurm-%j.out  # %j = job ID\n",
    "\n",
    "module load miniconda/22.11.1-1\n",
    "conda activate cutadaptenv\n",
    "\n",
    "FWD = \n",
    "REV = \n",
    "SAMPLENAME = mcav\n",
    "INPUTDIR=results/mcav_assembly3\n",
    "\n",
    "\n",
    "cutadapt -g FWD -a REV.RC -G REV -A FWD.RC -o working/trimmed_ITS2/\"$SAMPLENAME\"_symb.contigs.fastq --cores=N 3 --trimmed-only $INPUTDIR/\"$SAMPLENAME\".contigs.fa --info-file=info.tsv \n",
    "#-a^$ anchors linked adapters-both required \n",
    "#trimmed-only - only keeps reads where the adapters were found\n",
    "#--paired-output"
   ]
  },
  {
   "cell_type": "code",
   "execution_count": null,
   "id": "5ef88dca-9491-4e7c-839e-b6821fe29b3f",
   "metadata": {},
   "outputs": [],
   "source": [
    "#!/bin/bash\n",
    "#SBATCH -c 24  # Number of Cores per Task\n",
    "#SBATCH --mem=180G  # Requested Memory\n",
    "#SBATCH -p cpu-long  # Partition\n",
    "#SBATCH -t 24:00:00  # Job time limit\n",
    "#SBATCH --mail-type=ALL\n",
    "#SBATCH -o /project/pi_sarah_gignouxwolfsohn_uml_edu/brooke/bash_scripts/slurm-%j.out  # %j = job ID\n",
    "\n",
    "module load miniconda/22.11.1-1\n",
    "conda activate cutadaptenv\n",
    "\n",
    "# Set your input and output files\n",
    "SAMPLENAME = mcav\n",
    "INPUTDIR=results/mcav_assembly3\n",
    "\n",
    "input_fastq= \"'$SAMPLENAME'.contigs.fa\"\n",
    "output_fastq= \"'$SAMPLENAME'_symb.contigs.fastq\"\n",
    "# Set your primer sequences\n",
    "forward_primer=\"GAATTGCAGAACTCCGTGAACC\"\n",
    "reverse_primer=\"CGGGTTCWCTTGTYTGACTTCATGC\"\n",
    "# Get reverse complements of the primers\n",
    "forward_rc=$(echo \"$forward_primer\" | tr ACGT TCGA | rev)\n",
    "reverse_rc=$(echo \"$reverse_primer\" | tr ACGT TCGA | rev)\n",
    "# Run cutadapt\n",
    "cutadapt \\\n",
    "  -g \"$forward_primer|$forward_rc\" \\\n",
    "  -a \"$reverse_primer|$reverse_rc\" \\\n",
    "  --discard-untrimmed \\\n",
    "  -o working/trimmed_ITS2/\"$output_fastq\" \\\n",
    "  --cores=N 3 \\\n",
    "  $INPUTDIR/\"$input_fastq\"\n",
    "\n",
    "#JOB ID: 13878191\n"
   ]
  },
  {
   "cell_type": "markdown",
   "id": "f720abba-2c52-4a8a-beed-19ec7dad327b",
   "metadata": {},
   "source": [
    "\n"
   ]
  }
 ],
 "metadata": {
  "kernelspec": {
   "display_name": "Python 3 (ipykernel)",
   "language": "python",
   "name": "python3"
  },
  "language_info": {
   "codemirror_mode": {
    "name": "ipython",
    "version": 3
   },
   "file_extension": ".py",
   "mimetype": "text/x-python",
   "name": "python",
   "nbconvert_exporter": "python",
   "pygments_lexer": "ipython3",
   "version": "3.11.0"
  }
 },
 "nbformat": 4,
 "nbformat_minor": 5
}
