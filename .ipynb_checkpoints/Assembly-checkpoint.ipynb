{
 "cells": [
  {
   "cell_type": "code",
   "execution_count": null,
   "id": "639d68d2",
   "metadata": {},
   "outputs": [],
   "source": [
    "srun -p gpu --pty bash"
   ]
  },
  {
   "cell_type": "code",
   "execution_count": null,
   "id": "3f2ec4c6",
   "metadata": {},
   "outputs": [],
   "source": [
    "module avail miniconda"
   ]
  },
  {
   "cell_type": "code",
   "execution_count": null,
   "id": "f75e5450",
   "metadata": {},
   "outputs": [],
   "source": [
    "module load miniconda/4.11.0"
   ]
  },
  {
   "cell_type": "code",
   "execution_count": null,
   "id": "7a7f31b5",
   "metadata": {},
   "outputs": [],
   "source": [
    "conda create -n assembly\n",
    "#dir=/home/brooke_sienkiewicz_student_uml_edu/.conda/envs/assembly"
   ]
  },
  {
   "cell_type": "code",
   "execution_count": null,
   "id": "54f855c4",
   "metadata": {},
   "outputs": [],
   "source": [
    "conda activate assembly\n",
    "conda install -c bioconda megahit\n",
    "conda install -c bioconda quast"
   ]
  },
  {
   "cell_type": "code",
   "execution_count": null,
   "id": "adcc789b",
   "metadata": {},
   "outputs": [],
   "source": [
    "READSPATH=/project/pi_sarah_gignouxwolfsohn_uml_edu/brooke/trimmed/\n",
    "SAMPLENAME=mcav\n",
    "OUTDIR=\"$SAMPLENAME\"_assembly"
   ]
  },
  {
   "cell_type": "code",
   "execution_count": null,
   "id": "305b863f",
   "metadata": {},
   "outputs": [],
   "source": [
    "cat \"$READSPATH\"/*_R1_001_val_1*.fq > \"$READSPATH\"/\"$SAMPLENAME\"_reads_R1_ALL.fastq"
   ]
  },
  {
   "cell_type": "code",
   "execution_count": null,
   "id": "e65cd26d",
   "metadata": {},
   "outputs": [],
   "source": [
    "cat \"$READSPATH\"/*_R2_001_val_2*.fq > \"$READSPATH\"/\"$SAMPLENAME\"_reads_R2_ALL.fastq"
   ]
  },
  {
   "cell_type": "code",
   "execution_count": null,
   "id": "5cd29d27",
   "metadata": {},
   "outputs": [],
   "source": [
    "sbatch batch_assembly"
   ]
  },
  {
   "cell_type": "code",
   "execution_count": null,
   "id": "82844382",
   "metadata": {},
   "outputs": [],
   "source": [
    "#!/bin/bash\n",
    "#SBATCH -c 24  # Number of Cores per Task\n",
    "#SBATCH --mem=190G  # Requested Memory\n",
    "#SBATCH -p cpu  # Partition\n",
    "#SBATCH -t 20:00:00  # Job time limit\n",
    "#SBATCH --mail-type=ALL\n",
    "#SBATCH -o slurm-%j.out  # %j = job ID\n",
    "\n",
    "module load miniconda/4.11.0\n",
    "\n",
    "conda activate assembly\n",
    "\n",
    "SAMPLENAME=mcav\n",
    "OUTDIR=\"$SAMPLENAME\"_assembly\n",
    "READSPATH=/project/pi_sarah_gignouxwolfsohn_uml_edu/brooke/trimmed/\n",
    "\n",
    "\n",
    "\n",
    "megahit --presets meta-large \\\n",
    "-1 \"$READSPATH\"/\"$SAMPLENAME\"_reads_R1_ALL.fastq \\\n",
    "-2 \"$READSPATH\"/\"$SAMPLENAME\"_reads_R2_ALL.fastq \\\n",
    "-o ../brooke/results/$OUTDIR --out-prefix $SAMPLENAME \\\n",
    "#job ID: 8983814\n",
    "#batch file: batch_assembly3"
   ]
  },
  {
   "cell_type": "markdown",
   "id": "bbc5c918",
   "metadata": {},
   "source": [
    "Ran out of time..total so far: 26 hours "
   ]
  },
  {
   "cell_type": "code",
   "execution_count": null,
   "id": "56d932ef",
   "metadata": {},
   "outputs": [],
   "source": [
    "#new parameters \n",
    "\n",
    "#!/bin/bash\n",
    "#SBATCH -c 24  # Number of Cores per Task\n",
    "#SBATCH --mem=190G  # Requested Memory\n",
    "#SBATCH -p cpu-long  # Partition\n",
    "#SBATCH -t 72:00:00  # Job time limit\n",
    "#SBATCH --mail-type=ALL\n",
    "#SBATCH -o slurm-%j.out  # %j = job ID\n",
    "\n",
    "megahit --presets meta-large \\\n",
    "-1 \"$READSPATH\"/\"$SAMPLENAME\"_reads_R1_ALL.fastq \\\n",
    "-2 \"$READSPATH\"/\"$SAMPLENAME\"_reads_R2_ALL.fastq \\\n",
    "-o ../results/$OUTDIR \\\n",
    "--continue \\\n",
    "#output=mcav.contigs.fa\n",
    "\n",
    "#job ID:  9020827\n",
    "#batch file: batch_assembly3 ...note for next time to change batch file each time change script "
   ]
  },
  {
   "cell_type": "markdown",
   "id": "949f9385",
   "metadata": {},
   "source": [
    "Total time elapsed: 46 hrs \n",
    "looks like 190 GB is enough... and 24 CPU - 90% efficiency on last part of run "
   ]
  },
  {
   "cell_type": "code",
   "execution_count": null,
   "id": "8cf58ffd",
   "metadata": {},
   "outputs": [],
   "source": [
    "sacct -j <JOBID>\n",
    "seff <JOBID>"
   ]
  }
 ],
 "metadata": {
  "kernelspec": {
   "display_name": "Python 3 (ipykernel)",
   "language": "python",
   "name": "python3"
  },
  "language_info": {
   "codemirror_mode": {
    "name": "ipython",
    "version": 3
   },
   "file_extension": ".py",
   "mimetype": "text/x-python",
   "name": "python",
   "nbconvert_exporter": "python",
   "pygments_lexer": "ipython3",
   "version": "3.11.3"
  }
 },
 "nbformat": 4,
 "nbformat_minor": 5
}
