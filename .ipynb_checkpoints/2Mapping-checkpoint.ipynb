{
 "cells": [
  {
   "cell_type": "markdown",
   "id": "395e17a1-2c93-42e4-be74-45dd918329f6",
   "metadata": {},
   "source": [
    "Metaquast \n",
    "- quality assessment of metagenomic reads, no reference genome included here"
   ]
  },
  {
   "cell_type": "code",
   "execution_count": null,
   "id": "793f45fd-8189-4e5b-b99f-445ce462c330",
   "metadata": {},
   "outputs": [],
   "source": [
    "metaquast mcav.contigs.fa -o quast_output"
   ]
  },
  {
   "cell_type": "markdown",
   "id": "d5c9976c-f4f3-4d22-aa31-aed75133a0b7",
   "metadata": {},
   "source": [
    "https://quast.sourceforge.net/docs/manual.html#sec1\n",
    "..how to interpret quality results?\n",
    "- check how many large contigs you have (>1000 bp)\n",
    "- did not map to reference genome.\n",
    "- right now just helpful to see length and quality of contigs, maybe can reassess after mapping back to metagenome?\n",
    "Cite metaquast: https://quast.sourceforge.net/publications.html"
   ]
  },
  {
   "cell_type": "markdown",
   "id": "00899c6b-9865-4ce8-810a-3d1db2c3b5b2",
   "metadata": {},
   "source": [
    "Mapping\n",
    "- reassembling contigs back to metagenome \n",
    "\n",
    "Anvio: used various ways throughout this pipeline"
   ]
  },
  {
   "cell_type": "code",
   "execution_count": null,
   "id": "ba679cd6-4a9c-42f8-ab23-c836bbeb6e62",
   "metadata": {},
   "outputs": [],
   "source": [
    "conda create -n anvio-7.1\n",
    "#dir=/home/brooke_sienkiewicz_student_uml_edu/.conda/envs/anvio-7.1\n",
    "anvi-setup-ncbi-cogs --num-threads 11"
   ]
  },
  {
   "cell_type": "markdown",
   "id": "a89b912f-1e44-4f59-9689-5d0c66213938",
   "metadata": {},
   "source": [
    "Anvio\n",
    "https://merenlab.org/2016/06/22/anvio-tutorial-v2/#anvi-profile\n",
    "- reformats fasta file, filters contigs >1000bp\n",
    "- aligns reads and indexes and stores in bam files "
   ]
  },
  {
   "cell_type": "code",
   "execution_count": null,
   "id": "612967b6-6520-472e-bfc3-5a4a61ca15fc",
   "metadata": {},
   "outputs": [],
   "source": [
    "#!/bin/bash\n",
    "#SBATCH -c 24  # Number of Cores per Task\n",
    "#SBATCH --mem=50G  # Requested Memory\n",
    "#SBATCH -p cpu  # Partition\n",
    "#SBATCH -t 20:00:00  # Job time limit\n",
    "#SBATCH --mail-type=ALL\n",
    "#SBATCH -o slurm-%j.out  # %j = job ID\n",
    "\n",
    "module load miniconda/22.11.1-1\n",
    "conda activate anvio-7.1\n",
    "\n",
    "SAMPLENAME=mcav\n",
    "READSPATH=/project/pi_sarah_gignouxwolfsohn_uml_edu/brooke/trimmed\n",
    "CONTIGPATH=/project/pi_sarah_gignouxwolfsohn_uml_edu/brooke/results/mcav_assembly3\n",
    "CONTIGFILE=mcav.contigs.fa\n",
    "\n",
    "anvi-script-reformat-fasta $CONTIGPATH/$CONTIGFILE -o $CONTIGPATH/$SAMPLENAME.contigs-fixed.fa -l 1000 --simplify-names\n",
    "#fixes deflines for later and filters on size (set to 1000 bp)\n",
    "\n",
    "FIXEDCON=\"$SAMPLENAME\".contigs-fixed.fa\n",
    "\n",
    "bowtie2-build $CONTIGPATH/$FIXEDCON ./working/\"$SAMPLENAME\"_contigs\n",
    "#this builds an index of your contigs, which only needs to happen once\n",
    "\n",
    "for f in T1_12_2022 T1_13_2022 T1_16_2019 T1_20_2019 T1_24_2019 T1_40_2022 T1_57_2022 T1_70_2022 T2_10_2022 T2_16_2019 T3_13_2022 T3_14_2019 T3_15_2019 T3_19_2022 T3_1_2019 T3_40_2022 T3_48_2022 T3_49_2022 T3_51_2022 T3_60_2022 T3_8_2019 T3_9_2019\n",
    "do\n",
    "bowtie2 --threads 11 -x ./working/\"$SAMPLENAME\"_contigs -1 $READSPATH/\"$f\"_MCAV_R1_001_val_1.fq -2 $READSPATH/\"$f\"_MCAV_R2_001_val_2.fq -S ./working/\"$f\".sam\n",
    "#this creates an alignment of your reads to your contigs and collects that in a .sam file\n",
    "\n",
    "samtools view -F 4 -b -S ./working/\"$f\".sam -o ./working/\"$f\"-RAW.bam\n",
    "#this converts your sam file to a bam file, but its neither sorted nor indexed, so we use an Anvi'O script to do so:\n",
    "\n",
    "anvi-init-bam ./working/\"$f\"-RAW.bam -o ./results/index/\"$f\".bam\n",
    "#index and sort your bam file\n",
    "\n",
    "#rm ../working/\"$f\"-RAW.bam\n",
    "#removal failed (was pointing to wrong directory) but going to keep raw seqs anyway\n",
    "done\n",
    "#generates BAM files from each sample sequence, aligns, indexes...need output bam for downstream analysis\n",
    "\n",
    "#bash script: mapping.txt\n",
    "#JOB ID: 13289175"
   ]
  },
  {
   "cell_type": "markdown",
   "id": "9d7af615-0745-4754-a15a-ee3cdbb2e01f",
   "metadata": {},
   "source": [
    "Anvio - Contig profiling\n",
    "Contig profiling creates a database of your contigs. It calculates k-mer frequencies for your sample (standard k-setting is 4, which you can change with the --kmer-size parameter (DON'T unless you have a good reason)), soft splits long contigs, and identifies open reading frames (which can be skipped using --skip-gene-calling). Run the following code to generate your database:\n",
    "\n",
    "Subsequently, you can add various elements of analysis to your contig profile. The following list is available:\n",
    "\n",
    "Augustus + Prodigal gene calls: adds open reading frames to your dataset from the genes from the Augustus database (eukaryotes) and Prodigal (bacteria + archaea) WORKING ON THIS: NOT SURE IF IT WORKS\n",
    "\n",
    "Hidden Markov Model (HMM): A widely used prediction model in bioinformatics software, which can offer great advantages in homology detection.\n",
    "\n",
    "NCBI's Cluster of Orthologous genes (NCBI COG): this allows you to annotate your database with gene functions from NCBI COG. Current version: 2020\n",
    "\n",
    "KoFAM Metabolism calls: Uses the KEGG database to call metabolic genes and estimate paths of your community. Currently used KEGG version is KEGG_build_2020-12-23.\n",
    "\n",
    "Kaiju Taxonomy calls:\n",
    "\n",
    "Each of these adds a new layer of information to your dataset, so might be very interesting to explore."
   ]
  },
  {
   "cell_type": "code",
   "execution_count": null,
   "id": "1383899b-611f-4db2-a416-bb4801572adc",
   "metadata": {},
   "outputs": [],
   "source": [
    "#!/bin/bash\n",
    "#SBATCH -c 24  # Number of Cores per Task\n",
    "#SBATCH --mem=50G  # Requested Memory\n",
    "#SBATCH -p cpu  # Partition\n",
    "#SBATCH -t 20:00:00  # Job time limit\n",
    "#SBATCH --mail-type=ALL\n",
    "#SBATCH -o //project/pi_sarah_gignouxwolfsohn_uml_edu/brooke/bash_scripts/slurm-%j.out  # %j = job ID\n",
    "\n",
    "module load miniconda/22.11.1-1\n",
    "conda activate anvio-7.1\n",
    "\n",
    "#Contig database from assembled genomes. stores information related to your sequences: positions of open reading frames, k-mer frequencies for each contig, functional and taxonomic annotation of genes, etc.\n",
    "#set parameters:\n",
    "SAMPLENAME=mcav\n",
    "CONTIGPATH=/project/pi_sarah_gignouxwolfsohn_uml_edu/brooke/results/mcav_assembly3\n",
    "CONTIGFILE=mcav.contigs-fixed.fa\n",
    "\n",
    "#generate the contigs database:\n",
    "#default k-mer frequency is 4\n",
    "anvi-gen-contigs-database -f $CONTIGPATH/$CONTIGFILE --project-name $SAMPLENAME -o ./working/$SAMPLENAME.contigs.db  \n",
    "\n",
    "#integrate HMMs into the database:\n",
    "anvi-run-hmms -c ./working/$SAMPLENAME.contigs.db --num-threads 6\n",
    "\n",
    "#this runs NCBI COGs against your contigs.db, integrating gene functions.\n",
    "anvi-run-ncbi-cogs -c ./working/$SAMPLENAME.contigs.db \n",
    "\n",
    "#ADD KEGG-KOFAM\n",
    "anvi-run-kegg-kofams -c ./working/$SAMPLENAME.contigs.db \\\n",
    "                     -T 4 #these are the threads that Anvi'O is allowed to use\n",
    "#ADD CONTIG STATS\n",
    "anvi-display-contigs-stats ./working/$SAMPLENAME.contigs.db --report-as-text --as-markdown -o ./results/anvio_stats\n",
    "\n",
    "#generates contig database from merged, fixed contig fasta file created in previous step..need for downstream analysis\n",
    "#JOB ID: 13297970"
   ]
  }
 ],
 "metadata": {
  "kernelspec": {
   "display_name": "Python 3 (ipykernel)",
   "language": "python",
   "name": "python3"
  },
  "language_info": {
   "codemirror_mode": {
    "name": "ipython",
    "version": 3
   },
   "file_extension": ".py",
   "mimetype": "text/x-python",
   "name": "python",
   "nbconvert_exporter": "python",
   "pygments_lexer": "ipython3",
   "version": "3.11.0"
  }
 },
 "nbformat": 4,
 "nbformat_minor": 5
}
