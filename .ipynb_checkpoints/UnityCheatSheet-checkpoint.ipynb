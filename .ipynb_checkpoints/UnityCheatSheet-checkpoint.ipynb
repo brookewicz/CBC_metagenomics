{
 "cells": [
  {
   "cell_type": "code",
   "execution_count": null,
   "id": "ae49880b-d152-472b-8a85-6c27b5e84f23",
   "metadata": {},
   "outputs": [],
   "source": [
    "#Unity Codes\n",
    "srun -p gpu --pty bash\n",
    "#interactive job\n",
    "\n",
    "sacct -j <JOBID>\n",
    "seff <JOBID>\n",
    "#gives updates on job statuses\n",
    "\n",
    "module avail <pkg>\n",
    "#shows available packages matching <pkg> name \n",
    "module load <pkg>\n",
    "#loads <pkg>"
   ]
  }
 ],
 "metadata": {
  "kernelspec": {
   "display_name": "Python 3 (ipykernel)",
   "language": "python",
   "name": "python3"
  },
  "language_info": {
   "codemirror_mode": {
    "name": "ipython",
    "version": 3
   },
   "file_extension": ".py",
   "mimetype": "text/x-python",
   "name": "python",
   "nbconvert_exporter": "python",
   "pygments_lexer": "ipython3",
   "version": "3.11.0"
  }
 },
 "nbformat": 4,
 "nbformat_minor": 5
}
