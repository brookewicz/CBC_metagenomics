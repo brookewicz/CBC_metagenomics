{
 "cells": [
  {
   "cell_type": "code",
   "execution_count": null,
   "id": "f75e5450",
   "metadata": {},
   "outputs": [],
   "source": [
    "module load miniconda/22.11.1-1"
   ]
  },
  {
   "cell_type": "code",
   "execution_count": null,
   "id": "7a7f31b5",
   "metadata": {},
   "outputs": [],
   "source": [
    "conda create -n assembly\n",
    "#dir=/home/brooke_sienkiewicz_student_uml_edu/.conda/envs/assembly"
   ]
  },
  {
   "cell_type": "code",
   "execution_count": null,
   "id": "54f855c4",
   "metadata": {},
   "outputs": [],
   "source": [
    "#conda info --env\n",
    "##lists all ur conda envs \n",
    "conda activate assembly"
   ]
  },
  {
   "cell_type": "code",
   "execution_count": null,
   "id": "68e28340-4982-45d5-ac35-1ca32cdac04e",
   "metadata": {},
   "outputs": [],
   "source": [
    "#installation - just do the first time upon creating assembly env\n",
    "conda install -c bioconda megahit\n",
    "conda install -c bioconda quast python=2.7"
   ]
  },
  {
   "cell_type": "code",
   "execution_count": null,
   "id": "adcc789b",
   "metadata": {},
   "outputs": [],
   "source": [
    "#set up variables\n",
    "READSPATH=/project/pi_sarah_gignouxwolfsohn_uml_edu/brooke/trimmed/\n",
    "SAMPLENAME=mcav\n",
    "OUTDIR=\"$SAMPLENAME\"_assembly"
   ]
  },
  {
   "cell_type": "code",
   "execution_count": null,
   "id": "305b863f",
   "metadata": {},
   "outputs": [],
   "source": [
    "#concatenate all forward reads to one fastq file\n",
    "cat \"$READSPATH\"/*_R1_001_val_1*.fq > \"$READSPATH\"/\"$SAMPLENAME\"_reads_R1_ALL.fastq"
   ]
  },
  {
   "cell_type": "code",
   "execution_count": null,
   "id": "e65cd26d",
   "metadata": {},
   "outputs": [],
   "source": [
    "#concatenate all reverse reads to one fastq file\n",
    "cat \"$READSPATH\"/*_R2_001_val_2*.fq > \"$READSPATH\"/\"$SAMPLENAME\"_reads_R2_ALL.fastq"
   ]
  },
  {
   "cell_type": "code",
   "execution_count": null,
   "id": "5cd29d27",
   "metadata": {},
   "outputs": [],
   "source": [
    "#activate sbatch job file in unity (job file = next code cell)\n",
    "sbatch batch_assembly"
   ]
  },
  {
   "cell_type": "markdown",
   "id": "20751f43-626d-418c-ae3b-4c188ff39ddd",
   "metadata": {},
   "source": [
    "**Megahit**\n",
    "https://www.metagenomics.wiki/tools/assembly/megahit\n",
    "- de novo assembly (w/o reference genome)\n",
    "- aligns/assembles short reads together to reconstruct one 'metagenome'\n",
    "- assembled contigs are stored in fasta file"
   ]
  },
  {
   "cell_type": "markdown",
   "id": "39f3a842-6ae1-4d8f-951f-3df2a9917892",
   "metadata": {},
   "source": [
    "**Below is final contig assembly files...had to add in missing sample**"
   ]
  },
  {
   "cell_type": "code",
   "execution_count": null,
   "id": "23869cf6-3b23-4e09-829c-e7c622ed3665",
   "metadata": {},
   "outputs": [],
   "source": [
    "cat \"$READSPATH\"/T3_1_2022_MCAV_R1_001_val_1.fq \"$READSPATH\"/mcav_reads_R1_ALL.fastq > /project/pi_sarah_gignouxwolfsohn_uml_edu/brooke/working/\"$SAMPLENAME\"_reads_R1_ALL.fastq \\\n",
    "cat \"$READSPATH\"/T3_1_2022_MCAV_R2_001_val_2.fq \"$READSPATH\"/mcav_reads_R2_ALL.fastq > /project/pi_sarah_gignouxwolfsohn_uml_edu/brooke/working/\"$SAMPLENAME\"_reads_R2_ALL.fastq\n",
    "#adding missing sample\n",
    "##mcav_reads_R1_ALL.fastq & (R2) in ../brooke/working include sample that was missing (T3_1_2022)\n",
    "##mcav_reads_R1_ALL.fastq & (R2) in ../brooke/trimmed & results in ../brooke/results/mcav_assembly are missing the (T3_1_2022) sample"
   ]
  },
  {
   "cell_type": "code",
   "execution_count": null,
   "id": "169dddb5-8b1f-4f42-bf94-ffa5d19a8197",
   "metadata": {},
   "outputs": [],
   "source": [
    "#!/bin/bash\n",
    "#SBATCH -c 24  # Number of Cores per Task\n",
    "#SBATCH --mem=180G  # Requested Memory\n",
    "#SBATCH -p cpu-long  # Partition\n",
    "#SBATCH -t 56:00:00  # Job time limit\n",
    "#SBATCH --mail-type=ALL\n",
    "#SBATCH -o /project/pi_sarah_gignouxwolfsohn_uml_edu/brooke/bash_scripts/slurm-%j.out  # %j = job ID\n",
    "\n",
    "module load miniconda/22.11.1-1\n",
    "conda activate assembly\n",
    "\n",
    "SAMPLENAME=mcav\n",
    "OUTDIR=\"$SAMPLENAME\"_assembly3\n",
    "READSPATH=/project/pi_sarah_gignouxwolfsohn_uml_edu/brooke/working\n",
    "\n",
    "megahit --presets meta-large \\\n",
    "-1 \"$READSPATH\"/\"$SAMPLENAME\"_reads_R1_ALL.fastq \\\n",
    "-2 \"$READSPATH\"/\"$SAMPLENAME\"_reads_R2_ALL.fastq \\\n",
    "--keep-tmp-files \\\n",
    "-o /project/pi_sarah_gignouxwolfsohn_uml_edu/brooke/results/$OUTDIR --out-prefix $SAMPLENAME \\\n",
    "#file: ~/working/batch_assembly3\n",
    "#JOB ID:9455281"
   ]
  },
  {
   "cell_type": "markdown",
   "id": "949f9385",
   "metadata": {},
   "source": [
    "Total time elapsed: 46 hrs \n",
    "looks like 190 GB is enough... and 24 CPU - 90% efficiency on last part of run "
   ]
  }
 ],
 "metadata": {
  "kernelspec": {
   "display_name": "Python 3 (ipykernel)",
   "language": "python",
   "name": "python3"
  },
  "language_info": {
   "codemirror_mode": {
    "name": "ipython",
    "version": 3
   },
   "file_extension": ".py",
   "mimetype": "text/x-python",
   "name": "python",
   "nbconvert_exporter": "python",
   "pygments_lexer": "ipython3",
   "version": "3.11.0"
  }
 },
 "nbformat": 4,
 "nbformat_minor": 5
}
