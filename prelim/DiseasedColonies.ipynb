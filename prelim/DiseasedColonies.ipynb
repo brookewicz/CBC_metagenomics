{
 "cells": [
  {
   "cell_type": "code",
   "execution_count": 1,
   "id": "ba5d1b46-b717-4755-b967-6ba9cc03c57d",
   "metadata": {},
   "outputs": [
    {
     "name": "stderr",
     "output_type": "stream",
     "text": [
      "── \u001b[1mAttaching core tidyverse packages\u001b[22m ──────────────────────── tidyverse 2.0.0 ──\n",
      "\u001b[32m✔\u001b[39m \u001b[34mdplyr    \u001b[39m 1.1.4     \u001b[32m✔\u001b[39m \u001b[34mreadr    \u001b[39m 2.1.4\n",
      "\u001b[32m✔\u001b[39m \u001b[34mforcats  \u001b[39m 1.0.0     \u001b[32m✔\u001b[39m \u001b[34mstringr  \u001b[39m 1.5.1\n",
      "\u001b[32m✔\u001b[39m \u001b[34mggplot2  \u001b[39m 3.4.4     \u001b[32m✔\u001b[39m \u001b[34mtibble   \u001b[39m 3.2.1\n",
      "\u001b[32m✔\u001b[39m \u001b[34mlubridate\u001b[39m 1.9.3     \u001b[32m✔\u001b[39m \u001b[34mtidyr    \u001b[39m 1.3.0\n",
      "\u001b[32m✔\u001b[39m \u001b[34mpurrr    \u001b[39m 1.0.2     \n",
      "── \u001b[1mConflicts\u001b[22m ────────────────────────────────────────── tidyverse_conflicts() ──\n",
      "\u001b[31m✖\u001b[39m \u001b[34mdplyr\u001b[39m::\u001b[32mfilter()\u001b[39m masks \u001b[34mstats\u001b[39m::filter()\n",
      "\u001b[31m✖\u001b[39m \u001b[34mdplyr\u001b[39m::\u001b[32mlag()\u001b[39m    masks \u001b[34mstats\u001b[39m::lag()\n",
      "\u001b[36mℹ\u001b[39m Use the conflicted package (\u001b[3m\u001b[34m<http://conflicted.r-lib.org/>\u001b[39m\u001b[23m) to force all conflicts to become errors\n",
      "Loading required package: permute\n",
      "\n",
      "Loading required package: lattice\n",
      "\n",
      "This is vegan 2.6-5\n",
      "\n"
     ]
    }
   ],
   "source": [
    "library(tidyverse)\n",
    "library(vegan)\n",
    "library(phyloseq)\n",
    "library(ggplot2)"
   ]
  },
  {
   "cell_type": "code",
   "execution_count": 2,
   "id": "2076ca64-d230-4916-9ff0-5c87c18e695b",
   "metadata": {},
   "outputs": [],
   "source": [
    "setwd('/project/pi_sarah_gignouxwolfsohn_uml_edu/brooke/metadata')"
   ]
  },
  {
   "cell_type": "code",
   "execution_count": 3,
   "id": "da5f83a0-0fe9-43e3-8648-881c1b447402",
   "metadata": {},
   "outputs": [
    {
     "data": {
      "text/html": [
       "'/project/pi_sarah_gignouxwolfsohn_uml_edu/brooke/metadata'"
      ],
      "text/latex": [
       "'/project/pi\\_sarah\\_gignouxwolfsohn\\_uml\\_edu/brooke/metadata'"
      ],
      "text/markdown": [
       "'/project/pi_sarah_gignouxwolfsohn_uml_edu/brooke/metadata'"
      ],
      "text/plain": [
       "[1] \"/project/pi_sarah_gignouxwolfsohn_uml_edu/brooke/metadata\""
      ]
     },
     "metadata": {},
     "output_type": "display_data"
    }
   ],
   "source": [
    "getwd()"
   ]
  },
  {
   "cell_type": "code",
   "execution_count": 4,
   "id": "1c974118-a3b6-4b7f-89ca-622bfd789035",
   "metadata": {},
   "outputs": [],
   "source": [
    "colony_data <- read.csv('CBC_ColonyData.csv')"
   ]
  },
  {
   "cell_type": "code",
   "execution_count": 5,
   "id": "e62179b1-4e08-446e-ba51-adfad6bc983a",
   "metadata": {},
   "outputs": [
    {
     "data": {
      "text/html": [
       "<table class=\"dataframe\">\n",
       "<caption>A data.frame: 6 × 17</caption>\n",
       "<thead>\n",
       "\t<tr><th></th><th scope=col>X</th><th scope=col>Date_InitialTag</th><th scope=col>Transect</th><th scope=col>TransectNum</th><th scope=col>OldTagNuim</th><th scope=col>NewTagNum</th><th scope=col>Species</th><th scope=col>Meter</th><th scope=col>Meters_90</th><th scope=col>Direction</th><th scope=col>Size_Class</th><th scope=col>Notes_June_2019</th><th scope=col>MaxDiameter</th><th scope=col>Height</th><th scope=col>Date_DocumentedDisease</th><th scope=col>Date_DocumentedMortality</th><th scope=col>Notes_May2022</th></tr>\n",
       "\t<tr><th></th><th scope=col>&lt;int&gt;</th><th scope=col>&lt;chr&gt;</th><th scope=col>&lt;chr&gt;</th><th scope=col>&lt;int&gt;</th><th scope=col>&lt;chr&gt;</th><th scope=col>&lt;chr&gt;</th><th scope=col>&lt;chr&gt;</th><th scope=col>&lt;dbl&gt;</th><th scope=col>&lt;dbl&gt;</th><th scope=col>&lt;chr&gt;</th><th scope=col>&lt;int&gt;</th><th scope=col>&lt;chr&gt;</th><th scope=col>&lt;int&gt;</th><th scope=col>&lt;int&gt;</th><th scope=col>&lt;chr&gt;</th><th scope=col>&lt;chr&gt;</th><th scope=col>&lt;chr&gt;</th></tr>\n",
       "</thead>\n",
       "<tbody>\n",
       "\t<tr><th scope=row>1</th><td> 2</td><td>6/21/19 </td><td>CBC30N</td><td>1</td><td>349</td><td>1</td><td>SSID</td><td>1.5</td><td>0.50</td><td>right</td><td> 5</td><td>                                    </td><td>45</td><td>24</td><td>5/21/22</td><td>Diseased</td><td>NA</td></tr>\n",
       "\t<tr><th scope=row>2</th><td> 1</td><td>6/21/19 </td><td>CBC30N</td><td>1</td><td>334</td><td>2</td><td>PAST</td><td>1.4</td><td>0.10</td><td>left </td><td> 4</td><td>                                    </td><td>33</td><td> 8</td><td>Healthy</td><td>Healthy </td><td>NA</td></tr>\n",
       "\t<tr><th scope=row>3</th><td> 5</td><td>6/21/19 </td><td>CBC30N</td><td>1</td><td>346</td><td>3</td><td>SSID</td><td>6.3</td><td>0.80</td><td>right</td><td> 5</td><td>                                    </td><td>53</td><td>30</td><td>5/21/22</td><td>Diseased</td><td>NA</td></tr>\n",
       "\t<tr><th scope=row>4</th><td>25</td><td>10/15/19</td><td>CBC30N</td><td>1</td><td>407</td><td>4</td><td>PSTR</td><td>6.5</td><td>0.50</td><td>right</td><td> 3</td><td>                                    </td><td>44</td><td>39</td><td>5/21/22</td><td>12/2/22 </td><td>NA</td></tr>\n",
       "\t<tr><th scope=row>5</th><td>23</td><td>6/24/19 </td><td>CBC30N</td><td>1</td><td>394</td><td>5</td><td>SSID</td><td>4.3</td><td>1.20</td><td>left </td><td> 5</td><td>                                    </td><td>65</td><td>27</td><td>5/21/22</td><td>Diseased</td><td>NA</td></tr>\n",
       "\t<tr><th scope=row>6</th><td>27</td><td>10/15/19</td><td>CBC30N</td><td>1</td><td>413</td><td>6</td><td>PSTR</td><td>8.3</td><td>1.75</td><td>left </td><td>NA</td><td>mucus_sample_taken_adjacent_to_punch</td><td>35</td><td>38</td><td>12/2/22</td><td>9/25/23 </td><td>NA</td></tr>\n",
       "</tbody>\n",
       "</table>\n"
      ],
      "text/latex": [
       "A data.frame: 6 × 17\n",
       "\\begin{tabular}{r|lllllllllllllllll}\n",
       "  & X & Date\\_InitialTag & Transect & TransectNum & OldTagNuim & NewTagNum & Species & Meter & Meters\\_90 & Direction & Size\\_Class & Notes\\_June\\_2019 & MaxDiameter & Height & Date\\_DocumentedDisease & Date\\_DocumentedMortality & Notes\\_May2022\\\\\n",
       "  & <int> & <chr> & <chr> & <int> & <chr> & <chr> & <chr> & <dbl> & <dbl> & <chr> & <int> & <chr> & <int> & <int> & <chr> & <chr> & <chr>\\\\\n",
       "\\hline\n",
       "\t1 &  2 & 6/21/19  & CBC30N & 1 & 349 & 1 & SSID & 1.5 & 0.50 & right &  5 &                                      & 45 & 24 & 5/21/22 & Diseased & NA\\\\\n",
       "\t2 &  1 & 6/21/19  & CBC30N & 1 & 334 & 2 & PAST & 1.4 & 0.10 & left  &  4 &                                      & 33 &  8 & Healthy & Healthy  & NA\\\\\n",
       "\t3 &  5 & 6/21/19  & CBC30N & 1 & 346 & 3 & SSID & 6.3 & 0.80 & right &  5 &                                      & 53 & 30 & 5/21/22 & Diseased & NA\\\\\n",
       "\t4 & 25 & 10/15/19 & CBC30N & 1 & 407 & 4 & PSTR & 6.5 & 0.50 & right &  3 &                                      & 44 & 39 & 5/21/22 & 12/2/22  & NA\\\\\n",
       "\t5 & 23 & 6/24/19  & CBC30N & 1 & 394 & 5 & SSID & 4.3 & 1.20 & left  &  5 &                                      & 65 & 27 & 5/21/22 & Diseased & NA\\\\\n",
       "\t6 & 27 & 10/15/19 & CBC30N & 1 & 413 & 6 & PSTR & 8.3 & 1.75 & left  & NA & mucus\\_sample\\_taken\\_adjacent\\_to\\_punch & 35 & 38 & 12/2/22 & 9/25/23  & NA\\\\\n",
       "\\end{tabular}\n"
      ],
      "text/markdown": [
       "\n",
       "A data.frame: 6 × 17\n",
       "\n",
       "| <!--/--> | X &lt;int&gt; | Date_InitialTag &lt;chr&gt; | Transect &lt;chr&gt; | TransectNum &lt;int&gt; | OldTagNuim &lt;chr&gt; | NewTagNum &lt;chr&gt; | Species &lt;chr&gt; | Meter &lt;dbl&gt; | Meters_90 &lt;dbl&gt; | Direction &lt;chr&gt; | Size_Class &lt;int&gt; | Notes_June_2019 &lt;chr&gt; | MaxDiameter &lt;int&gt; | Height &lt;int&gt; | Date_DocumentedDisease &lt;chr&gt; | Date_DocumentedMortality &lt;chr&gt; | Notes_May2022 &lt;chr&gt; |\n",
       "|---|---|---|---|---|---|---|---|---|---|---|---|---|---|---|---|---|---|\n",
       "| 1 |  2 | 6/21/19  | CBC30N | 1 | 349 | 1 | SSID | 1.5 | 0.50 | right |  5 | <!----> | 45 | 24 | 5/21/22 | Diseased | NA |\n",
       "| 2 |  1 | 6/21/19  | CBC30N | 1 | 334 | 2 | PAST | 1.4 | 0.10 | left  |  4 | <!----> | 33 |  8 | Healthy | Healthy  | NA |\n",
       "| 3 |  5 | 6/21/19  | CBC30N | 1 | 346 | 3 | SSID | 6.3 | 0.80 | right |  5 | <!----> | 53 | 30 | 5/21/22 | Diseased | NA |\n",
       "| 4 | 25 | 10/15/19 | CBC30N | 1 | 407 | 4 | PSTR | 6.5 | 0.50 | right |  3 | <!----> | 44 | 39 | 5/21/22 | 12/2/22  | NA |\n",
       "| 5 | 23 | 6/24/19  | CBC30N | 1 | 394 | 5 | SSID | 4.3 | 1.20 | left  |  5 | <!----> | 65 | 27 | 5/21/22 | Diseased | NA |\n",
       "| 6 | 27 | 10/15/19 | CBC30N | 1 | 413 | 6 | PSTR | 8.3 | 1.75 | left  | NA | mucus_sample_taken_adjacent_to_punch | 35 | 38 | 12/2/22 | 9/25/23  | NA |\n",
       "\n"
      ],
      "text/plain": [
       "  X  Date_InitialTag Transect TransectNum OldTagNuim NewTagNum Species Meter\n",
       "1  2 6/21/19         CBC30N   1           349        1         SSID    1.5  \n",
       "2  1 6/21/19         CBC30N   1           334        2         PAST    1.4  \n",
       "3  5 6/21/19         CBC30N   1           346        3         SSID    6.3  \n",
       "4 25 10/15/19        CBC30N   1           407        4         PSTR    6.5  \n",
       "5 23 6/24/19         CBC30N   1           394        5         SSID    4.3  \n",
       "6 27 10/15/19        CBC30N   1           413        6         PSTR    8.3  \n",
       "  Meters_90 Direction Size_Class Notes_June_2019                     \n",
       "1 0.50      right      5                                             \n",
       "2 0.10      left       4                                             \n",
       "3 0.80      right      5                                             \n",
       "4 0.50      right      3                                             \n",
       "5 1.20      left       5                                             \n",
       "6 1.75      left      NA         mucus_sample_taken_adjacent_to_punch\n",
       "  MaxDiameter Height Date_DocumentedDisease Date_DocumentedMortality\n",
       "1 45          24     5/21/22                Diseased                \n",
       "2 33           8     Healthy                Healthy                 \n",
       "3 53          30     5/21/22                Diseased                \n",
       "4 44          39     5/21/22                12/2/22                 \n",
       "5 65          27     5/21/22                Diseased                \n",
       "6 35          38     12/2/22                9/25/23                 \n",
       "  Notes_May2022\n",
       "1 NA           \n",
       "2 NA           \n",
       "3 NA           \n",
       "4 NA           \n",
       "5 NA           \n",
       "6 NA           "
      ]
     },
     "metadata": {},
     "output_type": "display_data"
    }
   ],
   "source": [
    "head(colony_data)"
   ]
  },
  {
   "cell_type": "code",
   "execution_count": 32,
   "id": "365642d4-c574-424b-8089-3305ec883117",
   "metadata": {},
   "outputs": [],
   "source": [
    "# extract year from Date_InitialTag and add it to new column\n",
    "colony_data$Year_tagged <- format(as.Date(colony_data$Date_InitialTag, format=\"%m/%d/%y\"), \"%Y\")"
   ]
  },
  {
   "cell_type": "code",
   "execution_count": null,
   "id": "56d9cd15-b9f3-4ace-b875-038a4294f7c7",
   "metadata": {},
   "outputs": [],
   "source": [
    "# Goal: # of colonys that died/got diseased across the years\n",
    "# x-axis year\n",
    "# y-axis # of colonies\n",
    "# stacked bar colors: healthy, diseased, dead"
   ]
  },
  {
   "cell_type": "code",
   "execution_count": null,
   "id": "453d06e8-4d3f-4a0e-8fbe-5a23f6e36a8a",
   "metadata": {},
   "outputs": [],
   "source": [
    "# 1st: create columns for each year \n",
    "# pull info from diseaseddate\n",
    "# if healthy, write healthy in each column\n",
    "# if date, write \"diseased\" in corresponding column, and \"healthy\" in previous years columns\n",
    "# repeat for mortality "
   ]
  },
  {
   "cell_type": "code",
   "execution_count": null,
   "id": "7bf107e1-e6f9-438e-b91a-a5286cbaf261",
   "metadata": {},
   "outputs": [],
   "source": [
    "colony_data$2024HealthStatus = \n",
    "ifelse(colony_data$Date_DocumentedDisease"
   ]
  },
  {
   "cell_type": "code",
   "execution_count": null,
   "id": "e8d101e3-47b8-41ef-aada-7e353c2845a5",
   "metadata": {},
   "outputs": [],
   "source": [
    "# remember to only include colonies initally tagged in 2019 to keep numbers consistent"
   ]
  },
  {
   "cell_type": "code",
   "execution_count": 27,
   "id": "40e0ae4e-b8d4-4e5a-a805-7605bb066da8",
   "metadata": {},
   "outputs": [],
   "source": [
    "colony_data <- colony_data %>%\n",
    "  mutate(\n",
    "    Date_DocumentedDisease = ifelse(Date_DocumentedDisease == \"Healthy\", NA, as.Date(Date_DocumentedDisease, format=\"%m/%d/%y\")),\n",
    "    Date_DocumentedMortality = ifelse(Date_DocumentedMortality == \"Healthy\" | Date_DocumentedMortality == \"Diseased\", NA, as.Date(Date_DocumentedMortality, format=\"%m/%d/%y\")),\n",
    "    HealthStatus = case_when(\n",
    "      is.na(Date_DocumentedDisease) & is.na(Date_DocumentedMortality) ~ \"Healthy\",\n",
    "      !is.na(Date_DocumentedDisease) ~ \"Diseased\",\n",
    "      !is.na(Date_DocumentedMortality) ~ \"Dead\"\n",
    "    )\n",
    "  )"
   ]
  },
  {
   "cell_type": "code",
   "execution_count": 29,
   "id": "00877415-7868-427d-bab9-bb253a9e873f",
   "metadata": {},
   "outputs": [
    {
     "data": {
      "image/png": "[encoded data removed]",
      "text/plain": [
       "plot without title"
      ]
     },
     "metadata": {
      "image/png": {
       "height": 420,
       "width": 420
      }
     },
     "output_type": "display_data"
    }
   ],
   "source": [
    "ggplot(colony_data, aes(x = Year, fill = HealthStatus)) +\n",
    "  geom_bar(position = \"stack\") +\n",
    "  labs(title = \"Colony Health Over Time\",\n",
    "       x = \"Year\",\n",
    "       y = \"Number of Colonies\") +\n",
    "  scale_fill_manual(values = c(\"Healthy\" = \"green\", \"Diseased\" = \"yellow\", \"Dead\" = \"red\")) +\n",
    "  theme_minimal()"
   ]
  }
 ],
 "metadata": {
  "kernelspec": {
   "display_name": "R [conda env:.conda-r_env]",
   "language": "R",
   "name": "conda-env-.conda-r_env-r"
  },
  "language_info": {
   "codemirror_mode": "r",
   "file_extension": ".r",
   "mimetype": "text/x-r-source",
   "name": "R",
   "pygments_lexer": "r",
   "version": "4.3.2"
  }
 },
 "nbformat": 4,
 "nbformat_minor": 5
}
