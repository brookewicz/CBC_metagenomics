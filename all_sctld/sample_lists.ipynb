{
 "cells": [
  {
   "cell_type": "markdown",
   "id": "84fe9f69-4ca6-4c81-aecf-64e857f5cadc",
   "metadata": {
    "tags": []
   },
   "source": [
    "# Sample Lists\n",
    "- checking raw seqs \n",
    "- creating different sample lists that fit different conditions to use in assembly set\n",
    "- purpose of this is to try assembling with similar sample types to get better results "
   ]
  },
  {
   "cell_type": "code",
   "execution_count": 113,
   "id": "06f71a27-066f-458b-9600-1a0b1cbbe9de",
   "metadata": {},
   "outputs": [],
   "source": [
    "import numpy as np\n",
    "import pandas as pd\n",
    "import os\n",
    "import re"
   ]
  },
  {
   "cell_type": "code",
   "execution_count": 114,
   "id": "19383e93-a66c-4e38-8173-a7753a9cf00c",
   "metadata": {},
   "outputs": [],
   "source": [
    "os.chdir('/scratch/workspace/brooke_sienkiewicz_student_uml_edu-brooke-belseq/metadata')"
   ]
  },
  {
   "cell_type": "code",
   "execution_count": 115,
   "id": "c3a61313-a6fa-4528-9c8c-72b67dfd0a48",
   "metadata": {},
   "outputs": [
    {
     "name": "stdout",
     "output_type": "stream",
     "text": [
      "GW_Genohub_libraryprepped_submission_5799597.xlsx\n",
      "GW_Genohub_submission_5799597.xlsx\n",
      "Metagenomics_Tracker_Belize.csv\n"
     ]
    }
   ],
   "source": [
    "ls"
   ]
  },
  {
   "cell_type": "code",
   "execution_count": 116,
   "id": "33fd8ea5-bc8f-44ac-b0f7-dedf11c316aa",
   "metadata": {},
   "outputs": [],
   "source": [
    "sample_data=pd.read_csv('Metagenomics_Tracker_Belize.csv', index_col=0)"
   ]
  },
  {
   "cell_type": "code",
   "execution_count": 117,
   "id": "c9514b7a-53cb-44d3-ac95-c206c34b301b",
   "metadata": {},
   "outputs": [
    {
     "data": {
      "text/html": [
       "<div>\n",
       "<style scoped>\n",
       "    .dataframe tbody tr th:only-of-type {\n",
       "        vertical-align: middle;\n",
       "    }\n",
       "\n",
       "    .dataframe tbody tr th {\n",
       "        vertical-align: top;\n",
       "    }\n",
       "\n",
       "    .dataframe thead th {\n",
       "        text-align: right;\n",
       "    }\n",
       "</style>\n",
       "<table border=\"1\" class=\"dataframe\">\n",
       "  <thead>\n",
       "    <tr style=\"text-align: right;\">\n",
       "      <th></th>\n",
       "      <th>Health_Status</th>\n",
       "      <th>Starting_Weight</th>\n",
       "      <th>Date_Extracted</th>\n",
       "      <th>Raw_ng_ul</th>\n",
       "      <th>Date_Enriched</th>\n",
       "      <th>Microbe_ng_ul</th>\n",
       "      <th>Microbe_Location</th>\n",
       "      <th>Microbe_clean_date/n</th>\n",
       "      <th>Host_ng_ul</th>\n",
       "      <th>Host_Location</th>\n",
       "      <th>...</th>\n",
       "      <th>Notes</th>\n",
       "      <th>Seq_date</th>\n",
       "      <th>Host_Seq_date</th>\n",
       "      <th>Microbe_seq_file</th>\n",
       "      <th>Host_seq_file</th>\n",
       "      <th>Seq_Location (in Unity)</th>\n",
       "      <th>Sample_physical_location</th>\n",
       "      <th>Extraction_physical_location</th>\n",
       "      <th>Location_notes</th>\n",
       "      <th>Sample_Code = datecollected_tagnumber_transect_samplenumber_species</th>\n",
       "    </tr>\n",
       "  </thead>\n",
       "  <tbody>\n",
       "    <tr>\n",
       "      <th>052022_BEL_CBC_T2_45_PSTR</th>\n",
       "      <td>Diseased_Margin</td>\n",
       "      <td>181</td>\n",
       "      <td>10_10_2023</td>\n",
       "      <td>22.8</td>\n",
       "      <td>10_17_2023</td>\n",
       "      <td>7.5</td>\n",
       "      <td>UML_NARWHAL_R2_B1</td>\n",
       "      <td>y</td>\n",
       "      <td>0.772</td>\n",
       "      <td>UML_NARWHAL_R6_B2</td>\n",
       "      <td>...</td>\n",
       "      <td>NaN</td>\n",
       "      <td>01_24; 10_19_23</td>\n",
       "      <td>NaN</td>\n",
       "      <td>052022_BEL_CBC_T2_45_PSTR</td>\n",
       "      <td>NaN</td>\n",
       "      <td>/project/pi_sarah_gignouxwolfsohn_uml_edu/Raw_...</td>\n",
       "      <td>NaN</td>\n",
       "      <td>UML_NARWHAL_R2_B3</td>\n",
       "      <td>NaN</td>\n",
       "      <td>NaN</td>\n",
       "    </tr>\n",
       "    <tr>\n",
       "      <th>052022_BEL_CBC_T2_46_PSTR</th>\n",
       "      <td>Diseased_Tissue</td>\n",
       "      <td>162</td>\n",
       "      <td>10_10_2023</td>\n",
       "      <td>63.9</td>\n",
       "      <td>10_17_2023</td>\n",
       "      <td>18.5</td>\n",
       "      <td>UML_NARWHAL_R2_B1</td>\n",
       "      <td>y</td>\n",
       "      <td>too low</td>\n",
       "      <td>UML_NARWHAL_R6_B2</td>\n",
       "      <td>...</td>\n",
       "      <td>NaN</td>\n",
       "      <td>01_24; 10_19_23</td>\n",
       "      <td>NaN</td>\n",
       "      <td>052022_BEL_CBC_T2_46_PSTR</td>\n",
       "      <td>NaN</td>\n",
       "      <td>/project/pi_sarah_gignouxwolfsohn_uml_edu/Raw_...</td>\n",
       "      <td>NaN</td>\n",
       "      <td>UML_NARWHAL_R2_B3</td>\n",
       "      <td>NaN</td>\n",
       "      <td>NaN</td>\n",
       "    </tr>\n",
       "    <tr>\n",
       "      <th>052022_BEL_CBC_T2_59_OFAV</th>\n",
       "      <td>Healthy</td>\n",
       "      <td>174</td>\n",
       "      <td>10_3_2023</td>\n",
       "      <td>73.7</td>\n",
       "      <td>10_16_2023</td>\n",
       "      <td>11.7</td>\n",
       "      <td>UML_NARWHAL_R2_B1</td>\n",
       "      <td>y</td>\n",
       "      <td>NaN</td>\n",
       "      <td>UML_NARWHAL_R6_B2</td>\n",
       "      <td>...</td>\n",
       "      <td>NaN</td>\n",
       "      <td>01_24; 10_19_23</td>\n",
       "      <td>NaN</td>\n",
       "      <td>052022_BEL_CBC_T2_59_OFAV</td>\n",
       "      <td>NaN</td>\n",
       "      <td>/project/pi_sarah_gignouxwolfsohn_uml_edu/Raw_...</td>\n",
       "      <td>NaN</td>\n",
       "      <td>UML_NARWHAL_R2_B3</td>\n",
       "      <td>NaN</td>\n",
       "      <td>NaN</td>\n",
       "    </tr>\n",
       "    <tr>\n",
       "      <th>042024_BEL_CBC_T1_925_PAST</th>\n",
       "      <td>Healthy</td>\n",
       "      <td>325.5</td>\n",
       "      <td>8_19_2024</td>\n",
       "      <td>5.46</td>\n",
       "      <td>9_28_2024</td>\n",
       "      <td>1.57</td>\n",
       "      <td>UML_NARWHAL_R6_B30</td>\n",
       "      <td>9_28_2024</td>\n",
       "      <td>0.212</td>\n",
       "      <td>UML_NARWHAL_R6_B31</td>\n",
       "      <td>...</td>\n",
       "      <td>NaN</td>\n",
       "      <td>NaN</td>\n",
       "      <td>NaN</td>\n",
       "      <td>NaN</td>\n",
       "      <td>NaN</td>\n",
       "      <td>NaN</td>\n",
       "      <td>UML_NARWHAL_R5_B24</td>\n",
       "      <td>UML_NARWHAL_R2_B29</td>\n",
       "      <td>AS - next to PAST 19</td>\n",
       "      <td>NaN</td>\n",
       "    </tr>\n",
       "    <tr>\n",
       "      <th>052022_BEL_CBC_T2_72_OFAV</th>\n",
       "      <td>Healthy</td>\n",
       "      <td>75</td>\n",
       "      <td>10_3_2023</td>\n",
       "      <td>47.6</td>\n",
       "      <td>10_11_23</td>\n",
       "      <td>3.96</td>\n",
       "      <td>UML_NARWHAL_R6_B1</td>\n",
       "      <td>10_12_23</td>\n",
       "      <td>0.522</td>\n",
       "      <td>UML_NARWHAL_R6_B2</td>\n",
       "      <td>...</td>\n",
       "      <td>NaN</td>\n",
       "      <td>01_24; 10_19_23</td>\n",
       "      <td>NaN</td>\n",
       "      <td>052022_BEL_CBC_T2_72_OFAV</td>\n",
       "      <td>NaN</td>\n",
       "      <td>/project/pi_sarah_gignouxwolfsohn_uml_edu/Raw_...</td>\n",
       "      <td>NaN</td>\n",
       "      <td>UML_NARWHAL_R2_B3</td>\n",
       "      <td>NaN</td>\n",
       "      <td>NaN</td>\n",
       "    </tr>\n",
       "  </tbody>\n",
       "</table>\n",
       "<p>5 rows × 23 columns</p>\n",
       "</div>"
      ],
      "text/plain": [
       "                              Health_Status Starting_Weight Date_Extracted  \\\n",
       "052022_BEL_CBC_T2_45_PSTR   Diseased_Margin             181     10_10_2023   \n",
       "052022_BEL_CBC_T2_46_PSTR   Diseased_Tissue             162     10_10_2023   \n",
       "052022_BEL_CBC_T2_59_OFAV           Healthy             174      10_3_2023   \n",
       "042024_BEL_CBC_T1_925_PAST         Healthy            325.5      8_19_2024   \n",
       "052022_BEL_CBC_T2_72_OFAV           Healthy              75      10_3_2023   \n",
       "\n",
       "                           Raw_ng_ul Date_Enriched Microbe_ng_ul  \\\n",
       "052022_BEL_CBC_T2_45_PSTR       22.8    10_17_2023           7.5   \n",
       "052022_BEL_CBC_T2_46_PSTR       63.9    10_17_2023          18.5   \n",
       "052022_BEL_CBC_T2_59_OFAV       73.7    10_16_2023          11.7   \n",
       "042024_BEL_CBC_T1_925_PAST      5.46     9_28_2024          1.57   \n",
       "052022_BEL_CBC_T2_72_OFAV       47.6      10_11_23          3.96   \n",
       "\n",
       "                              Microbe_Location Microbe_clean_date/n  \\\n",
       "052022_BEL_CBC_T2_45_PSTR    UML_NARWHAL_R2_B1                    y   \n",
       "052022_BEL_CBC_T2_46_PSTR    UML_NARWHAL_R2_B1                    y   \n",
       "052022_BEL_CBC_T2_59_OFAV    UML_NARWHAL_R2_B1                    y   \n",
       "042024_BEL_CBC_T1_925_PAST  UML_NARWHAL_R6_B30            9_28_2024   \n",
       "052022_BEL_CBC_T2_72_OFAV    UML_NARWHAL_R6_B1             10_12_23   \n",
       "\n",
       "                           Host_ng_ul       Host_Location  ... Notes  \\\n",
       "052022_BEL_CBC_T2_45_PSTR       0.772   UML_NARWHAL_R6_B2  ...   NaN   \n",
       "052022_BEL_CBC_T2_46_PSTR     too low   UML_NARWHAL_R6_B2  ...   NaN   \n",
       "052022_BEL_CBC_T2_59_OFAV         NaN   UML_NARWHAL_R6_B2  ...   NaN   \n",
       "042024_BEL_CBC_T1_925_PAST      0.212  UML_NARWHAL_R6_B31  ...   NaN   \n",
       "052022_BEL_CBC_T2_72_OFAV       0.522   UML_NARWHAL_R6_B2  ...   NaN   \n",
       "\n",
       "                                   Seq_date Host_Seq_date  \\\n",
       "052022_BEL_CBC_T2_45_PSTR   01_24; 10_19_23           NaN   \n",
       "052022_BEL_CBC_T2_46_PSTR   01_24; 10_19_23           NaN   \n",
       "052022_BEL_CBC_T2_59_OFAV   01_24; 10_19_23           NaN   \n",
       "042024_BEL_CBC_T1_925_PAST              NaN           NaN   \n",
       "052022_BEL_CBC_T2_72_OFAV   01_24; 10_19_23           NaN   \n",
       "\n",
       "                                     Microbe_seq_file Host_seq_file  \\\n",
       "052022_BEL_CBC_T2_45_PSTR   052022_BEL_CBC_T2_45_PSTR           NaN   \n",
       "052022_BEL_CBC_T2_46_PSTR   052022_BEL_CBC_T2_46_PSTR           NaN   \n",
       "052022_BEL_CBC_T2_59_OFAV   052022_BEL_CBC_T2_59_OFAV           NaN   \n",
       "042024_BEL_CBC_T1_925_PAST                        NaN           NaN   \n",
       "052022_BEL_CBC_T2_72_OFAV   052022_BEL_CBC_T2_72_OFAV           NaN   \n",
       "\n",
       "                                                      Seq_Location (in Unity)  \\\n",
       "052022_BEL_CBC_T2_45_PSTR   /project/pi_sarah_gignouxwolfsohn_uml_edu/Raw_...   \n",
       "052022_BEL_CBC_T2_46_PSTR   /project/pi_sarah_gignouxwolfsohn_uml_edu/Raw_...   \n",
       "052022_BEL_CBC_T2_59_OFAV   /project/pi_sarah_gignouxwolfsohn_uml_edu/Raw_...   \n",
       "042024_BEL_CBC_T1_925_PAST                                                NaN   \n",
       "052022_BEL_CBC_T2_72_OFAV   /project/pi_sarah_gignouxwolfsohn_uml_edu/Raw_...   \n",
       "\n",
       "                           Sample_physical_location  \\\n",
       "052022_BEL_CBC_T2_45_PSTR                       NaN   \n",
       "052022_BEL_CBC_T2_46_PSTR                       NaN   \n",
       "052022_BEL_CBC_T2_59_OFAV                       NaN   \n",
       "042024_BEL_CBC_T1_925_PAST       UML_NARWHAL_R5_B24   \n",
       "052022_BEL_CBC_T2_72_OFAV                       NaN   \n",
       "\n",
       "                           Extraction_physical_location        Location_notes  \\\n",
       "052022_BEL_CBC_T2_45_PSTR             UML_NARWHAL_R2_B3                   NaN   \n",
       "052022_BEL_CBC_T2_46_PSTR             UML_NARWHAL_R2_B3                   NaN   \n",
       "052022_BEL_CBC_T2_59_OFAV             UML_NARWHAL_R2_B3                   NaN   \n",
       "042024_BEL_CBC_T1_925_PAST           UML_NARWHAL_R2_B29  AS - next to PAST 19   \n",
       "052022_BEL_CBC_T2_72_OFAV             UML_NARWHAL_R2_B3                   NaN   \n",
       "\n",
       "                           Sample_Code = datecollected_tagnumber_transect_samplenumber_species  \n",
       "052022_BEL_CBC_T2_45_PSTR                                                 NaN                   \n",
       "052022_BEL_CBC_T2_46_PSTR                                                 NaN                   \n",
       "052022_BEL_CBC_T2_59_OFAV                                                 NaN                   \n",
       "042024_BEL_CBC_T1_925_PAST                                                NaN                   \n",
       "052022_BEL_CBC_T2_72_OFAV                                                 NaN                   \n",
       "\n",
       "[5 rows x 23 columns]"
      ]
     },
     "execution_count": 117,
     "metadata": {},
     "output_type": "execute_result"
    }
   ],
   "source": [
    "sample_data.head()"
   ]
  },
  {
   "cell_type": "code",
   "execution_count": 118,
   "id": "15972de2-70a0-42d6-bff0-417e5cea9091",
   "metadata": {},
   "outputs": [
    {
     "name": "stdout",
     "output_type": "stream",
     "text": [
      "052022_BEL_CBC_T2_45_PSTR      2022\n",
      "052022_BEL_CBC_T2_46_PSTR      2022\n",
      "052022_BEL_CBC_T2_59_OFAV      2022\n",
      "042024_BEL_CBC_T1_925_PAST     2024\n",
      "052022_BEL_CBC_T2_72_OFAV      2022\n",
      "                               ... \n",
      "082024_BEL_CBC_T3_1561_MCAV    2024\n",
      "082024_BEL_CBC_T3_1563_SSID    2024\n",
      "082024_BEL_CBC_T3_1564_PAST    2024\n",
      "052022_BEL_CBC_T3_16_SSID      2022\n",
      "092023_BEL_CBC_T1_175_PAST     2023\n",
      "Name: Year, Length: 524, dtype: object\n"
     ]
    }
   ],
   "source": [
    "# make a column for year \n",
    "\n",
    "# Extract year from the sample names\n",
    "def extract_year(sample_name):\n",
    "    return sample_name.split('_')[0][2:]\n",
    "\n",
    "# Create a new column 'Year' using the 'apply' function\n",
    "sample_data['Year'] = sample_data.index.to_series().apply(extract_year)\n",
    "\n",
    "# Print the updated DataFrame\n",
    "print(sample_data['Year'])"
   ]
  },
  {
   "cell_type": "code",
   "execution_count": 119,
   "id": "68e1c7af-dce2-4b79-9998-0ed5a52fe657",
   "metadata": {},
   "outputs": [
    {
     "name": "stdout",
     "output_type": "stream",
     "text": [
      "052022_BEL_CBC_T2_45_PSTR      PSTR\n",
      "052022_BEL_CBC_T2_46_PSTR      PSTR\n",
      "052022_BEL_CBC_T2_59_OFAV      OFAV\n",
      "042024_BEL_CBC_T1_925_PAST     PAST\n",
      "052022_BEL_CBC_T2_72_OFAV      OFAV\n",
      "                               ... \n",
      "082024_BEL_CBC_T3_1561_MCAV    MCAV\n",
      "082024_BEL_CBC_T3_1563_SSID    SSID\n",
      "082024_BEL_CBC_T3_1564_PAST    PAST\n",
      "052022_BEL_CBC_T3_16_SSID      SSID\n",
      "092023_BEL_CBC_T1_175_PAST     PAST\n",
      "Name: Species, Length: 524, dtype: object\n"
     ]
    }
   ],
   "source": [
    "# make column for species \n",
    "def extract_species(sample_name):\n",
    "    return sample_name.split('_')[-1]  # Extract last element after splitting by \"_\"\n",
    "\n",
    "sample_data['Species'] = sample_data.index.to_series().apply(extract_species)\n",
    "print(sample_data['Species'])"
   ]
  },
  {
   "cell_type": "code",
   "execution_count": 120,
   "id": "ea25b9cd-2e87-4346-9a3a-617b088713ec",
   "metadata": {},
   "outputs": [],
   "source": [
    "# remove unnecessary columns\n",
    "columns_to_drop = [\"Sample_Code = datecollected_tagnumber_transect_samplenumber_species\",\n",
    "                   'Date_Libprep','Host_Seq_date','Host_seq_file','Sample_physical_location','Extraction_physical_location','Location_notes']\n",
    "sample_data = sample_data.drop(columns=columns_to_drop)\n",
    "#print(sample_data.columns)"
   ]
  },
  {
   "cell_type": "markdown",
   "id": "6871cbf7-b25e-45b5-a1b0-78910549eca4",
   "metadata": {},
   "source": [
    "## samples sequenced in this run \n",
    "- make list of samples \n",
    "- make sure we have all seqs to match these samples \n",
    "- sequence date: nov 2024\n",
    "- received seqs back: 03/17/2025 "
   ]
  },
  {
   "cell_type": "code",
   "execution_count": 121,
   "id": "4dd6e6f4-097f-4fd7-98f3-ebc24f7611f6",
   "metadata": {},
   "outputs": [],
   "source": [
    "# replace na with 'no'\n",
    "sample_data['Seq_date']=sample_data['Seq_date'].fillna('no')\n",
    "samples24=sample_data.loc[sample_data['Seq_date'].str.contains('24')]"
   ]
  },
  {
   "cell_type": "code",
   "execution_count": 122,
   "id": "21af9595-a18a-432f-b688-164122252fc0",
   "metadata": {},
   "outputs": [],
   "source": [
    "# arrange by date and species\n",
    "samples24=samples24.sort_values(by=['Year','Species'])"
   ]
  },
  {
   "cell_type": "code",
   "execution_count": 123,
   "id": "59dd5583-4bc9-458d-996a-1899b3b60635",
   "metadata": {},
   "outputs": [],
   "source": [
    "# export list of samples sequenced\n",
    "samplelist24 = samples24.index.tolist()"
   ]
  },
  {
   "cell_type": "code",
   "execution_count": 124,
   "id": "83f85c52-6585-402b-bdc3-b4f0471ab113",
   "metadata": {},
   "outputs": [
    {
     "data": {
      "text/plain": [
       "['062019_BEL_CBC_T3_16_MCAV',\n",
       " '062019_BEL_CBC_T3_6_MCAV',\n",
       " '062019_BEL_CBC_T3_8_MCAV',\n",
       " '062019_BEL_CBC_T3_9_MCAV',\n",
       " '062019_BEL_CBC_T1_10_MMEA']"
      ]
     },
     "execution_count": 124,
     "metadata": {},
     "output_type": "execute_result"
    }
   ],
   "source": [
    "# view lines \n",
    "samplelist24[20:25]"
   ]
  },
  {
   "cell_type": "markdown",
   "id": "0f13917e-fcc6-46a3-bc7c-c68fa6a0b67b",
   "metadata": {},
   "source": [
    "### crosscheck seq files "
   ]
  },
  {
   "cell_type": "code",
   "execution_count": 125,
   "id": "6b990946-b66f-4ce5-a85c-2a52dd15e860",
   "metadata": {},
   "outputs": [],
   "source": [
    "### crosscheck genohub submission form \n",
    "# samplelist24 - from metagenomics tracker\n",
    "# genohublist24 - from genohub submission forms "
   ]
  },
  {
   "cell_type": "code",
   "execution_count": 126,
   "id": "318f6ae3-5b76-4114-8f65-f1c466759459",
   "metadata": {},
   "outputs": [
    {
     "name": "stdout",
     "output_type": "stream",
     "text": [
      "/scratch/workspace/brooke_sienkiewicz_student_uml_edu-brooke-belseq\n"
     ]
    }
   ],
   "source": [
    "cd .."
   ]
  },
  {
   "cell_type": "code",
   "execution_count": 127,
   "id": "6e983100-5fbe-4574-878b-b9756ac47eac",
   "metadata": {},
   "outputs": [
    {
     "name": "stdout",
     "output_type": "stream",
     "text": [
      "\u001b[0m\u001b[01;34m03172025\u001b[0m/  genohublist24.txt  md5checksum  slurm-aws-30186235.out\n",
      "aws        md5_checksums.txt  \u001b[01;34mmetadata\u001b[0m/    slurm-checksum-30446035.out\n"
     ]
    }
   ],
   "source": [
    "ls"
   ]
  },
  {
   "cell_type": "code",
   "execution_count": 128,
   "id": "a675f608-fb04-4aeb-904e-e9a9fd386154",
   "metadata": {},
   "outputs": [
    {
     "name": "stdout",
     "output_type": "stream",
     "text": [
      "['062019_BEL_CBC_T3_25_PAST', '122022_BEL_CBC_T1_133_PSTR', '122022_BEL_CBC_T2_116_PSTR', '122022_BEL_CBC_T4_35_PSTR', '122022_BEL_CBC_T2_99_PSTR', '122022_BEL_CBC_T1_123_OANN', '052022_BEL_CBC_T1_63_OFAV', '062019_BEL_CBC_T3_4_PAST', '062019_BEL_CBC_T1_10_MMEA', '062019_BEL_CBC_T1_14_MMEA', '062019_BEL_CBC_T2_12_MMEA', '062019_BEL_CBC_T2_13_MMEA', '052022_BEL_CBC_T1_39_MCAV', '052022_BEL_CBC_T1_54_MCAV', '052022_BEL_CBC_T1_62_MCAV', '052022_BEL_CBC_T2_12_MCAV', '052022_BEL_CBC_T2_4_MCAV', '052022_BEL_CBC_T2_56_MCAV', '122022_BEL_CBC_T1_151_MCAV', '122022_BEL_CBC_T2_86_MCAV', '122022_BEL_CBC_T2_88_MCAV', '122022_BEL_CBC_T2_92_MCAV', '122022_BEL_CBC_T2_95_MCAV', '122022_BEL_CBC_T3_119_MCAV', '122022_BEL_CBC_T3_128_MCAV', '122022_BEL_CBC_T3_142_MCAV', '122022_BEL_CBC_T3_155_MCAV', '122022_BEL_CBC_T4_3_MCAV', '062019_BEL_CBC_T2_14_MMEA', '062019_BEL_CBC_T2_15_MMEA', '122022_BEL_CBC_T4_1_OFAV', '122022_BEL_CBC_T3_133_MCAV', '122022_BEL_CBC_T4_14_MCAV', '122022_BEL_CBC_T4_5_MCAV', '052022_BEL_CBC_T3_54_PAST', '052022_BEL_CBC_T1_60_MCAV', '122022_BEL_CBC_T1_144_MCAV', '122022_BEL_CBC_T3_132_MCAV', '122022_BEL_CBC_T3_145_MCAV', '122022_BEL_CBC_T4_15_MCAV', '122022_BEL_CBC_T4_6_MCAV', '122022_BEL_CBC_T4_38_MCAV', '062019_BEL_CBC_T2_6_MMEA', '062019_BEL_CBC_T2_7_MMEA', '062019_BEL_CBC_T3_20_MMEA', '062019_BEL_CBC_T3_21_MMEA', '062019_BEL_CBC_T1_12_PAST', '062019_BEL_CBC_T1_18_PAST', '062019_BEL_CBC_T1_21_PAST', '062019_BEL_CBC_T2_2_PAST', '062019_BEL_CBC_T2_20_PAST', '062019_BEL_CBC_T2_22_PAST', '062019_BEL_CBC_T2_25_PAST', '062019_BEL_CBC_T3_10_PAST', '062019_BEL_CBC_T3_24_PAST', '062019_BEL_CBC_T3_26_PAST', '052022_BEL_CBC_T1_34_PAST', '052022_BEL_CBC_T1_53_PAST', '052022_BEL_CBC_T1_61_PAST', '052022_BEL_CBC_T3_11_PAST', '122022_BEL_CBC_T1_150_PAST', '062019_BEL_CBC_T3_22_MMEA', '062019_BEL_CBC_T3_3_MMEA', '122022_BEL_CBC_T1_158_PAST', '122022_BEL_CBC_T2_100_PAST', '122022_BEL_CBC_T2_83_PAST', '122022_BEL_CBC_T2_89_PAST', '122022_BEL_CBC_T2_94_PAST', '122022_BEL_CBC_T3_116_PAST', '062019_BEL_CBC_T3_32_MMEA', '122022_BEL_CBC_T1_139_PAST', '122022_BEL_CBC_T1_152_PAST', '122022_BEL_CBC_T1_155_PAST', '122022_BEL_CBC_T3_122_PAST', '122022_BEL_CBC_T3_144_PAST', '122022_BEL_CBC_T3_115_PAST', '052022_BEL_CBC_T2_5_PAST', '052022_BEL_CBC_T2_9_PAST', '062019_BEL_CBC_T3_23_PAST', '7_3_Neg', '7_11_Neg', '052022_BEL_CBC_T1_1_PAST', '052022_BEL_CBC_T1_12_MCAV', '052022_BEL_CBC_T1_13_MCAV', '052022_BEL_CBC_T1_40_MCAV', '052022_BEL_CBC_T1_52_PAST', '052022_BEL_CBC_T1_57_MCAV', '052022_BEL_CBC_T1_70_MCAV', '052022_BEL_CBC_T2_10_MCAV', '052022_BEL_CBC_T2_11_PAST', '052022_BEL_CBC_T2_60_PAST', '052022_BEL_CBC_T2_62_PAST', '052022_BEL_CBC_T2_69_OANN', '052022_BEL_CBC_T3_1_MCAV', '052022_BEL_CBC_T3_10_PAST', '052022_BEL_CBC_T3_13_MCAV', '052022_BEL_CBC_T3_19_MCAV', '052022_BEL_CBC_T3_40_MCAV', '052022_BEL_CBC_T3_48_MCAV', '052022_BEL_CBC_T3_49_MCAV', '052022_BEL_CBC_T3_50_MCAV', '052022_BEL_CBC_T3_51_MCAV', '052022_BEL_CBC_T3_55_PAST', '052022_BEL_CBC_T3_60_MCAV', '052022_BEL_CBC_T3_8_PAST', '062019_BEL_CBC_T1_1_PAST', '062019_BEL_CBC_T1_16_MCAV', '062019_BEL_CBC_T1_17_MCAV', '062019_BEL_CBC_T1_20_MCAV', '062019_BEL_CBC_T1_22_MCAV', '062019_BEL_CBC_T1_24_MCAV', '062019_BEL_CBC_T1_3_MCAV', '062019_BEL_CBC_T1_4_MCAV', '062019_BEL_CBC_T1_6_MCAV', '062019_BEL_CBC_T1_8_PAST', '062019_BEL_CBC_T1_9_MCAV', '062019_BEL_CBC_T2_16_MCAV', '062019_BEL_CBC_T2_18_MCAV', '062019_BEL_CBC_T2_21_PAST', '062019_BEL_CBC_T2_23_MCAV', '062019_BEL_CBC_T2_28_MCAV', '062019_BEL_CBC_T2_29_PAST', '062019_BEL_CBC_T2_5_MCAV', '062019_BEL_CBC_T2_8_MCAV', '062019_BEL_CBC_T2_9_MCAV', '062019_BEL_CBC_T3_1_MCAV', '062019_BEL_CBC_T3_11_MCAV', '062019_BEL_CBC_T3_12_PAST', '062019_BEL_CBC_T3_14_MCAV', '062019_BEL_CBC_T3_15_MCAV', '062019_BEL_CBC_T3_16_MCAV', '062019_BEL_CBC_T3_31_PAST', '062019_BEL_CBC_T3_6_MCAV', '062019_BEL_CBC_T3_7_PAST', '062019_BEL_CBC_T3_8_MCAV', '062019_BEL_CBC_T3_9_MCAV', '102019_BEL_CBC_T2_35_PSTR', '122022_BEL_CBC_T1_122_PSTR', '122022_BEL_CBC_T1_132_PSTR', '122022_BEL_CBC_T1_134_PAST', '122022_BEL_CBC_T1_153_MCAV', '122022_BEL_CBC_T2_117_PSTR', '122022_BEL_CBC_T2_120_PSTR', '122022_BEL_CBC_T2_82_PSTR', '122022_BEL_CBC_T2_85_MCAV', '122022_BEL_CBC_T3_117_PSTR', '122022_BEL_CBC_T3_123_PAST', '122022_BEL_CBC_T3_124_PAST', '122022_BEL_CBC_T3_129_PAST', '122022_BEL_CBC_T3_141_PSTR', '122022_BEL_CBC_T3_143_PAST', '122022_BEL_CBC_T3_151_PSTR', '122022_BEL_CBC_T3_158_PSTR', '122022_BEL_CBC_T3_163_PSTR', '122022_BEL_CBC_T4_11_MCAV', '122022_BEL_CBC_T4_12_PSTR', '122022_BEL_CBC_T4_13_PSTR', '122022_BEL_CBC_T4_34_PSTR', '122022_BEL_CBC_T4_36_PSTR', '122022_BEL_CBC_T4_4_PSTR', '122022_BEL_CBC_T4_8_PSTR', '102019_BEL_CBC_T1_25_PSTR', '102019_BEL_CBC_T1_26_PSTR', '102019_BEL_CBC_T1_27_PSTR', '102019_BEL_CBC_T1_28_PSTR', '102019_BEL_CBC_T1_29_PSTR', '122022_BEL_CBC_T1_157_OANN', '052022_BEL_CBC_T1_11_PSTR', '052022_BEL_CBC_T2_45_PSTR', '052022_BEL_CBC_T2_46_PSTR', '122022_BEL_CBC_T1_120_OANN', '122022_BEL_CBC_T1_136_OANN', '122022_BEL_CBC_T2_101_OFAV', '122022_BEL_CBC_T2_102_OFAV', '122022_BEL_CBC_T2_107_OANN', '122022_BEL_CBC_T2_118_OANN', '122022_BEL_CBC_T2_119_OANN', '122022_BEL_CBC_T4_10_OFAV', '122022_BEL_CBC_T4_9_OFAV', '052022_BEL_CBC_T1_10_PSTR', '122022_BEL_CBC_T2_91_OANN', '122022_BEL_CBC_T3_149_OANN', '122022_BEL_CBC_T3_161_OANN', '122022_BEL_CBC_T3_121_OFAV', '052022_BEL_CBC_T1_35_OANN', '052022_BEL_CBC_T2_59_OFAV', '052022_BEL_CBC_T1_41_OANN', '052022_BEL_CBC_T2_71_OFAV', '102019_BEL_CBC_T1_30_PSTR', '102019_BEL_CBC_T1_31_PSTR', '102019_BEL_CBC_T2_30_PSTR', '102019_BEL_CBC_T2_31_PSTR', '102019_BEL_CBC_T2_32_PSTR', '102019_BEL_CBC_T2_33_PSTR', '102019_BEL_CBC_T2_34_PSTR', '102019_BEL_CBC_T2_36_PSTR', '102019_BEL_CBC_T3_34_PSTR', '102019_BEL_CBC_T3_35_PSTR', '102019_BEL_CBC_T3_36_PSTR', '102019_BEL_CBC_T3_37_PSTR', '102019_BEL_CBC_T3_38_PSTR', '102019_BEL_CBC_T3_39_PSTR', '102019_BEL_CBC_T3_40_PSTR', '052022_BEL_CBC_T1_4_PSTR', '052022_BEL_CBC_T1_55_PSTR', '052022_BEL_CBC_T2_13_PSTR', '052022_BEL_CBC_T2_14_PSTR', '052022_BEL_CBC_T2_7_PSTR', '052022_BEL_CBC_T2_8_PSTR', '052022_BEL_CBC_T3_15_PSTR', '052022_BEL_CBC_T3_23_PSTR', '052022_BEL_CBC_T3_3_PSTR', '052022_BEL_CBC_T3_66_OFAV', '122022_BEL_CBC_T4_16_OFAV', '122022_BEL_CBC_T4_2_OFAV', '052022_BEL_CBC_T3_65_OFAV', '122022_BEL_CBC_T2_97_OFAV', '122022_BEL_CBC_T3_127_OFAV', '122022_BEL_CBC_T2_93_OFAV', '052022_BEL_CBC_T2_72_OFAV', '122022_BEL_CBC_T3_147_OFAV', '122022_BEL_CBC_T2_87_OFAV']\n",
      "222\n"
     ]
    }
   ],
   "source": [
    "with open(\"genohublist24.txt\", \"r\") as f:\n",
    "    genohublist24 = [line.strip() for line in f]  # Removes extra spaces or newlines\n",
    "\n",
    "print(genohublist24)\n",
    "print(len(genohublist24)) "
   ]
  },
  {
   "cell_type": "code",
   "execution_count": 129,
   "id": "28ef9c90-f95f-480b-aa2a-4cd2923a5637",
   "metadata": {},
   "outputs": [
    {
     "name": "stdout",
     "output_type": "stream",
     "text": [
      "['062019_BEL_CBC_T1_16_MCAV', '062019_BEL_CBC_T1_17_MCAV', '062019_BEL_CBC_T1_20_MCAV', '062019_BEL_CBC_T1_22_MCAV', '062019_BEL_CBC_T1_24_MCAV', '062019_BEL_CBC_T1_3_MCAV', '062019_BEL_CBC_T1_4_MCAV', '062019_BEL_CBC_T1_6_MCAV', '062019_BEL_CBC_T1_9_MCAV', '062019_BEL_CBC_T2_16_MCAV', '062019_BEL_CBC_T2_18_MCAV', '062019_BEL_CBC_T2_23_MCAV', '062019_BEL_CBC_T2_28_MCAV', '062019_BEL_CBC_T2_5_MCAV', '062019_BEL_CBC_T2_8_MCAV', '062019_BEL_CBC_T2_9_MCAV', '062019_BEL_CBC_T3_1_MCAV', '062019_BEL_CBC_T3_11_MCAV', '062019_BEL_CBC_T3_14_MCAV', '062019_BEL_CBC_T3_15_MCAV', '062019_BEL_CBC_T3_16_MCAV', '062019_BEL_CBC_T3_6_MCAV', '062019_BEL_CBC_T3_8_MCAV', '062019_BEL_CBC_T3_9_MCAV', '062019_BEL_CBC_T1_10_MMEA', '062019_BEL_CBC_T1_14_MMEA', '062019_BEL_CBC_T2_12_MMEA', '062019_BEL_CBC_T2_13_MMEA', '062019_BEL_CBC_T2_14_MMEA', '062019_BEL_CBC_T2_15_MMEA', '062019_BEL_CBC_T2_6_MMEA', '062019_BEL_CBC_T2_7_MMEA', '062019_BEL_CBC_T3_20_MMEA', '062019_BEL_CBC_T3_22_MMEA', '062019_BEL_CBC_T3_3_MMEA', '062019_BEL_CBC_T3_32_MMEA', '062019_BEL_CBC_T3_21_MMEA', '062019_BEL_CBC_T3_7_PAST', '062019_BEL_CBC_T1_8_PAST', '062019_BEL_CBC_T1_1_PAST', '062019_BEL_CBC_T3_25_PAST', '062019_BEL_CBC_T3_31_PAST', '062019_BEL_CBC_T1_12_PAST', '062019_BEL_CBC_T1_18_PAST', '062019_BEL_CBC_T1_21_PAST', '062019_BEL_CBC_T2_2_PAST', '062019_BEL_CBC_T2_20_PAST', '062019_BEL_CBC_T2_22_PAST', '062019_BEL_CBC_T2_25_PAST', '062019_BEL_CBC_T3_12_PAST', '062019_BEL_CBC_T3_10_PAST', '062019_BEL_CBC_T3_24_PAST', '062019_BEL_CBC_T3_26_PAST', '062019_BEL_CBC_T3_23_PAST', '062019_BEL_CBC_T2_21_PAST', '062019_BEL_CBC_T3_4_PAST', '062019_BEL_CBC_T2_29_PAST', '102019_BEL_CBC_T1_25_PSTR', '102019_BEL_CBC_T1_26_PSTR', '102019_BEL_CBC_T1_27_PSTR', '102019_BEL_CBC_T1_28_PSTR', '102019_BEL_CBC_T1_29_PSTR', '102019_BEL_CBC_T1_30_PSTR', '102019_BEL_CBC_T1_31_PSTR', '102019_BEL_CBC_T2_30_PSTR', '102019_BEL_CBC_T2_31_PSTR', '102019_BEL_CBC_T2_32_PSTR', '102019_BEL_CBC_T2_33_PSTR', '102019_BEL_CBC_T2_34_PSTR', '102019_BEL_CBC_T2_36_PSTR', '102019_BEL_CBC_T3_34_PSTR', '102019_BEL_CBC_T3_35_PSTR', '102019_BEL_CBC_T3_36_PSTR', '102019_BEL_CBC_T3_37_PSTR', '102019_BEL_CBC_T3_38_PSTR', '102019_BEL_CBC_T3_39_PSTR', '102019_BEL_CBC_T3_40_PSTR', '102019_BEL_CBC_T2_35_PSTR', '052022_BEL_CBC_T1_12_MCAV', '052022_BEL_CBC_T3_1_MCAV', '052022_BEL_CBC_T3_48_MCAV', '052022_BEL_CBC_T3_40_MCAV', '052022_BEL_CBC_T3_50_MCAV', '052022_BEL_CBC_T1_70_MCAV', '052022_BEL_CBC_T3_49_MCAV', '052022_BEL_CBC_T3_51_MCAV', '052022_BEL_CBC_T1_40_MCAV', '052022_BEL_CBC_T3_60_MCAV', '052022_BEL_CBC_T1_13_MCAV', '052022_BEL_CBC_T3_13_MCAV', '052022_BEL_CBC_T3_19_MCAV', '052022_BEL_CBC_T2_10_MCAV', '052022_BEL_CBC_T1_57_MCAV', '052022_BEL_CBC_T1_39_MCAV', '052022_BEL_CBC_T1_54_MCAV', '052022_BEL_CBC_T1_62_MCAV', '052022_BEL_CBC_T2_12_MCAV', '052022_BEL_CBC_T2_4_MCAV', '052022_BEL_CBC_T2_56_MCAV', '122022_BEL_CBC_T1_151_MCAV', '122022_BEL_CBC_T2_86_MCAV', '122022_BEL_CBC_T2_88_MCAV', '122022_BEL_CBC_T2_92_MCAV', '122022_BEL_CBC_T2_95_MCAV', '122022_BEL_CBC_T3_119_MCAV', '122022_BEL_CBC_T3_128_MCAV', '122022_BEL_CBC_T3_142_MCAV', '122022_BEL_CBC_T3_155_MCAV', '122022_BEL_CBC_T4_3_MCAV', '122022_BEL_CBC_T3_133_MCAV', '122022_BEL_CBC_T4_14_MCAV', '122022_BEL_CBC_T4_5_MCAV', '122022_BEL_CBC_T1_153_MCAV', '052022_BEL_CBC_T1_60_MCAV', '122022_BEL_CBC_T1_144_MCAV', '122022_BEL_CBC_T3_132_MCAV', '122022_BEL_CBC_T3_145_MCAV', '122022_BEL_CBC_T4_15_MCAV', '122022_BEL_CBC_T4_6_MCAV', '122022_BEL_CBC_T4_38_MCAV', '122022_BEL_CBC_T2_85_MCAV', '122022_BEL_CBC_T4_11_MCAV', '052022_BEL_CBC_T1_35_OANN', '052022_BEL_CBC_T1_41_OANN', '122022_BEL_CBC_T3_149_OANN', '122022_BEL_CBC_T3_161_OANN', '122022_BEL_CBC_T1_157_OANN', '122022_BEL_CBC_T2_91_OANN', '122022_BEL_CBC_T1_120_OANN', '122022_BEL_CBC_T1_136_OANN', '122022_BEL_CBC_T2_107_OANN', '122022_BEL_CBC_T2_118_OANN', '122022_BEL_CBC_T2_119_OANN', '052022_BEL_CBC_T2_69_OANN', '122022_BEL_CBC_T1_123_OANN', '052022_BEL_CBC_T2_59_OFAV', '052022_BEL_CBC_T2_72_OFAV', '052022_BEL_CBC_T2_71_OFAV', '052022_BEL_CBC_T3_65_OFAV', '052022_BEL_CBC_T3_66_OFAV', '122022_BEL_CBC_T3_127_OFAV', '122022_BEL_CBC_T3_147_OFAV', '122022_BEL_CBC_T3_121_OFAV', '122022_BEL_CBC_T2_87_OFAV', '122022_BEL_CBC_T2_93_OFAV', '122022_BEL_CBC_T2_97_OFAV', '122022_BEL_CBC_T4_16_OFAV', '122022_BEL_CBC_T4_2_OFAV', '122022_BEL_CBC_T2_101_OFAV', '122022_BEL_CBC_T2_102_OFAV', '122022_BEL_CBC_T4_10_OFAV', '122022_BEL_CBC_T4_9_OFAV', '052022_BEL_CBC_T1_63_OFAV', '122022_BEL_CBC_T4_1_OFAV', '052022_BEL_CBC_T1_52_PAST', '122022_BEL_CBC_T3_129_PAST', '052022_BEL_CBC_T3_55_PAST', '052022_BEL_CBC_T2_62_PAST', '052022_BEL_CBC_T3_10_PAST', '052022_BEL_CBC_T1_1_PAST', '052022_BEL_CBC_T3_8_PAST', '052022_BEL_CBC_T2_11_PAST', '052022_BEL_CBC_T2_60_PAST', '052022_BEL_CBC_T3_54_PAST', '122022_BEL_CBC_T1_134_PAST', '052022_BEL_CBC_T1_34_PAST', '052022_BEL_CBC_T1_53_PAST', '052022_BEL_CBC_T1_61_PAST', '052022_BEL_CBC_T3_11_PAST', '122022_BEL_CBC_T1_150_PAST', '122022_BEL_CBC_T1_158_PAST', '122022_BEL_CBC_T2_100_PAST', '122022_BEL_CBC_T2_83_PAST', '122022_BEL_CBC_T2_89_PAST', '122022_BEL_CBC_T2_94_PAST', '122022_BEL_CBC_T3_116_PAST', '122022_BEL_CBC_T1_139_PAST', '122022_BEL_CBC_T1_152_PAST', '122022_BEL_CBC_T1_155_PAST', '122022_BEL_CBC_T3_122_PAST', '122022_BEL_CBC_T3_144_PAST', '122022_BEL_CBC_T3_115_PAST', '052022_BEL_CBC_T2_5_PAST', '052022_BEL_CBC_T2_9_PAST', '122022_BEL_CBC_T3_123_PAST', '122022_BEL_CBC_T3_124_PAST', '122022_BEL_CBC_T3_143_PAST', '052022_BEL_CBC_T2_45_PSTR', '052022_BEL_CBC_T2_46_PSTR', '052022_BEL_CBC_T1_11_PSTR', '052022_BEL_CBC_T1_10_PSTR', '122022_BEL_CBC_T4_12_PSTR', '052022_BEL_CBC_T1_4_PSTR', '052022_BEL_CBC_T1_55_PSTR', '052022_BEL_CBC_T3_15_PSTR', '052022_BEL_CBC_T3_23_PSTR', '052022_BEL_CBC_T3_3_PSTR', '052022_BEL_CBC_T2_13_PSTR', '052022_BEL_CBC_T2_14_PSTR', '052022_BEL_CBC_T2_7_PSTR', '052022_BEL_CBC_T2_8_PSTR', '122022_BEL_CBC_T1_133_PSTR', '122022_BEL_CBC_T2_116_PSTR', '122022_BEL_CBC_T4_35_PSTR', '122022_BEL_CBC_T1_122_PSTR', '122022_BEL_CBC_T2_120_PSTR', '122022_BEL_CBC_T2_82_PSTR', '122022_BEL_CBC_T2_99_PSTR', '122022_BEL_CBC_T3_117_PSTR', '122022_BEL_CBC_T3_141_PSTR', '122022_BEL_CBC_T3_151_PSTR', '122022_BEL_CBC_T3_158_PSTR', '122022_BEL_CBC_T3_163_PSTR', '122022_BEL_CBC_T4_4_PSTR', '122022_BEL_CBC_T4_8_PSTR', '122022_BEL_CBC_T1_132_PSTR', '122022_BEL_CBC_T2_117_PSTR', '122022_BEL_CBC_T4_13_PSTR', '122022_BEL_CBC_T4_36_PSTR', '122022_BEL_CBC_T4_34_PSTR']\n"
     ]
    },
    {
     "data": {
      "text/plain": [
       "220"
      ]
     },
     "execution_count": 129,
     "metadata": {},
     "output_type": "execute_result"
    }
   ],
   "source": [
    "print(samplelist24)\n",
    "len(samplelist24)"
   ]
  },
  {
   "cell_type": "code",
   "execution_count": 135,
   "id": "c46e7094-2111-4e94-b0fe-0271d630feab",
   "metadata": {},
   "outputs": [
    {
     "name": "stdout",
     "output_type": "stream",
     "text": [
      "Samples missing from metagenomics tracker: ['7_3_Neg', '7_11_Neg']\n"
     ]
    }
   ],
   "source": [
    "# why do they have diff number of samples:\n",
    "missing_samples = [sample for sample in genohublist24 if sample not in samplelist24]\n",
    "print(\"Samples missing from metagenomics tracker:\", missing_samples)\n",
    "\n",
    "# just missing negatives that were sequenced "
   ]
  },
  {
   "cell_type": "code",
   "execution_count": 143,
   "id": "f51c4e40-6e19-44b5-9f5c-438eb1ec89d4",
   "metadata": {},
   "outputs": [
    {
     "name": "stdout",
     "output_type": "stream",
     "text": [
      "[Errno 2] No such file or directory: '03172025'\n",
      "/scratch/workspace/brooke_sienkiewicz_student_uml_edu-brooke-belseq/03172025\n"
     ]
    }
   ],
   "source": [
    "cd 03172025"
   ]
  },
  {
   "cell_type": "code",
   "execution_count": 146,
   "id": "bc659524-5d27-40a9-92f2-721a4e8a7840",
   "metadata": {},
   "outputs": [
    {
     "name": "stdout",
     "output_type": "stream",
     "text": [
      "162\n"
     ]
    }
   ],
   "source": [
    "ls -1 *R1_001.fastq.gz | wc -l"
   ]
  },
  {
   "cell_type": "code",
   "execution_count": null,
   "id": "cbbc5d3f-92fe-4e49-8944-67066dd03bbf",
   "metadata": {},
   "outputs": [],
   "source": [
    "# missing 60 samples??"
   ]
  },
  {
   "cell_type": "code",
   "execution_count": 153,
   "id": "0045b091-954b-464d-9cea-ca283daee1d9",
   "metadata": {},
   "outputs": [],
   "source": [
    "ls -1 *R1_001.fastq.gz > sample_list"
   ]
  },
  {
   "cell_type": "code",
   "execution_count": 154,
   "id": "774a7053-08d5-4776-b002-374cb3ec0a5b",
   "metadata": {},
   "outputs": [],
   "source": [
    "mv sample_list ../sample_list"
   ]
  },
  {
   "cell_type": "code",
   "execution_count": 156,
   "id": "a8b21b8f-4116-4a71-b1f7-22fb6612facf",
   "metadata": {},
   "outputs": [
    {
     "name": "stdout",
     "output_type": "stream",
     "text": [
      "/scratch/workspace/brooke_sienkiewicz_student_uml_edu-brooke-belseq\n"
     ]
    }
   ],
   "source": [
    "cd .."
   ]
  },
  {
   "cell_type": "code",
   "execution_count": 161,
   "id": "7b884891-177e-45eb-8fc2-7a21576c0238",
   "metadata": {},
   "outputs": [],
   "source": [
    "# upload sample_list \n",
    "with open(\"sample_list\", \"r\") as f:\n",
    "    sample_list = [line.strip() for line in f] "
   ]
  },
  {
   "cell_type": "code",
   "execution_count": 162,
   "id": "a04b6ed6-2f43-44ad-8823-d48232083ad9",
   "metadata": {},
   "outputs": [
    {
     "name": "stdout",
     "output_type": "stream",
     "text": [
      "['052022_BEL_CBC_T1_12_MCAV', '052022_BEL_CBC_T1_13_MCAV', '052022_BEL_CBC_T1_1_PAST', '052022_BEL_CBC_T1_34_PAST', '052022_BEL_CBC_T1_39_MCAV', '052022_BEL_CBC_T1_40_MCAV', '052022_BEL_CBC_T1_52_PAST', '052022_BEL_CBC_T1_53_PAST', '052022_BEL_CBC_T1_54_MCAV', '052022_BEL_CBC_T1_57_MCAV', '052022_BEL_CBC_T1_60_MCAV', '052022_BEL_CBC_T1_61_PAST', '052022_BEL_CBC_T1_62_MCAV', '052022_BEL_CBC_T1_63_OFAV', '052022_BEL_CBC_T1_70_MCAV', '052022_BEL_CBC_T2_10_MCAV', '052022_BEL_CBC_T2_11_PAST', '052022_BEL_CBC_T2_12_MCAV', '052022_BEL_CBC_T2_4_MCAV', '052022_BEL_CBC_T2_56_MCAV', '052022_BEL_CBC_T2_5_PAST', '052022_BEL_CBC_T2_60_PAST', '052022_BEL_CBC_T2_62_PAST', '052022_BEL_CBC_T2_69_OANN', '052022_BEL_CBC_T2_9_PAST', '052022_BEL_CBC_T3_10_PAST', '052022_BEL_CBC_T3_11_PAST', '052022_BEL_CBC_T3_13_MCAV', '052022_BEL_CBC_T3_19_MCAV', '052022_BEL_CBC_T3_1_MCAV', '052022_BEL_CBC_T3_40_MCAV', '052022_BEL_CBC_T3_48_MCAV', '052022_BEL_CBC_T3_49_MCAV', '052022_BEL_CBC_T3_50_MCAV', '052022_BEL_CBC_T3_51_MCAV', '052022_BEL_CBC_T3_54_PAST', '052022_BEL_CBC_T3_55_PAST', '052022_BEL_CBC_T3_60_MCAV', '052022_BEL_CBC_T3_8_PAST', '062019_BEL_CBC_T1_10_MMEA', '062019_BEL_CBC_T1_12_PAST', '062019_BEL_CBC_T1_14_MMEA', '062019_BEL_CBC_T1_16_MCAV', '062019_BEL_CBC_T1_17_MCAV', '062019_BEL_CBC_T1_18_PAST', '062019_BEL_CBC_T1_1_PAST', '062019_BEL_CBC_T1_20_MCAV', '062019_BEL_CBC_T1_21_PAST', '062019_BEL_CBC_T1_22_MCAV', '062019_BEL_CBC_T1_24_MCAV', '062019_BEL_CBC_T1_3_MCAV', '062019_BEL_CBC_T1_4_MCAV', '062019_BEL_CBC_T1_6_MCAV', '062019_BEL_CBC_T1_8_PAST', '062019_BEL_CBC_T1_9_MCAV', '062019_BEL_CBC_T2_12_MMEA', '062019_BEL_CBC_T2_13_MMEA', '062019_BEL_CBC_T2_14_MMEA', '062019_BEL_CBC_T2_15_MMEA', '062019_BEL_CBC_T2_16_MCAV', '062019_BEL_CBC_T2_18_MCAV', '062019_BEL_CBC_T2_20_PAST', '062019_BEL_CBC_T2_21_PAST', '062019_BEL_CBC_T2_22_PAST', '062019_BEL_CBC_T2_23_MCAV', '062019_BEL_CBC_T2_25_PAST', '062019_BEL_CBC_T2_28_MCAV', '062019_BEL_CBC_T2_29_PAST', '062019_BEL_CBC_T2_2_PAST', '062019_BEL_CBC_T2_5_MCAV', '062019_BEL_CBC_T2_6_MMEA', '062019_BEL_CBC_T2_7_MMEA', '062019_BEL_CBC_T2_8_MCAV', '062019_BEL_CBC_T2_9_MCAV', '062019_BEL_CBC_T3_10_PAST', '062019_BEL_CBC_T3_11_MCAV', '062019_BEL_CBC_T3_12_PAST', '062019_BEL_CBC_T3_14_MCAV', '062019_BEL_CBC_T3_15_MCAV', '062019_BEL_CBC_T3_16_MCAV', '062019_BEL_CBC_T3_1_MCAV', '062019_BEL_CBC_T3_20_MMEA', '062019_BEL_CBC_T3_21_MMEA', '062019_BEL_CBC_T3_22_MMEA', '062019_BEL_CBC_T3_23_PAST', '062019_BEL_CBC_T3_24_PAST', '062019_BEL_CBC_T3_25_PAST', '062019_BEL_CBC_T3_26_PAST', '062019_BEL_CBC_T3_31_PAST', '062019_BEL_CBC_T3_32_MMEA', '062019_BEL_CBC_T3_3_MMEA', '062019_BEL_CBC_T3_4_PAST', '062019_BEL_CBC_T3_6_MCAV', '062019_BEL_CBC_T3_7_PAST', '062019_BEL_CBC_T3_8_MCAV', '062019_BEL_CBC_T3_9_MCAV', '102019_BEL_CBC_T2_35_PSTR', '122022_BEL_CBC_T1_122_PSTR', '122022_BEL_CBC_T1_123_OANN', '122022_BEL_CBC_T1_132_PSTR', '122022_BEL_CBC_T1_133_PSTR', '122022_BEL_CBC_T1_134_PAST', '122022_BEL_CBC_T1_139_PAST', '122022_BEL_CBC_T1_144_MCAV', '122022_BEL_CBC_T1_150_PAST', '122022_BEL_CBC_T1_151_MCAV', '122022_BEL_CBC_T1_152_PAST', '122022_BEL_CBC_T1_153_MCAV', '122022_BEL_CBC_T1_155_PAST', '122022_BEL_CBC_T1_158_PAST', '122022_BEL_CBC_T2_100_PAST', '122022_BEL_CBC_T2_116_PSTR', '122022_BEL_CBC_T2_117_PSTR', '122022_BEL_CBC_T2_120_PSTR', '122022_BEL_CBC_T2_82_PSTR', '122022_BEL_CBC_T2_83_PAST', '122022_BEL_CBC_T2_85_MCAV', '122022_BEL_CBC_T2_86_MCAV', '122022_BEL_CBC_T2_88_MCAV', '122022_BEL_CBC_T2_89_PAST', '122022_BEL_CBC_T2_92_MCAV', '122022_BEL_CBC_T2_94_PAST', '122022_BEL_CBC_T2_95_MCAV', '122022_BEL_CBC_T2_99_PSTR', '122022_BEL_CBC_T3_115_PAST', '122022_BEL_CBC_T3_116_PAST', '122022_BEL_CBC_T3_117_PSTR', '122022_BEL_CBC_T3_119_MCAV', '122022_BEL_CBC_T3_122_PAST', '122022_BEL_CBC_T3_123_PAST', '122022_BEL_CBC_T3_124_PAST', '122022_BEL_CBC_T3_128_MCAV', '122022_BEL_CBC_T3_129_PAST', '122022_BEL_CBC_T3_132_MCAV', '122022_BEL_CBC_T3_133_MCAV', '122022_BEL_CBC_T3_141_PSTR', '122022_BEL_CBC_T3_142_MCAV', '122022_BEL_CBC_T3_143_PAST', '122022_BEL_CBC_T3_144_PAST', '122022_BEL_CBC_T3_145_MCAV', '122022_BEL_CBC_T3_151_PSTR', '122022_BEL_CBC_T3_155_MCAV', '122022_BEL_CBC_T3_158_PSTR', '122022_BEL_CBC_T3_163_PSTR', '122022_BEL_CBC_T4_11_MCAV', '122022_BEL_CBC_T4_12_PSTR', '122022_BEL_CBC_T4_13_PSTR', '122022_BEL_CBC_T4_14_MCAV', '122022_BEL_CBC_T4_15_MCAV', '122022_BEL_CBC_T4_1_OFAV', '122022_BEL_CBC_T4_34_PSTR', '122022_BEL_CBC_T4_35_PSTR', '122022_BEL_CBC_T4_36_PSTR', '122022_BEL_CBC_T4_38_MCAV', '122022_BEL_CBC_T4_3_MCAV', '122022_BEL_CBC_T4_4_PSTR', '122022_BEL_CBC_T4_5_MCAV', '122022_BEL_CBC_T4_6_MCAV', '122022_BEL_CBC_T4_8_PSTR', '7_11_Neg', '7_3_Neg', 'Negative_extract_11-2-24']\n"
     ]
    }
   ],
   "source": [
    "# remove file endings and added sample number from sequencer \n",
    "# regex replacement\n",
    "sample_list = [re.sub(r'_S.*_R.*_001.fastq.gz','', sample) for sample in sample_list]\n",
    "print(sample_list)"
   ]
  },
  {
   "cell_type": "code",
   "execution_count": 163,
   "id": "653e11d5-b92a-4dc7-8902-d8960b4a1e2a",
   "metadata": {},
   "outputs": [
    {
     "name": "stdout",
     "output_type": "stream",
     "text": [
      "Samples missing from metagenomics tracker: ['102019_BEL_CBC_T1_25_PSTR', '102019_BEL_CBC_T1_26_PSTR', '102019_BEL_CBC_T1_27_PSTR', '102019_BEL_CBC_T1_28_PSTR', '102019_BEL_CBC_T1_29_PSTR', '122022_BEL_CBC_T1_157_OANN', '052022_BEL_CBC_T1_11_PSTR', '052022_BEL_CBC_T2_45_PSTR', '052022_BEL_CBC_T2_46_PSTR', '122022_BEL_CBC_T1_120_OANN', '122022_BEL_CBC_T1_136_OANN', '122022_BEL_CBC_T2_101_OFAV', '122022_BEL_CBC_T2_102_OFAV', '122022_BEL_CBC_T2_107_OANN', '122022_BEL_CBC_T2_118_OANN', '122022_BEL_CBC_T2_119_OANN', '122022_BEL_CBC_T4_10_OFAV', '122022_BEL_CBC_T4_9_OFAV', '052022_BEL_CBC_T1_10_PSTR', '122022_BEL_CBC_T2_91_OANN', '122022_BEL_CBC_T3_149_OANN', '122022_BEL_CBC_T3_161_OANN', '122022_BEL_CBC_T3_121_OFAV', '052022_BEL_CBC_T1_35_OANN', '052022_BEL_CBC_T2_59_OFAV', '052022_BEL_CBC_T1_41_OANN', '052022_BEL_CBC_T2_71_OFAV', '102019_BEL_CBC_T1_30_PSTR', '102019_BEL_CBC_T1_31_PSTR', '102019_BEL_CBC_T2_30_PSTR', '102019_BEL_CBC_T2_31_PSTR', '102019_BEL_CBC_T2_32_PSTR', '102019_BEL_CBC_T2_33_PSTR', '102019_BEL_CBC_T2_34_PSTR', '102019_BEL_CBC_T2_36_PSTR', '102019_BEL_CBC_T3_34_PSTR', '102019_BEL_CBC_T3_35_PSTR', '102019_BEL_CBC_T3_36_PSTR', '102019_BEL_CBC_T3_37_PSTR', '102019_BEL_CBC_T3_38_PSTR', '102019_BEL_CBC_T3_39_PSTR', '102019_BEL_CBC_T3_40_PSTR', '052022_BEL_CBC_T1_4_PSTR', '052022_BEL_CBC_T1_55_PSTR', '052022_BEL_CBC_T2_13_PSTR', '052022_BEL_CBC_T2_14_PSTR', '052022_BEL_CBC_T2_7_PSTR', '052022_BEL_CBC_T2_8_PSTR', '052022_BEL_CBC_T3_15_PSTR', '052022_BEL_CBC_T3_23_PSTR', '052022_BEL_CBC_T3_3_PSTR', '052022_BEL_CBC_T3_66_OFAV', '122022_BEL_CBC_T4_16_OFAV', '122022_BEL_CBC_T4_2_OFAV', '052022_BEL_CBC_T3_65_OFAV', '122022_BEL_CBC_T2_97_OFAV', '122022_BEL_CBC_T3_127_OFAV', '122022_BEL_CBC_T2_93_OFAV', '052022_BEL_CBC_T2_72_OFAV', '122022_BEL_CBC_T3_147_OFAV', '122022_BEL_CBC_T2_87_OFAV']\n"
     ]
    }
   ],
   "source": [
    "# what is missing in our files \n",
    "missing_samples = [sample for sample in genohublist24 if sample not in sample_list]\n",
    "print(\"Samples missing from metagenomics tracker:\", missing_samples)\n",
    "# i think all from library_prepped genohub submission sheet "
   ]
  },
  {
   "cell_type": "code",
   "execution_count": null,
   "id": "3b176459-88c4-47be-a338-6359483c9574",
   "metadata": {},
   "outputs": [],
   "source": [
    "#aws s3 ls s3://genohub5799597 --recursive | wc -l\n",
    "# check num of files in amazon bucket "
   ]
  }
 ],
 "metadata": {
  "kernelspec": {
   "display_name": "Python 3 (ipykernel)",
   "language": "python",
   "name": "python3"
  },
  "language_info": {
   "codemirror_mode": {
    "name": "ipython",
    "version": 3
   },
   "file_extension": ".py",
   "mimetype": "text/x-python",
   "name": "python",
   "nbconvert_exporter": "python",
   "pygments_lexer": "ipython3",
   "version": "3.11.0"
  }
 },
 "nbformat": 4,
 "nbformat_minor": 5
}
