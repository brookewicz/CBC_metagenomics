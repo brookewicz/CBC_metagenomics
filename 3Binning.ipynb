{
 "cells": [
  {
   "cell_type": "markdown",
   "id": "c8efe34a-b914-4865-afbf-82fd6d8476a9",
   "metadata": {},
   "source": [
    "### Anvio - Contig profiling\n",
    "\n",
    "Contig profiling creates a database of your contigs. It calculates k-mer frequencies for your sample (standard k-setting is 4, which you can change with the --kmer-size parameter (DON'T unless you have a good reason)), soft splits long contigs, and identifies open reading frames (which can be skipped using --skip-gene-calling). Run the following code to generate your database:\n",
    "\n",
    "Subsequently, you can add various elements of analysis to your contig profile. The following list is available:\n",
    "\n",
    "Augustus + Prodigal gene calls: adds open reading frames to your dataset from the genes from the Augustus database (eukaryotes) and Prodigal (bacteria + archaea) WORKING ON THIS: NOT SURE IF IT WORKS\n",
    "\n",
    "Hidden Markov Model (HMM): A widely used prediction model in bioinformatics software, which can offer great advantages in homology detection.\n",
    "\n",
    "NCBI's Cluster of Orthologous genes (NCBI COG): this allows you to annotate your database with gene functions from NCBI COG. Current version: 2020\n",
    "\n",
    "KoFAM Metabolism calls: Uses the KEGG database to call metabolic genes and estimate paths of your community. Currently used KEGG version is KEGG_build_2020-12-23.\n",
    "\n",
    "Kaiju Taxonomy calls:\n",
    "\n",
    "Each of these adds a new layer of information to your dataset, so might be very interesting to explore."
   ]
  },
  {
   "cell_type": "code",
   "execution_count": null,
   "id": "7cd0be4a-4a34-4cb2-b3a6-72efd8f78a43",
   "metadata": {},
   "outputs": [],
   "source": [
    "#!/bin/bash\n",
    "#SBATCH -c 24  # Number of Cores per Task\n",
    "#SBATCH --mem=50G  # Requested Memory\n",
    "#SBATCH -p cpu  # Partition\n",
    "#SBATCH -t 20:00:00  # Job time limit\n",
    "#SBATCH --mail-type=ALL\n",
    "#SBATCH -o //project/pi_sarah_gignouxwolfsohn_uml_edu/brooke/bash_scripts/slurm-%j.out  # %j = job ID\n",
    "\n",
    "module load miniconda/22.11.1-1\n",
    "conda activate anvio-7.1\n",
    "\n",
    "#Contig database from assembled genomes. stores information related to your sequences: positions of open reading frames, k-mer frequencies for each contig, functional and taxonomic annotation of genes, etc.\n",
    "#set parameters:\n",
    "SAMPLENAME=mcav\n",
    "CONTIGPATH=/project/pi_sarah_gignouxwolfsohn_uml_edu/brooke/results/mcav_assembly3\n",
    "CONTIGFILE=mcav.contigs-fixed.fa\n",
    "\n",
    "#generate the contigs database:\n",
    "#default k-mer frequency is 4\n",
    "anvi-gen-contigs-database -f $CONTIGPATH/$CONTIGFILE --project-name $SAMPLENAME -o ./working/$SAMPLENAME.contigs.db  \n",
    "\n",
    "#integrate HMMs into the database:\n",
    "anvi-run-hmms -c ./working/$SAMPLENAME.contigs.db --num-threads 6\n",
    "\n",
    "#this runs NCBI COGs against your contigs.db, integrating gene functions.\n",
    "anvi-run-ncbi-cogs -c ./working/$SAMPLENAME.contigs.db \n",
    "\n",
    "#ADD KEGG-KOFAM\n",
    "anvi-run-kegg-kofams -c ./working/$SAMPLENAME.contigs.db \\\n",
    "                     -T 4 #these are the threads that Anvi'O is allowed to use\n",
    "#ADD CONTIG STATS\n",
    "anvi-display-contigs-stats ./working/$SAMPLENAME.contigs.db --report-as-text --as-markdown -o ./results/anvio_stats\n",
    "\n",
    "#generates contig database from merged, fixed contig fasta file created in previous step..need for downstream analysis\n",
    "#JOB ID: 13297970\n",
    "#bash script: mcav_db.txt"
   ]
  },
  {
   "cell_type": "code",
   "execution_count": null,
   "id": "dca386f1-d8e3-4b74-ad2c-4f66d5e0cfce",
   "metadata": {},
   "outputs": [],
   "source": [
    "#!/bin/bash\n",
    "#SBATCH -c 24  # Number of Cores per Task\n",
    "#SBATCH --mem=50G  # Requested Memory\n",
    "#SBATCH -p cpu  # Partition\n",
    "#SBATCH -t 6:00:00  # Job time limit\n",
    "#SBATCH --mail-type=ALL\n",
    "#SBATCH -o //project/pi_sarah_gignouxwolfsohn_uml_edu/brooke/bash_scripts/slurm-%j.out  # %j = job ID\n",
    "\n",
    "module load miniconda/22.11.1-1\n",
    "conda activate anvio-7.1\n",
    "SAMPLENAME=mcav\n",
    "OUTDIR=//project/pi_sarah_gignouxwolfsohn_uml_edu/brooke/working/index\n",
    "\n",
    " \n",
    "\n",
    "anvi-merge -c ./working/$SAMPLENAME.contigs.db \\\n",
    "            ./working/$OUTDIR/*/PROFILE.db \\\n",
    "            -o ./working/$OUTDIR/$SAMPLENAME_contigs_merged\n",
    "#merge single sample profiles to one profile\n",
    "\n",
    "  \n",
    "anvi-cluster-contigs -p ./working/$OUTDIR/SAMPLENAME_contigs_merged \\\n",
    "                     -c ./working/$SAMPLENAME.contigs.db \\ \n",
    "                     -C ./results/collection \\ \n",
    "                     --driver concoct\n",
    "#binning: clusters contigs. can use various drivers: 'concoct, metabat2, maxbin2, dastool, or binsanity.'\n",
    "#seperated individual sample profiling and merging to different bash scripts just for troubleshooting\n",
    "\n",
    "\n",
    "#splitting code up to make sure it works \n",
    "#bash script: binning\n",
    "#job ID: 14815575"
   ]
  },
  {
   "cell_type": "code",
   "execution_count": null,
   "id": "63c2de5b-da93-4677-bbd8-315fe3aaeebd",
   "metadata": {},
   "outputs": [],
   "source": [
    "#!/bin/bash\n",
    "#SBATCH -c 24  # Number of Cores per Task\n",
    "#SBATCH --mem=50G  # Requested Memory\n",
    "#SBATCH -p cpu  # Partition\n",
    "#SBATCH -t 6:00:00  # Job time limit\n",
    "#SBATCH --mail-type=ALL\n",
    "#SBATCH -o //project/pi_sarah_gignouxwolfsohn_uml_edu/brooke/bash_scripts/slurm-%j.out  # %j = job ID\n",
    "\n",
    "module load miniconda/22.11.1-1\n",
    "conda activate anvio-7.1\n",
    "\n",
    "#set parameters\n",
    "SAMPLENAME=mcav\n",
    "#mkdir=//project/pi_sarah_gignouxwolfsohn_uml_edu/brooke/working/$SAMPLENAME_profiles\n",
    "samplepath=//project/pi_sarah_gignouxwolfsohn_uml_edu/brooke/bash_scripts\n",
    "\n",
    "OUTDIR=//project/pi_sarah_gignouxwolfsohn_uml_edu/brooke/working/index\n",
    "\n",
    "for f in T1_12_2022 T1_13_2022 T1_16_2019 T1_20_2019 T1_24_2019 T1_40_2022 T1_57_2022 T1_70_2022 T2_10_2022 T2_16_2019 T3_13_2022 T3_14_2019 T3_15_2019 T3_19_2022 T3_1_2019 T3_40_2022 T3_48_2022 T3_49_2022 T3_51_2022 T3_60_2022 T3_8_2019 T3_9_2019\n",
    "do\n",
    "anvi-profile -c ./working/$SAMPLENAME.contigs.db  \\\n",
    "            -i ./working/index/\"$f\".bam \\\n",
    "            --min-percent-identity 95 \\\n",
    "            --sample-name \"$f\"\n",
    "            --output-dir $OUTDIR\n",
    "#use contig database and sample bam files to create single profiles. can specify to keep contigs of min length (min-contig-length) and 95% identity to database\n",
    "#keep parameters consistent in order to merge to larger profile \n",
    "#already filtered out min 1000bp contigs in 'anvi-script-reformat-fasta', so not adding specification.\n",
    "done\n",
    "\n",
    "#binning: clusters contigs. can use various drivers: 'concoct, metabat2, maxbin2, dastool, or binsanity.'\n",
    "#seperated individual sample profiling and merging to different bash scripts just for troubleshooting\n",
    "#bash script: profiles.txt\n",
    "#JOB ID: 13298522"
   ]
  },
  {
   "cell_type": "markdown",
   "id": "da6fed86-b9e5-4704-b902-5a3a3de9f952",
   "metadata": {},
   "source": [
    "Taxonomy \n",
    "https://merenlab.org/2019/10/08/anvio-scg-taxonomy/\n",
    "- single-copy core genes (SCGs) and the taxonomy of the genomes - as defined by the GTDB - from which these genes are coming from"
   ]
  },
  {
   "cell_type": "code",
   "execution_count": null,
   "id": "3e0062cf-ed54-4bcd-b9a5-1ca4d41f9012",
   "metadata": {},
   "outputs": [],
   "source": [
    "conda activate anvio-7.1\n",
    "\n",
    "diamond --version\n",
    "conda install diamond=0.9.14\n",
    "anvi-setup-scg-taxonomy\n",
    "\n",
    "#download ncbi-cogs \n",
    "anvi-setup-ncbi-cogs --num-threads 11"
   ]
  },
  {
   "cell_type": "code",
   "execution_count": null,
   "id": "522b8784-279f-4544-97f9-40e05b90355e",
   "metadata": {},
   "outputs": [],
   "source": [
    "mkdir ./results/taxonomy\n",
    "SAMPLENAME = mcav "
   ]
  },
  {
   "cell_type": "code",
   "execution_count": null,
   "id": "610e9a2b-447f-45df-af3c-352bd9f85254",
   "metadata": {},
   "outputs": [],
   "source": [
    "anvi-estimate-scg-taxonomy -c ./working/$SAMPLENAME.contigs.db --num-parallel-processes 3 --num-threads 3 --metagenome-mode --ouput-file ./results/taxonomy/scg-taxonomy.tsv\n",
    "#taxa matching from assembled metagenome - will just match ASVs to SCG taxa and give percent identity "
   ]
  },
  {
   "cell_type": "code",
   "execution_count": null,
   "id": "ff387659-6192-4664-9f32-3f4b90200777",
   "metadata": {},
   "outputs": [],
   "source": [
    "anvi-estimate-scg-taxonomy ./working/$SAMPLENAME.contigs.db \\\n",
    "                           -p PROFILE.db \\\n",
    "                           --num-threads 3 \\\n",
    "                           --metagenome-mode \\\n",
    "                           --compute-scg-coverages \\\n",
    "                           --output-file ./results/taxonomy/taxa-abundance.tsv\n",
    "#difference here is that it will calculate relative abundances of the matched SCG taxa across all samples as well as percent identity (like an OTU table)"
   ]
  }
 ],
 "metadata": {
  "kernelspec": {
   "display_name": "Python 3 (ipykernel)",
   "language": "python",
   "name": "python3"
  },
  "language_info": {
   "codemirror_mode": {
    "name": "ipython",
    "version": 3
   },
   "file_extension": ".py",
   "mimetype": "text/x-python",
   "name": "python",
   "nbconvert_exporter": "python",
   "pygments_lexer": "ipython3",
   "version": "3.11.0"
  }
 },
 "nbformat": 4,
 "nbformat_minor": 5
}
