{
 "cells": [
  {
   "cell_type": "markdown",
   "id": "4a72e484-4f38-4311-a545-a1e88ec65b87",
   "metadata": {
    "tags": []
   },
   "source": [
    "### QC/trimming pilot_past\n"
   ]
  },
  {
   "cell_type": "code",
   "execution_count": null,
   "id": "f1914860-b90f-4016-88e9-aded58358476",
   "metadata": {},
   "outputs": [],
   "source": [
    "#INSTALLATION\n",
    "module load miniconda/22.11.1-1\n",
    "conda create -n qc\n",
    "conda activate qc\n",
    "conda install -c bioconda trim-galore"
   ]
  },
  {
   "cell_type": "code",
   "execution_count": null,
   "id": "a2727d93-2130-4a05-82b3-ddb1dfafde55",
   "metadata": {},
   "outputs": [],
   "source": [
    "# make sample list \n",
    "\n",
    "FILEPATH='/project/pi_sarah_gignouxwolfsohn_uml_edu/Raw_sequences/SCTLD_raw/renamed/pilot_copy'\n",
    "OUTPUT_RESULTS='/project/pi_sarah_gignouxwolfsohn_uml_edu/brooke/pilot_past'\n",
    "\n",
    "# create a file that gives all the unique filenames in the directory with the data, without the f/r specifiers\n",
    "ls $FILEPATH -1 | sed 's/_R.*_001.fastq//' | uniq | cat > $OUTPUT_RESULTS/'pp_sampleids.txt'\n",
    "\n",
    "#ensure all samples got copied over \n",
    "ls $FILEPATH -1 | wc -l # should be double:\n",
    "wc -l $OUTPUT_RESULTS/pp_sampleids.txt "
   ]
  },
  {
   "cell_type": "code",
   "execution_count": null,
   "id": "91a2a342-b8fc-4155-b4ea-965deacca756",
   "metadata": {},
   "outputs": [],
   "source": [
    "#!/bin/bash\n",
    "#SBATCH -c 24  # Number of Cores per Task\n",
    "#SBATCH --mem=50G  # Requested Memory\n",
    "#SBATCH -p cpu  # Partition\n",
    "#SBATCH -t 24:00:00  # Job time limit\n",
    "#SBATCH --mail-type=ALL\n",
    "#SBATCH -o /project/pi_sarah_gignouxwolfsohn_uml_edu/brooke/pilot_past/slurm-qc-%j.out  # %j = job ID\n",
    "\n",
    "# Run qc with trim galore and fastqc\n",
    "module load miniconda/22.11.1-1\n",
    "conda activate qc\n",
    "\n",
    "# Define the paths and variables\n",
    "FILEPATH='/project/pi_sarah_gignouxwolfsohn_uml_edu/Raw_sequences/SCTLD_raw/renamed/pilot_copy'\n",
    "OUTPUT_RESULTS='/project/pi_sarah_gignouxwolfsohn_uml_edu/brooke/pilot_past'\n",
    "NSLOTS=16\n",
    "\n",
    "#create filename if not already created\n",
    "#ls $FILEPATH -1 | sed 's/_R.*_001.fastq.gz//' | uniq | cat > $OUTPUT_RESULTS/'mcav_sampleids.txt'\n",
    "\n",
    "SAMPLE_NAMES_FILE=\"${OUTPUT_RESULTS}/pp_sampleids.txt\"\n",
    "mkdir $OUTPUT_RESULTS/trimmed_redo\n",
    "\n",
    "# Check if the file exists\n",
    "if [ ! -e \"$SAMPLE_NAMES_FILE\" ]; then\n",
    "    echo \"Error: $SAMPLE_NAMES_FILE does not exist.\"\n",
    "    exit 1\n",
    "fi\n",
    "\n",
    "# Read each line from the file and perform actions\n",
    "while IFS= read -r sample_id; do\n",
    "    # Form the full file names\n",
    "    input_r1=\"$FILEPATH/${sample_id}_R1_001.fastq\"\n",
    "    input_r2=\"$FILEPATH/${sample_id}_R2_001.fastq\"\n",
    "    \n",
    "    # Ensure the input files exist before running the tools\n",
    "    if [ ! -e \"$input_r1\" ] || [ ! -e \"$input_r2\" ]; then\n",
    "        echo \"Error: Input files do not exist for sample $sample_id\"\n",
    "        continue\n",
    "    fi\n",
    "\n",
    "    # Run trim_galore\n",
    "    trim_galore -j \"$NSLOTS\" -q 20 --phred33 --length 20 --paired $input_r1 $input_r2 --fastqc -o $OUTPUT_RESULTS/trimmed_redo --dont_gzip\n",
    "\n",
    "\n",
    "done < \"$SAMPLE_NAMES_FILE\"\n",
    "\n",
    "# run multiqc to view qc results\n",
    "conda deactivate\n",
    "conda activate multiqc \n",
    "\n",
    "cd $OUTPUT_RESULTS/trimmed_redo\n",
    "multiqc .\n",
    "\n",
    "# bash script file name: qc\n",
    "# JOB-ID: 22262655\n",
    "#trimmed read seqs in folder: brooke/pilot_past/trimmed_redo"
   ]
  },
  {
   "cell_type": "markdown",
   "id": "356dd3b7-447b-477a-a204-d64291b8a753",
   "metadata": {},
   "source": [
    "### Fastqc info "
   ]
  },
  {
   "cell_type": "markdown",
   "id": "e320ab2a-124b-47d3-8041-b76dbac24b1e",
   "metadata": {},
   "source": [
    "https://hbctraining.github.io/Intro-to-rnaseq-hpc-salmon/lessons/qc_fastqc_assessment.html\n",
    "\n",
    "https://www.bioinformatics.babraham.ac.uk/projects/fastqc/"
   ]
  },
  {
   "cell_type": "markdown",
   "id": "7cec300e-9a9b-4dc1-a30d-d8233e36d02f",
   "metadata": {},
   "source": [
    "### Multiqc \n",
    "- https://github.com/MultiQC/MultiQC\n",
    "- summarizes fastqc reports to one html file\n",
    "- doesn't perform analysis just summarizes already existing reports"
   ]
  },
  {
   "cell_type": "markdown",
   "id": "19fa7305-7b8c-4313-bdad-a37006a9bdfc",
   "metadata": {},
   "source": [
    "file:///Users/brookesienkiewicz/Downloads/multiqc_report%20(6).html"
   ]
  },
  {
   "cell_type": "markdown",
   "id": "59db1709-750a-4921-938b-6893887c82d8",
   "metadata": {},
   "source": [
    "062019-T3-21-mmea & 062019-t3-4-past\n",
    "- too long: 300bp instead of 150bp...were likely one of the first sets sequenced differently so EXCLUDING from further analysis\n",
    "062019-T3-6-MCAV\n",
    "- non-normally distributed GC content"
   ]
  }
 ],
 "metadata": {
  "kernelspec": {
   "display_name": "Python 3 (ipykernel)",
   "language": "python",
   "name": "python3"
  },
  "language_info": {
   "codemirror_mode": {
    "name": "ipython",
    "version": 3
   },
   "file_extension": ".py",
   "mimetype": "text/x-python",
   "name": "python",
   "nbconvert_exporter": "python",
   "pygments_lexer": "ipython3",
   "version": "3.11.0"
  }
 },
 "nbformat": 4,
 "nbformat_minor": 5
}
