{
 "cells": [
  {
   "cell_type": "markdown",
   "id": "20751f43-626d-418c-ae3b-4c188ff39ddd",
   "metadata": {},
   "source": [
    "**Megahit**\n",
    "https://www.metagenomics.wiki/tools/assembly/megahit\n",
    "- de novo assembly (w/o reference genome)\n",
    "- aligns/assembles short reads together to reconstruct one 'metagenome'\n",
    "- assembled contigs are stored in fasta file\n",
    "- input: trimmed/qc fastq (fq)\n",
    "- output: "
   ]
  },
  {
   "cell_type": "code",
   "execution_count": null,
   "id": "169dddb5-8b1f-4f42-bf94-ffa5d19a8197",
   "metadata": {},
   "outputs": [],
   "source": [
    "#!/bin/bash\n",
    "#SBATCH -c 24  # Number of Cores per Task\n",
    "#SBATCH --mem=180G  # Requested Memory\n",
    "#SBATCH -p cpu-long  # Partition\n",
    "#SBATCH -t 56:00:00  # Job time limit\n",
    "#SBATCH --mail-type=ALL\n",
    "#SBATCH -o /project/pi_sarah_gignouxwolfsohn_uml_edu/brooke/bash_scripts/slurm-%j.out  # %j = job ID\n",
    "\n",
    "module load miniconda/22.11.1-1\n",
    "conda activate assembly\n",
    "\n",
    "#set up variables\n",
    "READSPATH=/project/pi_sarah_gignouxwolfsohn_uml_edu/brooke/working/11272023/trimmed\n",
    "SAMPLENAME=CBC\n",
    "OUTDIR=\"$SAMPLENAME\"_assembly\n",
    "\n",
    "#concatenate all forward reads to one fastq file\n",
    "cat \"$READSPATH\"/*_R1*.fq > \"$READSPATH\"/\"$SAMPLENAME\"_reads_R1_ALL.fastq\n",
    "\n",
    "#concatenate all reverse reads to one fastq file\n",
    "cat \"$READSPATH\"/*_R2*.fq > \"$READSPATH\"/\"$SAMPLENAME\"_reads_R2_ALL.fastq\n",
    "\n",
    "megahit --presets meta-large \\\n",
    "-1 \"$READSPATH\"/\"$SAMPLENAME\"_reads_R1_ALL.fastq \\\n",
    "-2 \"$READSPATH\"/\"$SAMPLENAME\"_reads_R2_ALL.fastq \\\n",
    "--keep-tmp-files \\\n",
    "-o /project/pi_sarah_gignouxwolfsohn_uml_edu/brooke/working/11272023/$OUTDIR --out-prefix $SAMPLENAME \n",
    "#makes dir or do you need to mkdir beforehand???\n",
    "#file: /project/pi_sarah_gignouxwolfsohn_uml_edu/brooke/11_2023bash_scripts/assembly\n",
    "#JOB ID: 15972157"
   ]
  }
 ],
 "metadata": {
  "kernelspec": {
   "display_name": "Python 3 (ipykernel)",
   "language": "python",
   "name": "python3"
  },
  "language_info": {
   "codemirror_mode": {
    "name": "ipython",
    "version": 3
   },
   "file_extension": ".py",
   "mimetype": "text/x-python",
   "name": "python",
   "nbconvert_exporter": "python",
   "pygments_lexer": "ipython3",
   "version": "3.11.0"
  }
 },
 "nbformat": 4,
 "nbformat_minor": 5
}
