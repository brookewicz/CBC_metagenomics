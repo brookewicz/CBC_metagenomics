{
 "cells": [
  {
   "cell_type": "code",
   "execution_count": null,
   "id": "793f45fd-8189-4e5b-b99f-445ce462c330",
   "metadata": {},
   "outputs": [],
   "source": [
    "metaquast mcav.contigs.fa -o quast_output\n",
    "#metaquast - quality assessment of metagenomic reads, no reference genome included"
   ]
  },
  {
   "cell_type": "markdown",
   "id": "d5c9976c-f4f3-4d22-aa31-aed75133a0b7",
   "metadata": {},
   "source": [
    "https://quast.sourceforge.net/docs/manual.html#sec1\n",
    "..how to interpret quality results?\n",
    "- check how many large contigs you have (>1000 bp)\n",
    "- did not map to reference genome.\n",
    "- right now just helpful to see length and quality of contigs, maybe can reassess after mapping back to metagenome?\n",
    "Cite metaquast: https://quast.sourceforge.net/publications.html"
   ]
  },
  {
   "cell_type": "code",
   "execution_count": null,
   "id": "ba679cd6-4a9c-42f8-ab23-c836bbeb6e62",
   "metadata": {},
   "outputs": [],
   "source": [
    "conda create -n anvio-7.1\n",
    "#dir=/home/brooke_sienkiewicz_student_uml_edu/.conda/envs/anvio-7.1\n"
   ]
  },
  {
   "cell_type": "markdown",
   "id": "a89b912f-1e44-4f59-9689-5d0c66213938",
   "metadata": {},
   "source": [
    "Mapping\n",
    "- reassembling contigs back to metagenome \n",
    "- only use contigs >1000 bp"
   ]
  },
  {
   "cell_type": "code",
   "execution_count": null,
   "id": "612967b6-6520-472e-bfc3-5a4a61ca15fc",
   "metadata": {},
   "outputs": [],
   "source": [
    "#!/bin/bash\n",
    "#SBATCH -c 24  # Number of Cores per Task\n",
    "#SBATCH --mem=50G  # Requested Memory\n",
    "#SBATCH -p cpu  # Partition\n",
    "#SBATCH -t 20:00:00  # Job time limit\n",
    "#SBATCH --mail-type=ALL\n",
    "#SBATCH -o slurm-%j.out  # %j = job ID\n",
    "\n",
    "module load miniconda/22.11.1-1\n",
    "conda activate anvio-7.1\n",
    "\n",
    "SAMPLENAME=mcav\n",
    "READSPATH=/project/pi_sarah_gignouxwolfsohn_uml_edu/brooke/trimmed\n",
    "CONTIGPATH=/project/pi_sarah_gignouxwolfsohn_uml_edu/brooke/results\n",
    "CONTIGFILE=mcav.contigs.fa\n",
    "\n",
    "anvi-script-reformat-fasta $CONTIGPATH/$CONTIGFILE -o $CONTIGPATH/$SAMPLENAME.contigs-fixed.fa -l 1000 --simplify-names\n",
    "#fixes deflines for later and filters on size (set to 1000 bp)\n",
    "\n",
    "FIXEDCON=\"$SAMPLENAME\".contigs-fixed.fa\n",
    "\n",
    "bowtie2-build $CONTIGPATH/$FIXEDCON ../working/\"$SAMPLENAME\"_contigs\n",
    "#this builds an index of your contigs, which only needs to happen once\n",
    "\n",
    "for f in <T1_12_2022> <T1_13_2022> <T1_16_2019> <T1_20_2019> <T1_24_2019> <T1_40_2022> <T1_57_2022> <T1_70_2022> <T2_10_2022> <T2_16_2019> <T3_13_2022> <T3_14_2019> <T3_15_2019> <T3_19_2022> <T3_1_2019> <T3_40_2022> <T3_48_2022> <T3_49_2022> <T3_51_2022> <T3_60_2022> <T3_8_2019> <T3_9_2019>\n",
    "do\n",
    "bowtie2 --threads 11 -x ../working/\"$SAMPLENAME\"_contigs -1 $READSPATH/\"$f”_MCAV_R1_001_val_1.fq -2 $READSPATH/\"$f”_MCAV_R2_001_val_2.fastq -S ../working/\"$f\".sam\n",
    "#this creates an alignment of your reads to your contigs and collects that in a .sam file\n",
    "\n",
    "samtools view -F 4 -b -S ../working/\"$f\".sam -o ../working/\"$f\"-RAW.bam\n",
    "#this converts your sam file to a bam file, but its neither sorted nor indexed, so we use an Anvi'O script to do so:\n",
    "\n",
    "anvi-init-bam ../working/\"$f\"_-RAW.bam -o ../results/index/\"$f\".bam\n",
    "#as said, this is how you index and sort your bam file\n",
    "\n",
    "rm ../data/working/\"$f\"-RAW.bam\n",
    "done\n",
    "\n",
    "\n",
    "\n",
    "#bash script: mapping.txt"
   ]
  }
 ],
 "metadata": {
  "kernelspec": {
   "display_name": "Python 3 (ipykernel)",
   "language": "python",
   "name": "python3"
  },
  "language_info": {
   "codemirror_mode": {
    "name": "ipython",
    "version": 3
   },
   "file_extension": ".py",
   "mimetype": "text/x-python",
   "name": "python",
   "nbconvert_exporter": "python",
   "pygments_lexer": "ipython3",
   "version": "3.11.0"
  }
 },
 "nbformat": 4,
 "nbformat_minor": 5
}
